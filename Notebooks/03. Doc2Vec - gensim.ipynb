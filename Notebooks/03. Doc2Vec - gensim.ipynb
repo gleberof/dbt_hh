{
 "cells": [
  {
   "cell_type": "code",
   "execution_count": 1,
   "metadata": {},
   "outputs": [],
   "source": [
    "%load_ext autoreload\n",
    "%autoreload 2\n",
    "import telepot\n",
    "bot = telepot.Bot('436447719:AAGq_iK2hE3cPFhmL9Jh53g9HyVkw3SXZbg')\n",
    "def qq(txt):\n",
    "    bot.sendMessage(1114926, txt)"
   ]
  },
  {
   "cell_type": "code",
   "execution_count": 2,
   "metadata": {},
   "outputs": [],
   "source": [
    "qq('start')"
   ]
  },
  {
   "cell_type": "code",
   "execution_count": 3,
   "metadata": {},
   "outputs": [],
   "source": [
    "import json\n",
    "import gzip\n",
    "from itertools import islice\n",
    "from collections import Counter, defaultdict\n",
    "from operator import itemgetter\n",
    "import pyarrow.parquet as pq\n",
    "import pyarrow as pa\n",
    "\n",
    "import pandas as pd\n",
    "from tqdm.notebook import tqdm\n",
    "import dill\n",
    "import os\n",
    "from pqdm.processes import pqdm\n",
    "import re\n",
    "\n",
    "from workers import *\n",
    "    \n",
    "from gensim.test.utils import common_texts\n",
    "from gensim.models.doc2vec import Doc2Vec, TaggedDocument\n",
    "from gensim.models.callbacks import CallbackAny2Vec\n",
    "\n",
    "import random\n",
    "import collections"
   ]
  },
  {
   "cell_type": "code",
   "execution_count": 5,
   "metadata": {},
   "outputs": [],
   "source": [
    "data_path = '..\\\\Data\\\\In\\\\'\n",
    "submissions_path =  '..\\\\Submissions\\\\'"
   ]
  },
  {
   "cell_type": "code",
   "execution_count": 6,
   "metadata": {},
   "outputs": [
    {
     "name": "stdout",
     "output_type": "stream",
     "text": [
      "CPU times: user 11.8 s, sys: 5.58 s, total: 17.3 s\n",
      "Wall time: 14.8 s\n"
     ]
    }
   ],
   "source": [
    "%%time\n",
    "df = pd.read_parquet('df_text.pq')"
   ]
  },
  {
   "cell_type": "code",
   "execution_count": 7,
   "metadata": {},
   "outputs": [
    {
     "name": "stdout",
     "output_type": "stream",
     "text": [
      "CPU times: user 20.2 s, sys: 5.95 s, total: 26.2 s\n",
      "Wall time: 26.2 s\n"
     ]
    }
   ],
   "source": [
    "%%time\n",
    "df['text_list'] = df['processed_text'].apply(lambda x: x.split(' '))"
   ]
  },
  {
   "cell_type": "code",
   "execution_count": 8,
   "metadata": {},
   "outputs": [],
   "source": [
    "df['txt_words'] = df['text_list'].apply(len)"
   ]
  },
  {
   "cell_type": "code",
   "execution_count": 9,
   "metadata": {},
   "outputs": [],
   "source": [
    "df['txt_len'] = df['text_list'].apply(lambda x: sum([len(w) for w in x]))"
   ]
  },
  {
   "cell_type": "code",
   "execution_count": 10,
   "metadata": {},
   "outputs": [
    {
     "data": {
      "text/html": [
       "<div>\n",
       "<style scoped>\n",
       "    .dataframe tbody tr th:only-of-type {\n",
       "        vertical-align: middle;\n",
       "    }\n",
       "\n",
       "    .dataframe tbody tr th {\n",
       "        vertical-align: top;\n",
       "    }\n",
       "\n",
       "    .dataframe thead th {\n",
       "        text-align: right;\n",
       "    }\n",
       "</style>\n",
       "<table border=\"1\" class=\"dataframe\">\n",
       "  <thead>\n",
       "    <tr style=\"text-align: right;\">\n",
       "      <th></th>\n",
       "      <th>vacancy_id</th>\n",
       "      <th>name</th>\n",
       "      <th>specializations</th>\n",
       "      <th>key_skills</th>\n",
       "      <th>employer</th>\n",
       "      <th>groups_of_spec</th>\n",
       "      <th>processed_text</th>\n",
       "      <th>key_list</th>\n",
       "      <th>name_list</th>\n",
       "      <th>text_list</th>\n",
       "      <th>txt_words</th>\n",
       "      <th>txt_len</th>\n",
       "    </tr>\n",
       "  </thead>\n",
       "  <tbody>\n",
       "    <tr>\n",
       "      <th>4</th>\n",
       "      <td>2700005</td>\n",
       "      <td>Разработчик Python/django</td>\n",
       "      <td>[137, 221, 296]</td>\n",
       "      <td></td>\n",
       "      <td>845fe6266ab1</td>\n",
       "      <td>[1]</td>\n",
       "      <td>небольшой дружный команда требоваться опытный ...</td>\n",
       "      <td>[]</td>\n",
       "      <td>[Разработчик, Python/django]</td>\n",
       "      <td>[небольшой, дружный, команда, требоваться, опы...</td>\n",
       "      <td>90</td>\n",
       "      <td>685</td>\n",
       "    </tr>\n",
       "    <tr>\n",
       "      <th>5</th>\n",
       "      <td>2700006</td>\n",
       "      <td>Торговый представитель</td>\n",
       "      <td>[149, 242]</td>\n",
       "      <td>работа текущий база клиент мерчендайзинг работ...</td>\n",
       "      <td>23ead4a8f164</td>\n",
       "      <td>[17]</td>\n",
       "      <td>обязанность компания дистрибьютор продукт пита...</td>\n",
       "      <td>[работа, текущий, база, клиент, мерчендайзинг,...</td>\n",
       "      <td>[Торговый, представитель]</td>\n",
       "      <td>[обязанность, компания, дистрибьютор, продукт,...</td>\n",
       "      <td>47</td>\n",
       "      <td>410</td>\n",
       "    </tr>\n",
       "  </tbody>\n",
       "</table>\n",
       "</div>"
      ],
      "text/plain": [
       "   vacancy_id                       name  specializations  \\\n",
       "4     2700005  Разработчик Python/django  [137, 221, 296]   \n",
       "5     2700006     Торговый представитель       [149, 242]   \n",
       "\n",
       "                                          key_skills      employer  \\\n",
       "4                                                     845fe6266ab1   \n",
       "5  работа текущий база клиент мерчендайзинг работ...  23ead4a8f164   \n",
       "\n",
       "  groups_of_spec                                     processed_text  \\\n",
       "4            [1]  небольшой дружный команда требоваться опытный ...   \n",
       "5           [17]  обязанность компания дистрибьютор продукт пита...   \n",
       "\n",
       "                                            key_list  \\\n",
       "4                                                 []   \n",
       "5  [работа, текущий, база, клиент, мерчендайзинг,...   \n",
       "\n",
       "                      name_list  \\\n",
       "4  [Разработчик, Python/django]   \n",
       "5     [Торговый, представитель]   \n",
       "\n",
       "                                           text_list  txt_words  txt_len  \n",
       "4  [небольшой, дружный, команда, требоваться, опы...         90      685  \n",
       "5  [обязанность, компания, дистрибьютор, продукт,...         47      410  "
      ]
     },
     "execution_count": 10,
     "metadata": {},
     "output_type": "execute_result"
    }
   ],
   "source": [
    "df.head(2)"
   ]
  },
  {
   "cell_type": "code",
   "execution_count": 9,
   "metadata": {},
   "outputs": [
    {
     "data": {
      "text/plain": [
       "(22410, 12)"
      ]
     },
     "execution_count": 9,
     "metadata": {},
     "output_type": "execute_result"
    }
   ],
   "source": [
    "df[df['txt_words'] > 300].shape"
   ]
  },
  {
   "cell_type": "code",
   "execution_count": 10,
   "metadata": {},
   "outputs": [
    {
     "data": {
      "text/plain": [
       "<matplotlib.axes._subplots.AxesSubplot at 0x7fca41590890>"
      ]
     },
     "execution_count": 10,
     "metadata": {},
     "output_type": "execute_result"
    },
    {
     "data": {
      "image/png": "[encoded data removed]",
      "text/plain": [
       "<Figure size 432x288 with 1 Axes>"
      ]
     },
     "metadata": {
      "needs_background": "light"
     },
     "output_type": "display_data"
    }
   ],
   "source": [
    "df[df['txt_words'] < 200]['txt_words'].hist(bins=20)"
   ]
  },
  {
   "cell_type": "code",
   "execution_count": 11,
   "metadata": {},
   "outputs": [],
   "source": [
    "def txt_2_td(x):\n",
    "    return TaggedDocument(x[1], [str(x[0])])"
   ]
  },
  {
   "cell_type": "code",
   "execution_count": 12,
   "metadata": {},
   "outputs": [
    {
     "name": "stdout",
     "output_type": "stream",
     "text": [
      "CPU times: user 55.2 s, sys: 578 ms, total: 55.8 s\n",
      "Wall time: 55.8 s\n"
     ]
    }
   ],
   "source": [
    "%%time\n",
    "document_text = df[['vacancy_id', 'text_list']].apply(txt_2_td, axis = 1).to_list()"
   ]
  },
  {
   "cell_type": "code",
   "execution_count": 13,
   "metadata": {},
   "outputs": [
    {
     "data": {
      "text/plain": [
       "TaggedDocument(words=['небольшой', 'дружный', 'команда', 'требоваться', 'опытный', 'python', 'django', 'разработка', 'сложный', 'интересный', 'информационный', 'система', 'искать', 'поиск', 'ответственный', 'человек', 'заинтересованный', 'совершенствование', 'собственный', 'профессиональный', 'навык', 'общительный', 'нацеливать', 'командный', 'работа', 'ожидать', 'опыт', 'промышленный', 'разработка', 'проект', 'использование', 'restful', 'хороший', 'владение', 'python', 'django', 'плюс', 'умение', 'оптимизировать', 'sql', 'запрос', 'опыт', 'работа', 'команда', 'знание', 'git', 'опыт', 'работа', 'баг', 'трекер', 'обязанность', 'разработка', 'back', 'end', 'разработка', 'архитектура', 'система', 'внутренний', 'публичный', 'api', 'новый', 'проект', 'реализация', 'новый', 'модуль', 'система', 'доработка', 'оптимизация', 'существующий', 'модуль', 'система', 'анализ', 'исправление', 'ошибка', 'использовать', 'python', 'django', 'celery', 'postgres', 'django', 'rest', 'framework', 'sentry', 'сбор', 'ошибка', 'elk', 'логово', 'grafana', 'мониторинг', 'jira'], tags=['2700005'])"
      ]
     },
     "execution_count": 13,
     "metadata": {},
     "output_type": "execute_result"
    }
   ],
   "source": [
    "document_text[0]"
   ]
  },
  {
   "cell_type": "code",
   "execution_count": 14,
   "metadata": {},
   "outputs": [
    {
     "data": {
      "text/plain": [
       "1456325"
      ]
     },
     "execution_count": 14,
     "metadata": {},
     "output_type": "execute_result"
    }
   ],
   "source": [
    "len(document_text)"
   ]
  },
  {
   "cell_type": "code",
   "execution_count": 16,
   "metadata": {},
   "outputs": [],
   "source": [
    "model = Doc2Vec(vector_size=100, min_count=2, epochs=10)"
   ]
  },
  {
   "cell_type": "code",
   "execution_count": 18,
   "metadata": {},
   "outputs": [
    {
     "data": {
      "text/plain": [
       "5"
      ]
     },
     "execution_count": 18,
     "metadata": {},
     "output_type": "execute_result"
    }
   ],
   "source": [
    "Doc2Vec.load()"
   ]
  },
  {
   "cell_type": "code",
   "execution_count": 12,
   "metadata": {},
   "outputs": [
    {
     "name": "stdout",
     "output_type": "stream",
     "text": [
      "CPU times: user 7min 58s, sys: 5.79 s, total: 8min 4s\n",
      "Wall time: 8min 3s\n"
     ]
    }
   ],
   "source": [
    "%%time\n",
    "model.build_vocab(document_text)"
   ]
  },
  {
   "cell_type": "code",
   "execution_count": 17,
   "metadata": {},
   "outputs": [],
   "source": [
    "qq('Vocab ready')"
   ]
  },
  {
   "cell_type": "code",
   "execution_count": 19,
   "metadata": {},
   "outputs": [],
   "source": [
    "class ProgressMeter(CallbackAny2Vec):\n",
    "    def __init__(self):\n",
    "        self.epoch = 0\n",
    "        self.batch = 0\n",
    "    def on_epoch_begin(self, model):\n",
    "        self.batch = 0\n",
    "        print(f'Start epoch {self.epoch}')\n",
    "        self.epoch += 1\n",
    "        \n",
    "#     def on_batch_begin(self, model):\n",
    "#         print(f'Start batch {self.batch}')\n",
    "\n",
    "    def on_epoch_end(self, model):\n",
    "        self.epoch += 1\n",
    "        "
   ]
  },
  {
   "cell_type": "code",
   "execution_count": 21,
   "metadata": {},
   "outputs": [
    {
     "name": "stdout",
     "output_type": "stream",
     "text": [
      "Start epoch 0\n",
      "Start epoch 2\n",
      "Start epoch 4\n",
      "Start epoch 6\n",
      "Start epoch 8\n",
      "Start epoch 10\n",
      "Start epoch 12\n",
      "Start epoch 14\n",
      "Start epoch 16\n",
      "Start epoch 18\n",
      "CPU times: user 1h 26min 29s, sys: 4min 10s, total: 1h 30min 40s\n",
      "Wall time: 40min 23s\n"
     ]
    }
   ],
   "source": [
    "%%time\n",
    "model.train(document_text, total_examples=model.corpus_count, epochs=model.epochs, callbacks=[ProgressMeter()])"
   ]
  },
  {
   "cell_type": "code",
   "execution_count": 22,
   "metadata": {},
   "outputs": [],
   "source": [
    "qq('Model ready')"
   ]
  },
  {
   "cell_type": "code",
   "execution_count": 23,
   "metadata": {},
   "outputs": [],
   "source": [
    "model.save(open('d2vmodel_100_e10.bin', 'wb'))"
   ]
  },
  {
   "cell_type": "code",
   "execution_count": 120,
   "metadata": {},
   "outputs": [],
   "source": [
    "model = Doc2Vec(vector_size=50, min_count=3, epochs=20, window = 50, seed = 42, workers = 12, negative = 5)"
   ]
  },
  {
   "cell_type": "code",
   "execution_count": 121,
   "metadata": {},
   "outputs": [
    {
     "name": "stdout",
     "output_type": "stream",
     "text": [
      "CPU times: user 7min 56s, sys: 4.78 s, total: 8min 1s\n",
      "Wall time: 8min\n"
     ]
    }
   ],
   "source": [
    "%%time\n",
    "model.build_vocab(document_text)"
   ]
  },
  {
   "cell_type": "code",
   "execution_count": 122,
   "metadata": {},
   "outputs": [],
   "source": [
    "qq('Vocab ready')"
   ]
  },
  {
   "cell_type": "code",
   "execution_count": null,
   "metadata": {},
   "outputs": [],
   "source": [
    "%%time\n",
    "model.train(document_text, total_examples=model.corpus_count, epochs=model.epochs, callbacks=[ProgressMeter()])"
   ]
  },
  {
   "cell_type": "code",
   "execution_count": null,
   "metadata": {},
   "outputs": [],
   "source": [
    "qq('Model ready')"
   ]
  },
  {
   "cell_type": "code",
   "execution_count": null,
   "metadata": {},
   "outputs": [],
   "source": [
    "model.save(open('d2vmodel50_mc3_e20_win150_neg5.bin', 'wb'))"
   ]
  },
  {
   "cell_type": "code",
   "execution_count": 11,
   "metadata": {},
   "outputs": [],
   "source": [
    "model = Doc2Vec.load('models/vector_size:50_min_count:2_epochs:10_window:5_seed:42_workers:12_negative:5.bin')"
   ]
  },
  {
   "cell_type": "code",
   "execution_count": 39,
   "metadata": {},
   "outputs": [],
   "source": [
    "dill.dump(document_text, open('tagged_docs.bin', 'wb'))"
   ]
  },
  {
   "cell_type": "code",
   "execution_count": 37,
   "metadata": {},
   "outputs": [],
   "source": [
    "dill.dump(word_freq, open('word_freq.bin', 'wb'))"
   ]
  },
  {
   "cell_type": "code",
   "execution_count": null,
   "metadata": {},
   "outputs": [],
   "source": [
    "#from gensim.test.utils`a import get_tmpfile"
   ]
  },
  {
   "cell_type": "code",
   "execution_count": null,
   "metadata": {},
   "outputs": [],
   "source": [
    "#fname = get_tmpfile(\"my_doc2vec_model\")"
   ]
  },
  {
   "cell_type": "markdown",
   "metadata": {},
   "source": [
    "# Asserting model"
   ]
  },
  {
   "cell_type": "code",
   "execution_count": 13,
   "metadata": {},
   "outputs": [],
   "source": [
    "import gc"
   ]
  },
  {
   "cell_type": "code",
   "execution_count": 14,
   "metadata": {},
   "outputs": [
    {
     "data": {
      "text/plain": [
       "153"
      ]
     },
     "execution_count": 14,
     "metadata": {},
     "output_type": "execute_result"
    }
   ],
   "source": [
    "gc.collect()"
   ]
  },
  {
   "cell_type": "code",
   "execution_count": null,
   "metadata": {},
   "outputs": [],
   "source": []
  },
  {
   "cell_type": "code",
   "execution_count": 15,
   "metadata": {},
   "outputs": [],
   "source": [
    "docs_ids = [tg.tags[0] for tg in document_text]"
   ]
  },
  {
   "cell_type": "code",
   "execution_count": 16,
   "metadata": {},
   "outputs": [],
   "source": [
    "TOPN = 10 # len(model.docvecs)\n",
    "FULL = len(model.docvecs)\n",
    "def rank_calc(doc_id):\n",
    "    inferred_vector = model.infer_vector(document_text[doc_id].words)\n",
    "    sims = model.docvecs.most_similar([inferred_vector], topn=TOPN)\n",
    "    try:\n",
    "        rank = [docid for docid, sim in sims].index(document_text[doc_id].tags[0])\n",
    "    except:\n",
    "        rank = 11\n",
    "#         sims = model.docvecs.most_similar([inferred_vector], topn=FULL)\n",
    "#         rank = [docid for docid, sim in sims].index(document_text[doc_id].tags[0])\n",
    "    \n",
    "    return (doc_id, rank, sims)"
   ]
  },
  {
   "cell_type": "code",
   "execution_count": 42,
   "metadata": {},
   "outputs": [],
   "source": [
    "# rank_res = pqdm(range(len(document_text)), rank_calc, n_jobs = 10)"
   ]
  },
  {
   "cell_type": "code",
   "execution_count": 17,
   "metadata": {},
   "outputs": [
    {
     "data": {
      "application/vnd.jupyter.widget-view+json": {
       "model_id": "8a44e12c91424e2fa9b2e55f77f563cf",
       "version_major": 2,
       "version_minor": 0
      },
      "text/plain": [
       "HBox(children=(FloatProgress(value=0.0), HTML(value='')))"
      ]
     },
     "metadata": {},
     "output_type": "display_data"
    },
    {
     "name": "stdout",
     "output_type": "stream",
     "text": [
      "\n"
     ]
    }
   ],
   "source": [
    "num_samples = 100\n",
    "doc_samples = random.sample(range(len(document_text)),num_samples)\n",
    "low_bound = random.randint(0, len(document_text) - num_samples - 1)\n",
    "result = []\n",
    "for doc_id in tqdm(doc_samples, total=num_samples):\n",
    "    result.append(rank_calc(doc_id))"
   ]
  },
  {
   "cell_type": "code",
   "execution_count": 16,
   "metadata": {},
   "outputs": [],
   "source": [
    "import model_doc2vec\n",
    "from model_doc2vec import ProgressMeter"
   ]
  },
  {
   "cell_type": "code",
   "execution_count": 9,
   "metadata": {},
   "outputs": [],
   "source": [
    "document_text = dill.load(open('tagged_docs.bin','rb'))"
   ]
  },
  {
   "cell_type": "code",
   "execution_count": 17,
   "metadata": {},
   "outputs": [],
   "source": [
    "import functools\n",
    "import operator\n",
    "full_text = functools.reduce(operator.iconcat, [d.words for d in document_text], [])"
   ]
  },
  {
   "cell_type": "code",
   "execution_count": 31,
   "metadata": {},
   "outputs": [],
   "source": [
    "corpus_count = len(full_text)"
   ]
  },
  {
   "cell_type": "code",
   "execution_count": 32,
   "metadata": {},
   "outputs": [],
   "source": [
    "word_freq = Counter(full_text)"
   ]
  },
  {
   "cell_type": "code",
   "execution_count": 35,
   "metadata": {},
   "outputs": [],
   "source": [
    "model = Doc2Vec(vector_size=50, min_count=3, epochs=20, window = 50, seed = 42, workers = 12, negative = 5)"
   ]
  },
  {
   "cell_type": "code",
   "execution_count": 36,
   "metadata": {},
   "outputs": [],
   "source": [
    "model.build_vocab_from_freq(word_freq)"
   ]
  },
  {
   "cell_type": "code",
   "execution_count": 91,
   "metadata": {},
   "outputs": [],
   "source": [
    "# 0.689 0.179 vector_size:250, min_count:2, epochs:10, window:5, seed:42, workers:12, negative:5\n",
    "# 0.758 0.113 vector_size:300, min_count:2, epochs:10, window:5, seed:42, workers:6, negative:5\n",
    "# 0.774 0.097 vector_size:300, min_count:2, epochs:10, window:7, seed:42, workers:4, negative:10\n",
    "# 0.767 0.112 vector_size:300, min_count:2, epochs:10, window:10, seed:42, workers:4, negative:15\n",
    "# 0.768 0.088 vector_size:300, min_count:2, epochs:10, window:10, seed:42, workers:4, negative:30\n",
    "# 0.816 0.042 vector_size:300, min_count:2, epochs:10, window:7, seed:42, workers:4, negative:30\n",
    "# 0.845 0.026 vector_size:300, min_count:2, epochs:10, window:7, seed:42, workers:4, negative:50"
   ]
  },
  {
   "cell_type": "code",
   "execution_count": 18,
   "metadata": {},
   "outputs": [
    {
     "name": "stdout",
     "output_type": "stream",
     "text": [
      "Preparing DOC2VEC model: vector_size:400, min_count:2, epochs:20, window:5, seed:42, workers:4, negative:20\n",
      "Vocab ready\n",
      "(1456325, 400)\n",
      "Start epoch 0\n",
      "Epoch  takes 0:08:18.877713. Estimate to end 2:37:58.676542\n",
      "Start epoch 1\n",
      "Epoch  takes 0:08:11.201424. Estimate to end 2:28:30.713648\n",
      "Start epoch 2\n",
      "Epoch  takes 0:08:07.016009. Estimate to end 2:19:30.207624\n",
      "Start epoch 3\n",
      "Epoch  takes 0:08:04.352037. Estimate to end 2:10:45.790633\n",
      "Start epoch 4\n",
      "Epoch  takes 0:08:03.638098. Estimate to end 2:02:15.257743\n",
      "Start epoch 5\n",
      "Epoch  takes 0:08:03.097979. Estimate to end 1:53:52.429411\n",
      "Start epoch 6\n",
      "Epoch  takes 0:08:07.266734. Estimate to end 1:45:42.980260\n",
      "Start epoch 7\n",
      "Epoch  takes 0:08:10.148791. Estimate to end 1:37:38.399792\n",
      "Start epoch 8\n",
      "Epoch  takes 0:08:07.581539. Estimate to end 1:29:29.444129\n",
      "Start epoch 9\n",
      "Epoch  takes 0:08:09.622017. Estimate to end 1:21:22.803725\n",
      "Start epoch 10\n",
      "Epoch  takes 0:08:07.429178. Estimate to end 1:13:13.827402\n",
      "Start epoch 11\n",
      "Epoch  takes 0:08:05.897867. Estimate to end 1:05:04.087657\n",
      "Start epoch 12\n",
      "Epoch  takes 0:08:03.148141. Estimate to end 0:56:53.458337\n",
      "Start epoch 13\n",
      "Epoch  takes 0:08:02.558027. Estimate to end 0:48:43.644831\n",
      "Start epoch 14\n",
      "Epoch  takes 0:08:00.788591. Estimate to end 0:40:34.208889\n",
      "Start epoch 15\n",
      "Epoch  takes 0:08:01.008332. Estimate to end 0:32:25.908789\n",
      "Start epoch 16\n",
      "Epoch  takes 0:07:58.415962. Estimate to end 0:24:18.009059\n",
      "Start epoch 17\n",
      "Epoch  takes 0:08:00.824137. Estimate to end 0:16:11.430625\n",
      "Start epoch 18\n",
      "Epoch  takes 0:08:00.438034. Estimate to end 0:08:05.437569\n",
      "Start epoch 19\n",
      "Epoch  takes 0:07:58.316356. Total time: 2:41:41.630622\n",
      "Model ready vector_size:400, min_count:2, epochs:20, window:5, seed:42, workers:4, negative:20\n",
      "0.94 0.005\n"
     ]
    }
   ],
   "source": [
    "model_doc2vec.train_model(document_text=document_text, vector_size=400, min_count=2, epochs=20, window = 5, seed = 42, workers = 4, negative = 20)\n",
    "qq('done')"
   ]
  },
  {
   "cell_type": "code",
   "execution_count": 19,
   "metadata": {},
   "outputs": [],
   "source": [
    "model = Doc2Vec.load('models/vector_size:400_min_count:2_epochs:20_window:5_seed:42_workers:4_negative:20.bin')"
   ]
  },
  {
   "cell_type": "code",
   "execution_count": 20,
   "metadata": {},
   "outputs": [
    {
     "data": {
      "text/plain": [
       "(1456325, 400)"
      ]
     },
     "execution_count": 20,
     "metadata": {},
     "output_type": "execute_result"
    }
   ],
   "source": [
    "model.docvecs.vectors_docs.shape"
   ]
  },
  {
   "cell_type": "code",
   "execution_count": 21,
   "metadata": {},
   "outputs": [],
   "source": [
    "train_indexes = model.docvecs.index2entity"
   ]
  },
  {
   "cell_type": "code",
   "execution_count": 22,
   "metadata": {},
   "outputs": [],
   "source": [
    "train_vectors = model.docvecs.vectors_docs"
   ]
  },
  {
   "cell_type": "code",
   "execution_count": 23,
   "metadata": {},
   "outputs": [],
   "source": [
    "dill.dump(train_indexes, open('train_indexes.bin', 'wb'))"
   ]
  },
  {
   "cell_type": "code",
   "execution_count": 24,
   "metadata": {},
   "outputs": [],
   "source": [
    "dill.dump(train_vectors, open('train_vectors.bin', 'wb'))"
   ]
  },
  {
   "cell_type": "code",
   "execution_count": 25,
   "metadata": {},
   "outputs": [],
   "source": [
    "test_df = pd.read_parquet('test_text.pq')"
   ]
  },
  {
   "cell_type": "code",
   "execution_count": 26,
   "metadata": {},
   "outputs": [
    {
     "name": "stdout",
     "output_type": "stream",
     "text": [
      "CPU times: user 25.3 s, sys: 6.37 s, total: 31.7 s\n",
      "Wall time: 31.7 s\n"
     ]
    }
   ],
   "source": [
    "%%time\n",
    "test_df['text_list'] = test_df['processed_text'].apply(lambda x: x.split(' '))"
   ]
  },
  {
   "cell_type": "code",
   "execution_count": 27,
   "metadata": {},
   "outputs": [],
   "source": [
    "def inf_vec(txt):\n",
    "    return model.infer_vector(txt)"
   ]
  },
  {
   "cell_type": "code",
   "execution_count": 28,
   "metadata": {},
   "outputs": [],
   "source": [
    "import gc"
   ]
  },
  {
   "cell_type": "code",
   "execution_count": 29,
   "metadata": {},
   "outputs": [
    {
     "data": {
      "text/plain": [
       "60"
      ]
     },
     "execution_count": 29,
     "metadata": {},
     "output_type": "execute_result"
    }
   ],
   "source": [
    "gc.collect()"
   ]
  },
  {
   "cell_type": "code",
   "execution_count": 30,
   "metadata": {},
   "outputs": [
    {
     "data": {
      "application/vnd.jupyter.widget-view+json": {
       "model_id": "e86d9c9060b645e3b0965fe383cee83a",
       "version_major": 2,
       "version_minor": 0
      },
      "text/plain": [
       "HBox(children=(FloatProgress(value=0.0, description='SUBMITTING | ', max=1456325.0, style=ProgressStyle(descri…"
      ]
     },
     "metadata": {},
     "output_type": "display_data"
    },
    {
     "name": "stdout",
     "output_type": "stream",
     "text": [
      "\n"
     ]
    },
    {
     "data": {
      "application/vnd.jupyter.widget-view+json": {
       "model_id": "58431f098b7444d1813a30f6239937ea",
       "version_major": 2,
       "version_minor": 0
      },
      "text/plain": [
       "HBox(children=(FloatProgress(value=0.0, description='PROCESSING | ', max=1456325.0, style=ProgressStyle(descri…"
      ]
     },
     "metadata": {},
     "output_type": "display_data"
    },
    {
     "name": "stdout",
     "output_type": "stream",
     "text": [
      "\n"
     ]
    },
    {
     "data": {
      "application/vnd.jupyter.widget-view+json": {
       "model_id": "2ecf4e000c4846e5afdfbb290d686428",
       "version_major": 2,
       "version_minor": 0
      },
      "text/plain": [
       "HBox(children=(FloatProgress(value=0.0, description='COLLECTING | ', max=1456325.0, style=ProgressStyle(descri…"
      ]
     },
     "metadata": {},
     "output_type": "display_data"
    },
    {
     "name": "stdout",
     "output_type": "stream",
     "text": [
      "\n"
     ]
    }
   ],
   "source": [
    "test_vector = pqdm(test_df['text_list'], inf_vec, n_jobs=11)"
   ]
  },
  {
   "cell_type": "code",
   "execution_count": 31,
   "metadata": {},
   "outputs": [],
   "source": [
    "dill.dump(test_vector, open('test_vectors.bin', 'wb'))"
   ]
  },
  {
   "cell_type": "code",
   "execution_count": 32,
   "metadata": {},
   "outputs": [],
   "source": [
    "dill.dump(test_df['vacancy_id'].to_list(), open('test_indexes.bin', 'wb'))"
   ]
  },
  {
   "cell_type": "code",
   "execution_count": 27,
   "metadata": {},
   "outputs": [],
   "source": [
    "spec_df = df[['vacancy_id', 'specializations']].copy()"
   ]
  },
  {
   "cell_type": "code",
   "execution_count": 29,
   "metadata": {},
   "outputs": [],
   "source": [
    "spec_df.set_index('vacancy_id', inplace=True)"
   ]
  },
  {
   "cell_type": "code",
   "execution_count": 35,
   "metadata": {},
   "outputs": [],
   "source": [
    "dill.dump(spec_df.to_dict(orient='dict')['specializations'], open('train_spec.bin', 'wb'))"
   ]
  },
  {
   "cell_type": "code",
   "execution_count": 67,
   "metadata": {},
   "outputs": [],
   "source": [
    "num_samples = 1000\n",
    "TOPN = 10\n",
    "doc_samples = random.sample(range(len(document_text)),num_samples)\n",
    "ranks = []\n",
    "for doc_id in doc_samples:\n",
    "    inferred_vector = model.infer_vector(document_text[doc_id].words)\n",
    "    sims = model.docvecs.most_similar([inferred_vector], topn=TOPN)\n",
    "    try:\n",
    "        ranks.append([docid for docid, sim in sims].index(document_text[doc_id].tags[0]))\n",
    "    except:\n",
    "        ranks.append(11)"
   ]
  },
  {
   "cell_type": "code",
   "execution_count": 18,
   "metadata": {},
   "outputs": [],
   "source": [
    "# ranks = [x[1] for x in result]\n",
    "# sims = [x[2] for x in result]"
   ]
  },
  {
   "cell_type": "code",
   "execution_count": 68,
   "metadata": {},
   "outputs": [
    {
     "data": {
      "text/plain": [
       "Counter({0: 679,\n",
       "         2: 29,\n",
       "         4: 7,\n",
       "         11: 201,\n",
       "         1: 57,\n",
       "         3: 9,\n",
       "         7: 5,\n",
       "         9: 5,\n",
       "         5: 4,\n",
       "         8: 2,\n",
       "         6: 2})"
      ]
     },
     "execution_count": 68,
     "metadata": {},
     "output_type": "execute_result"
    }
   ],
   "source": [
    "collections.Counter(ranks)"
   ]
  },
  {
   "cell_type": "code",
   "execution_count": 109,
   "metadata": {},
   "outputs": [
    {
     "name": "stdout",
     "output_type": "stream",
     "text": [
      "Document (487057): «обязанность продажа мебель интернет магазин прием входить заказ звонок осуществление холодный звонок консультирование покупатель телефон помощь подбор товар отслеживание заказ создание дизайн проект клиент поддержание высокий уровень сервис требование владение компьютер уровень пользователь высокий коммуникативный навык поставлять речь грамотность пунктуальность организованность нацеленность достижение результат условие заработный плата рубль интересный работа крупный компания дружный сплоченный коллектив официальный трудоустройство гарантия стабильность профессиональный карьерный рост бесплатный доставка офис обратно полный рабочий день график работа офис вариант работа удаленный гибкий график рассматриваться»\n",
      "\n",
      "SIMILAR/DISSIMILAR DOCS PER MODEL Doc2Vec(dm/m,d100,n5,w5,mc2,s0.001,t3):\n",
      "\n"
     ]
    },
    {
     "ename": "IndexError",
     "evalue": "list index out of range",
     "output_type": "error",
     "traceback": [
      "\u001b[0;31m---------------------------------------------------------------------------\u001b[0m",
      "\u001b[0;31mIndexError\u001b[0m                                Traceback (most recent call last)",
      "\u001b[0;32m<ipython-input-109-f71512644a4a>\u001b[0m in \u001b[0;36m<module>\u001b[0;34m\u001b[0m\n\u001b[1;32m      3\u001b[0m \u001b[0mprint\u001b[0m\u001b[0;34m(\u001b[0m\u001b[0;34mu'SIMILAR/DISSIMILAR DOCS PER MODEL %s:\\n'\u001b[0m \u001b[0;34m%\u001b[0m \u001b[0mmodel\u001b[0m\u001b[0;34m)\u001b[0m\u001b[0;34m\u001b[0m\u001b[0;34m\u001b[0m\u001b[0m\n\u001b[1;32m      4\u001b[0m \u001b[0;32mfor\u001b[0m \u001b[0mlabel\u001b[0m\u001b[0;34m,\u001b[0m \u001b[0mindex\u001b[0m \u001b[0;32min\u001b[0m \u001b[0;34m[\u001b[0m\u001b[0;34m(\u001b[0m\u001b[0;34m'MOST'\u001b[0m\u001b[0;34m,\u001b[0m \u001b[0;36m0\u001b[0m\u001b[0;34m)\u001b[0m\u001b[0;34m,\u001b[0m \u001b[0;34m(\u001b[0m\u001b[0;34m'SECOND-MOST'\u001b[0m\u001b[0;34m,\u001b[0m \u001b[0;36m1\u001b[0m\u001b[0;34m)\u001b[0m\u001b[0;34m,\u001b[0m \u001b[0;34m(\u001b[0m\u001b[0;34m'MEDIAN'\u001b[0m\u001b[0;34m,\u001b[0m \u001b[0mlen\u001b[0m\u001b[0;34m(\u001b[0m\u001b[0msims\u001b[0m\u001b[0;34m)\u001b[0m\u001b[0;34m//\u001b[0m\u001b[0;36m2\u001b[0m\u001b[0;34m)\u001b[0m\u001b[0;34m,\u001b[0m \u001b[0;34m(\u001b[0m\u001b[0;34m'LEAST'\u001b[0m\u001b[0;34m,\u001b[0m \u001b[0mlen\u001b[0m\u001b[0;34m(\u001b[0m\u001b[0msims\u001b[0m\u001b[0;34m)\u001b[0m \u001b[0;34m-\u001b[0m \u001b[0;36m1\u001b[0m\u001b[0;34m)\u001b[0m\u001b[0;34m]\u001b[0m\u001b[0;34m:\u001b[0m\u001b[0;34m\u001b[0m\u001b[0;34m\u001b[0m\u001b[0m\n\u001b[0;32m----> 5\u001b[0;31m     \u001b[0mprint\u001b[0m\u001b[0;34m(\u001b[0m\u001b[0;34mu'%s %s: «%s»\\n'\u001b[0m \u001b[0;34m%\u001b[0m \u001b[0;34m(\u001b[0m\u001b[0mlabel\u001b[0m\u001b[0;34m,\u001b[0m \u001b[0msims\u001b[0m\u001b[0;34m[\u001b[0m\u001b[0mindex\u001b[0m\u001b[0;34m]\u001b[0m\u001b[0;34m,\u001b[0m \u001b[0;34m' '\u001b[0m\u001b[0;34m.\u001b[0m\u001b[0mjoin\u001b[0m\u001b[0;34m(\u001b[0m\u001b[0mdocument_text\u001b[0m\u001b[0;34m[\u001b[0m\u001b[0msims\u001b[0m\u001b[0;34m[\u001b[0m\u001b[0mindex\u001b[0m\u001b[0;34m]\u001b[0m\u001b[0;34m[\u001b[0m\u001b[0;36m0\u001b[0m\u001b[0;34m]\u001b[0m\u001b[0;34m]\u001b[0m\u001b[0;34m.\u001b[0m\u001b[0mwords\u001b[0m\u001b[0;34m)\u001b[0m\u001b[0;34m)\u001b[0m\u001b[0;34m)\u001b[0m\u001b[0;34m\u001b[0m\u001b[0;34m\u001b[0m\u001b[0m\n\u001b[0m",
      "\u001b[0;31mIndexError\u001b[0m: list index out of range"
     ]
    }
   ],
   "source": [
    "doc_id = random.randint(low_bound, low_bound+num_samples)\n",
    "print('Document ({}): «{}»\\n'.format(doc_id, ' '.join(document_text[doc_id].words)))\n",
    "print(u'SIMILAR/DISSIMILAR DOCS PER MODEL %s:\\n' % model)\n",
    "for label, index in [('MOST', 0), ('SECOND-MOST', 1), ('MEDIAN', len(sims)//2), ('LEAST', len(sims) - 1)]:\n",
    "    print(u'%s %s: «%s»\\n' % (label, sims[index], ' '.join(document_text[sims[index][0]].words)))"
   ]
  },
  {
   "cell_type": "code",
   "execution_count": 86,
   "metadata": {},
   "outputs": [],
   "source": [
    "# Pick a random document from the test corpus and infer a vector from the model\n",
    "doc_id = random.randint(0, len(document_text) - 1)\n",
    "inferred_vector = model.infer_vector(document_text[doc_id].words)\n",
    "sims = model.docvecs.most_similar([inferred_vector], topn=len(model.docvecs))"
   ]
  },
  {
   "cell_type": "code",
   "execution_count": 90,
   "metadata": {},
   "outputs": [
    {
     "data": {
      "text/plain": [
       "1245159"
      ]
     },
     "execution_count": 90,
     "metadata": {},
     "output_type": "execute_result"
    }
   ],
   "source": [
    "docs_ids.index(sims[index][0])"
   ]
  },
  {
   "cell_type": "code",
   "execution_count": 106,
   "metadata": {},
   "outputs": [
    {
     "data": {
      "text/plain": [
       "2912651"
      ]
     },
     "execution_count": 106,
     "metadata": {},
     "output_type": "execute_result"
    }
   ],
   "source": [
    "len(sims)"
   ]
  },
  {
   "cell_type": "code",
   "execution_count": 94,
   "metadata": {},
   "outputs": [],
   "source": [
    "tag_to_id = {v.tags[0]:i for i,v in enumerate(document_text)}"
   ]
  },
  {
   "cell_type": "code",
   "execution_count": 100,
   "metadata": {},
   "outputs": [
    {
     "data": {
      "text/plain": [
       "2912650"
      ]
     },
     "execution_count": 100,
     "metadata": {},
     "output_type": "execute_result"
    }
   ],
   "source": [
    "len(sims)-1"
   ]
  },
  {
   "cell_type": "code",
   "execution_count": 97,
   "metadata": {},
   "outputs": [
    {
     "ename": "KeyError",
     "evalue": "590579",
     "output_type": "error",
     "traceback": [
      "\u001b[0;31m---------------------------------------------------------------------------\u001b[0m",
      "\u001b[0;31mKeyError\u001b[0m                                  Traceback (most recent call last)",
      "\u001b[0;32m<ipython-input-97-cfbf952cf829>\u001b[0m in \u001b[0;36m<module>\u001b[0;34m\u001b[0m\n\u001b[0;32m----> 1\u001b[0;31m \u001b[0mdocument_text\u001b[0m\u001b[0;34m[\u001b[0m\u001b[0mtag_to_id\u001b[0m\u001b[0;34m[\u001b[0m\u001b[0msims\u001b[0m\u001b[0;34m[\u001b[0m\u001b[0mindex\u001b[0m\u001b[0;34m]\u001b[0m\u001b[0;34m[\u001b[0m\u001b[0;36m0\u001b[0m\u001b[0;34m]\u001b[0m\u001b[0;34m]\u001b[0m\u001b[0;34m]\u001b[0m\u001b[0;34m\u001b[0m\u001b[0;34m\u001b[0m\u001b[0m\n\u001b[0m",
      "\u001b[0;31mKeyError\u001b[0m: 590579"
     ]
    }
   ],
   "source": [
    "document_text[tag_to_id[sims[index][0]]]"
   ]
  },
  {
   "cell_type": "code",
   "execution_count": 104,
   "metadata": {},
   "outputs": [
    {
     "data": {
      "text/plain": [
       "{2700005: 0,\n",
       " 2700006: 1,\n",
       " 2700007: 2,\n",
       " 2700010: 3,\n",
       " 2700015: 4,\n",
       " 2700017: 5,\n",
       " 2700022: 6,\n",
       " 2700023: 7,\n",
       " 2700024: 8,\n",
       " 2700025: 9,\n",
       " 2700027: 10,\n",
       " 2700029: 11,\n",
       " 2700030: 12,\n",
       " 2700034: 13,\n",
       " 2700037: 14,\n",
       " 2700038: 15,\n",
       " 2700041: 16,\n",
       " 2700044: 17,\n",
       " 2700046: 18,\n",
       " 2700047: 19,\n",
       " 2700048: 20,\n",
       " 2700049: 21,\n",
       " 2700051: 22,\n",
       " 2700052: 23,\n",
       " 2700053: 24,\n",
       " 2700056: 25,\n",
       " 2700057: 26,\n",
       " 2700065: 27,\n",
       " 2700067: 28,\n",
       " 2700068: 29,\n",
       " 2700069: 30,\n",
       " 2700070: 31,\n",
       " 2700072: 32,\n",
       " 2700073: 33,\n",
       " 2700075: 34,\n",
       " 2700076: 35,\n",
       " 2700078: 36,\n",
       " 2700079: 37,\n",
       " 2700081: 38,\n",
       " 2700082: 39,\n",
       " 2700088: 40,\n",
       " 2700091: 41,\n",
       " 2700098: 42,\n",
       " 2700099: 43,\n",
       " 2700100: 44,\n",
       " 2700101: 45,\n",
       " 2700105: 46,\n",
       " 2700106: 47,\n",
       " 2700108: 48,\n",
       " 2700110: 49,\n",
       " 2700113: 50,\n",
       " 2700116: 51,\n",
       " 2700119: 52,\n",
       " 2700121: 53,\n",
       " 2700124: 54,\n",
       " 2700125: 55,\n",
       " 2700127: 56,\n",
       " 2700129: 57,\n",
       " 2700130: 58,\n",
       " 2700131: 59,\n",
       " 2700133: 60,\n",
       " 2700138: 61,\n",
       " 2700141: 62,\n",
       " 2700144: 63,\n",
       " 2700145: 64,\n",
       " 2700147: 65,\n",
       " 2700148: 66,\n",
       " 2700153: 67,\n",
       " 2700155: 68,\n",
       " 2700156: 69,\n",
       " 2700158: 70,\n",
       " 2700161: 71,\n",
       " 2700162: 72,\n",
       " 2700166: 73,\n",
       " 2700167: 74,\n",
       " 2700168: 75,\n",
       " 2700171: 76,\n",
       " 2700173: 77,\n",
       " 2700175: 78,\n",
       " 2700176: 79,\n",
       " 2700178: 80,\n",
       " 2700179: 81,\n",
       " 2700180: 82,\n",
       " 2700182: 83,\n",
       " 2700183: 84,\n",
       " 2700184: 85,\n",
       " 2700185: 86,\n",
       " 2700191: 87,\n",
       " 2700192: 88,\n",
       " 2700194: 89,\n",
       " 2700197: 90,\n",
       " 2700203: 91,\n",
       " 2700204: 92,\n",
       " 2700205: 93,\n",
       " 2700207: 94,\n",
       " 2700209: 95,\n",
       " 2700210: 96,\n",
       " 2700213: 97,\n",
       " 2700215: 98,\n",
       " 2700217: 99,\n",
       " 2700219: 100,\n",
       " 2700220: 101,\n",
       " 2700221: 102,\n",
       " 2700222: 103,\n",
       " 2700225: 104,\n",
       " 2700226: 105,\n",
       " 2700228: 106,\n",
       " 2700232: 107,\n",
       " 2700233: 108,\n",
       " 2700236: 109,\n",
       " 2700237: 110,\n",
       " 2700238: 111,\n",
       " 2700242: 112,\n",
       " 2700243: 113,\n",
       " 2700244: 114,\n",
       " 2700249: 115,\n",
       " 2700250: 116,\n",
       " 2700251: 117,\n",
       " 2700252: 118,\n",
       " 2700253: 119,\n",
       " 2700255: 120,\n",
       " 2700257: 121,\n",
       " 2700258: 122,\n",
       " 2700262: 123,\n",
       " 2700270: 124,\n",
       " 2700271: 125,\n",
       " 2700276: 126,\n",
       " 2700277: 127,\n",
       " 2700278: 128,\n",
       " 2700279: 129,\n",
       " 2700283: 130,\n",
       " 2700284: 131,\n",
       " 2700285: 132,\n",
       " 2700287: 133,\n",
       " 2700288: 134,\n",
       " 2700289: 135,\n",
       " 2700290: 136,\n",
       " 2700295: 137,\n",
       " 2700296: 138,\n",
       " 2700304: 139,\n",
       " 2700306: 140,\n",
       " 2700308: 141,\n",
       " 2700311: 142,\n",
       " 2700312: 143,\n",
       " 2700313: 144,\n",
       " 2700315: 145,\n",
       " 2700316: 146,\n",
       " 2700317: 147,\n",
       " 2700319: 148,\n",
       " 2700320: 149,\n",
       " 2700321: 150,\n",
       " 2700322: 151,\n",
       " 2700323: 152,\n",
       " 2700324: 153,\n",
       " 2700325: 154,\n",
       " 2700326: 155,\n",
       " 2700327: 156,\n",
       " 2700328: 157,\n",
       " 2700329: 158,\n",
       " 2700330: 159,\n",
       " 2700331: 160,\n",
       " 2700332: 161,\n",
       " 2700334: 162,\n",
       " 2700336: 163,\n",
       " 2700338: 164,\n",
       " 2700339: 165,\n",
       " 2700340: 166,\n",
       " 2700341: 167,\n",
       " 2700342: 168,\n",
       " 2700345: 169,\n",
       " 2700347: 170,\n",
       " 2700350: 171,\n",
       " 2700351: 172,\n",
       " 2700355: 173,\n",
       " 2700356: 174,\n",
       " 2700360: 175,\n",
       " 2700363: 176,\n",
       " 2700367: 177,\n",
       " 2700370: 178,\n",
       " 2700371: 179,\n",
       " 2700372: 180,\n",
       " 2700377: 181,\n",
       " 2700380: 182,\n",
       " 2700382: 183,\n",
       " 2700384: 184,\n",
       " 2700385: 185,\n",
       " 2700387: 186,\n",
       " 2700391: 187,\n",
       " 2700392: 188,\n",
       " 2700396: 189,\n",
       " 2700397: 190,\n",
       " 2700398: 191,\n",
       " 2700404: 192,\n",
       " 2700407: 193,\n",
       " 2700408: 194,\n",
       " 2700409: 195,\n",
       " 2700410: 196,\n",
       " 2700411: 197,\n",
       " 2700412: 198,\n",
       " 2700413: 199,\n",
       " 2700415: 200,\n",
       " 2700416: 201,\n",
       " 2700417: 202,\n",
       " 2700418: 203,\n",
       " 2700419: 204,\n",
       " 2700420: 205,\n",
       " 2700422: 206,\n",
       " 2700425: 207,\n",
       " 2700426: 208,\n",
       " 2700428: 209,\n",
       " 2700429: 210,\n",
       " 2700431: 211,\n",
       " 2700435: 212,\n",
       " 2700436: 213,\n",
       " 2700437: 214,\n",
       " 2700440: 215,\n",
       " 2700442: 216,\n",
       " 2700444: 217,\n",
       " 2700445: 218,\n",
       " 2700447: 219,\n",
       " 2700448: 220,\n",
       " 2700449: 221,\n",
       " 2700451: 222,\n",
       " 2700454: 223,\n",
       " 2700457: 224,\n",
       " 2700458: 225,\n",
       " 2700461: 226,\n",
       " 2700464: 227,\n",
       " 2700467: 228,\n",
       " 2700468: 229,\n",
       " 2700469: 230,\n",
       " 2700471: 231,\n",
       " 2700472: 232,\n",
       " 2700475: 233,\n",
       " 2700478: 234,\n",
       " 2700480: 235,\n",
       " 2700482: 236,\n",
       " 2700487: 237,\n",
       " 2700488: 238,\n",
       " 2700490: 239,\n",
       " 2700494: 240,\n",
       " 2700497: 241,\n",
       " 2700498: 242,\n",
       " 2700501: 243,\n",
       " 2700505: 244,\n",
       " 2700510: 245,\n",
       " 2700512: 246,\n",
       " 2700513: 247,\n",
       " 2700514: 248,\n",
       " 2700517: 249,\n",
       " 2700519: 250,\n",
       " 2700524: 251,\n",
       " 2700526: 252,\n",
       " 2700527: 253,\n",
       " 2700528: 254,\n",
       " 2700529: 255,\n",
       " 2700530: 256,\n",
       " 2700535: 257,\n",
       " 2700540: 258,\n",
       " 2700542: 259,\n",
       " 2700544: 260,\n",
       " 2700545: 261,\n",
       " 2700547: 262,\n",
       " 2700550: 263,\n",
       " 2700551: 264,\n",
       " 2700553: 265,\n",
       " 2700554: 266,\n",
       " 2700555: 267,\n",
       " 2700556: 268,\n",
       " 2700558: 269,\n",
       " 2700559: 270,\n",
       " 2700561: 271,\n",
       " 2700563: 272,\n",
       " 2700565: 273,\n",
       " 2700567: 274,\n",
       " 2700569: 275,\n",
       " 2700570: 276,\n",
       " 2700571: 277,\n",
       " 2700575: 278,\n",
       " 2700577: 279,\n",
       " 2700578: 280,\n",
       " 2700581: 281,\n",
       " 2700583: 282,\n",
       " 2700585: 283,\n",
       " 2700592: 284,\n",
       " 2700594: 285,\n",
       " 2700597: 286,\n",
       " 2700598: 287,\n",
       " 2700599: 288,\n",
       " 2700600: 289,\n",
       " 2700602: 290,\n",
       " 2700605: 291,\n",
       " 2700607: 292,\n",
       " 2700609: 293,\n",
       " 2700612: 294,\n",
       " 2700613: 295,\n",
       " 2700615: 296,\n",
       " 2700617: 297,\n",
       " 2700618: 298,\n",
       " 2700622: 299,\n",
       " 2700624: 300,\n",
       " 2700626: 301,\n",
       " 2700627: 302,\n",
       " 2700629: 303,\n",
       " 2700630: 304,\n",
       " 2700631: 305,\n",
       " 2700632: 306,\n",
       " 2700633: 307,\n",
       " 2700635: 308,\n",
       " 2700636: 309,\n",
       " 2700638: 310,\n",
       " 2700639: 311,\n",
       " 2700641: 312,\n",
       " 2700642: 313,\n",
       " 2700644: 314,\n",
       " 2700645: 315,\n",
       " 2700648: 316,\n",
       " 2700651: 317,\n",
       " 2700652: 318,\n",
       " 2700657: 319,\n",
       " 2700658: 320,\n",
       " 2700659: 321,\n",
       " 2700660: 322,\n",
       " 2700662: 323,\n",
       " 2700665: 324,\n",
       " 2700667: 325,\n",
       " 2700670: 326,\n",
       " 2700671: 327,\n",
       " 2700672: 328,\n",
       " 2700674: 329,\n",
       " 2700681: 330,\n",
       " 2700683: 331,\n",
       " 2700684: 332,\n",
       " 2700685: 333,\n",
       " 2700687: 334,\n",
       " 2700689: 335,\n",
       " 2700692: 336,\n",
       " 2700694: 337,\n",
       " 2700695: 338,\n",
       " 2700701: 339,\n",
       " 2700702: 340,\n",
       " 2700706: 341,\n",
       " 2700708: 342,\n",
       " 2700709: 343,\n",
       " 2700712: 344,\n",
       " 2700713: 345,\n",
       " 2700717: 346,\n",
       " 2700718: 347,\n",
       " 2700719: 348,\n",
       " 2700722: 349,\n",
       " 2700724: 350,\n",
       " 2700725: 351,\n",
       " 2700726: 352,\n",
       " 2700727: 353,\n",
       " 2700729: 354,\n",
       " 2700730: 355,\n",
       " 2700731: 356,\n",
       " 2700732: 357,\n",
       " 2700736: 358,\n",
       " 2700737: 359,\n",
       " 2700738: 360,\n",
       " 2700739: 361,\n",
       " 2700740: 362,\n",
       " 2700741: 363,\n",
       " 2700742: 364,\n",
       " 2700743: 365,\n",
       " 2700744: 366,\n",
       " 2700745: 367,\n",
       " 2700746: 368,\n",
       " 2700747: 369,\n",
       " 2700750: 370,\n",
       " 2700758: 371,\n",
       " 2700760: 372,\n",
       " 2700761: 373,\n",
       " 2700763: 374,\n",
       " 2700765: 375,\n",
       " 2700766: 376,\n",
       " 2700767: 377,\n",
       " 2700769: 378,\n",
       " 2700770: 379,\n",
       " 2700772: 380,\n",
       " 2700773: 381,\n",
       " 2700775: 382,\n",
       " 2700776: 383,\n",
       " 2700777: 384,\n",
       " 2700778: 385,\n",
       " 2700780: 386,\n",
       " 2700783: 387,\n",
       " 2700784: 388,\n",
       " 2700788: 389,\n",
       " 2700789: 390,\n",
       " 2700791: 391,\n",
       " 2700792: 392,\n",
       " 2700802: 393,\n",
       " 2700803: 394,\n",
       " 2700807: 395,\n",
       " 2700808: 396,\n",
       " 2700810: 397,\n",
       " 2700811: 398,\n",
       " 2700812: 399,\n",
       " 2700813: 400,\n",
       " 2700819: 401,\n",
       " 2700820: 402,\n",
       " 2700825: 403,\n",
       " 2700829: 404,\n",
       " 2700830: 405,\n",
       " 2700831: 406,\n",
       " 2700832: 407,\n",
       " 2700834: 408,\n",
       " 2700836: 409,\n",
       " 2700838: 410,\n",
       " 2700839: 411,\n",
       " 2700841: 412,\n",
       " 2700843: 413,\n",
       " 2700844: 414,\n",
       " 2700847: 415,\n",
       " 2700850: 416,\n",
       " 2700853: 417,\n",
       " 2700855: 418,\n",
       " 2700857: 419,\n",
       " 2700859: 420,\n",
       " 2700860: 421,\n",
       " 2700861: 422,\n",
       " 2700864: 423,\n",
       " 2700866: 424,\n",
       " 2700867: 425,\n",
       " 2700870: 426,\n",
       " 2700871: 427,\n",
       " 2700872: 428,\n",
       " 2700875: 429,\n",
       " 2700876: 430,\n",
       " 2700878: 431,\n",
       " 2700879: 432,\n",
       " 2700885: 433,\n",
       " 2700888: 434,\n",
       " 2700889: 435,\n",
       " 2700890: 436,\n",
       " 2700893: 437,\n",
       " 2700894: 438,\n",
       " 2700895: 439,\n",
       " 2700898: 440,\n",
       " 2700900: 441,\n",
       " 2700901: 442,\n",
       " 2700902: 443,\n",
       " 2700903: 444,\n",
       " 2700904: 445,\n",
       " 2700907: 446,\n",
       " 2700908: 447,\n",
       " 2700910: 448,\n",
       " 2700913: 449,\n",
       " 2700914: 450,\n",
       " 2700915: 451,\n",
       " 2700916: 452,\n",
       " 2700921: 453,\n",
       " 2700922: 454,\n",
       " 2700925: 455,\n",
       " 2700926: 456,\n",
       " 2700927: 457,\n",
       " 2700929: 458,\n",
       " 2700930: 459,\n",
       " 2700937: 460,\n",
       " 2700939: 461,\n",
       " 2700941: 462,\n",
       " 2700943: 463,\n",
       " 2700944: 464,\n",
       " 2700946: 465,\n",
       " 2700948: 466,\n",
       " 2700950: 467,\n",
       " 2700951: 468,\n",
       " 2700955: 469,\n",
       " 2700956: 470,\n",
       " 2700957: 471,\n",
       " 2700960: 472,\n",
       " 2700961: 473,\n",
       " 2700962: 474,\n",
       " 2700965: 475,\n",
       " 2700967: 476,\n",
       " 2700974: 477,\n",
       " 2700978: 478,\n",
       " 2700981: 479,\n",
       " 2700982: 480,\n",
       " 2700983: 481,\n",
       " 2700990: 482,\n",
       " 2700993: 483,\n",
       " 2700995: 484,\n",
       " 2700997: 485,\n",
       " 2701000: 486,\n",
       " 2701001: 487,\n",
       " 2701002: 488,\n",
       " 2701003: 489,\n",
       " 2701004: 490,\n",
       " 2701009: 491,\n",
       " 2701012: 492,\n",
       " 2701013: 493,\n",
       " 2701015: 494,\n",
       " 2701017: 495,\n",
       " 2701022: 496,\n",
       " 2701024: 497,\n",
       " 2701026: 498,\n",
       " 2701027: 499,\n",
       " 2701028: 500,\n",
       " 2701029: 501,\n",
       " 2701030: 502,\n",
       " 2701032: 503,\n",
       " 2701033: 504,\n",
       " 2701036: 505,\n",
       " 2701039: 506,\n",
       " 2701041: 507,\n",
       " 2701042: 508,\n",
       " 2701044: 509,\n",
       " 2701045: 510,\n",
       " 2701047: 511,\n",
       " 2701051: 512,\n",
       " 2701055: 513,\n",
       " 2701056: 514,\n",
       " 2701057: 515,\n",
       " 2701060: 516,\n",
       " 2701062: 517,\n",
       " 2701065: 518,\n",
       " 2701066: 519,\n",
       " 2701068: 520,\n",
       " 2701070: 521,\n",
       " 2701075: 522,\n",
       " 2701078: 523,\n",
       " 2701079: 524,\n",
       " 2701080: 525,\n",
       " 2701085: 526,\n",
       " 2701086: 527,\n",
       " 2701088: 528,\n",
       " 2701090: 529,\n",
       " 2701091: 530,\n",
       " 2701094: 531,\n",
       " 2701096: 532,\n",
       " 2701097: 533,\n",
       " 2701098: 534,\n",
       " 2701102: 535,\n",
       " 2701103: 536,\n",
       " 2701105: 537,\n",
       " 2701106: 538,\n",
       " 2701108: 539,\n",
       " 2701109: 540,\n",
       " 2701115: 541,\n",
       " 2701116: 542,\n",
       " 2701117: 543,\n",
       " 2701119: 544,\n",
       " 2701120: 545,\n",
       " 2701122: 546,\n",
       " 2701123: 547,\n",
       " 2701125: 548,\n",
       " 2701126: 549,\n",
       " 2701127: 550,\n",
       " 2701128: 551,\n",
       " 2701129: 552,\n",
       " 2701134: 553,\n",
       " 2701135: 554,\n",
       " 2701136: 555,\n",
       " 2701139: 556,\n",
       " 2701143: 557,\n",
       " 2701145: 558,\n",
       " 2701148: 559,\n",
       " 2701151: 560,\n",
       " 2701153: 561,\n",
       " 2701154: 562,\n",
       " 2701155: 563,\n",
       " 2701156: 564,\n",
       " 2701158: 565,\n",
       " 2701160: 566,\n",
       " 2701163: 567,\n",
       " 2701164: 568,\n",
       " 2701166: 569,\n",
       " 2701167: 570,\n",
       " 2701168: 571,\n",
       " 2701172: 572,\n",
       " 2701173: 573,\n",
       " 2701175: 574,\n",
       " 2701178: 575,\n",
       " 2701181: 576,\n",
       " 2701183: 577,\n",
       " 2701185: 578,\n",
       " 2701186: 579,\n",
       " 2701187: 580,\n",
       " 2701191: 581,\n",
       " 2701194: 582,\n",
       " 2701196: 583,\n",
       " 2701197: 584,\n",
       " 2701198: 585,\n",
       " 2701202: 586,\n",
       " 2701203: 587,\n",
       " 2701205: 588,\n",
       " 2701208: 589,\n",
       " 2701210: 590,\n",
       " 2701211: 591,\n",
       " 2701212: 592,\n",
       " 2701214: 593,\n",
       " 2701216: 594,\n",
       " 2701217: 595,\n",
       " 2701220: 596,\n",
       " 2701227: 597,\n",
       " 2701228: 598,\n",
       " 2701229: 599,\n",
       " 2701232: 600,\n",
       " 2701235: 601,\n",
       " 2701236: 602,\n",
       " 2701237: 603,\n",
       " 2701239: 604,\n",
       " 2701242: 605,\n",
       " 2701243: 606,\n",
       " 2701245: 607,\n",
       " 2701250: 608,\n",
       " 2701253: 609,\n",
       " 2701256: 610,\n",
       " 2701259: 611,\n",
       " 2701265: 612,\n",
       " 2701269: 613,\n",
       " 2701270: 614,\n",
       " 2701271: 615,\n",
       " 2701273: 616,\n",
       " 2701274: 617,\n",
       " 2701275: 618,\n",
       " 2701276: 619,\n",
       " 2701278: 620,\n",
       " 2701286: 621,\n",
       " 2701287: 622,\n",
       " 2701291: 623,\n",
       " 2701293: 624,\n",
       " 2701295: 625,\n",
       " 2701301: 626,\n",
       " 2701303: 627,\n",
       " 2701304: 628,\n",
       " 2701306: 629,\n",
       " 2701308: 630,\n",
       " 2701310: 631,\n",
       " 2701311: 632,\n",
       " 2701312: 633,\n",
       " 2701313: 634,\n",
       " 2701316: 635,\n",
       " 2701318: 636,\n",
       " 2701320: 637,\n",
       " 2701322: 638,\n",
       " 2701325: 639,\n",
       " 2701326: 640,\n",
       " 2701327: 641,\n",
       " 2701328: 642,\n",
       " 2701330: 643,\n",
       " 2701332: 644,\n",
       " 2701334: 645,\n",
       " 2701335: 646,\n",
       " 2701340: 647,\n",
       " 2701343: 648,\n",
       " 2701347: 649,\n",
       " 2701350: 650,\n",
       " 2701352: 651,\n",
       " 2701354: 652,\n",
       " 2701355: 653,\n",
       " 2701356: 654,\n",
       " 2701358: 655,\n",
       " 2701359: 656,\n",
       " 2701360: 657,\n",
       " 2701361: 658,\n",
       " 2701363: 659,\n",
       " 2701364: 660,\n",
       " 2701369: 661,\n",
       " 2701370: 662,\n",
       " 2701371: 663,\n",
       " 2701372: 664,\n",
       " 2701374: 665,\n",
       " 2701375: 666,\n",
       " 2701376: 667,\n",
       " 2701378: 668,\n",
       " 2701379: 669,\n",
       " 2701380: 670,\n",
       " 2701381: 671,\n",
       " 2701382: 672,\n",
       " 2701386: 673,\n",
       " 2701389: 674,\n",
       " 2701392: 675,\n",
       " 2701394: 676,\n",
       " 2701396: 677,\n",
       " 2701399: 678,\n",
       " 2701401: 679,\n",
       " 2701402: 680,\n",
       " 2701403: 681,\n",
       " 2701405: 682,\n",
       " 2701406: 683,\n",
       " 2701407: 684,\n",
       " 2701414: 685,\n",
       " 2701415: 686,\n",
       " 2701416: 687,\n",
       " 2701418: 688,\n",
       " 2701421: 689,\n",
       " 2701423: 690,\n",
       " 2701426: 691,\n",
       " 2701427: 692,\n",
       " 2701428: 693,\n",
       " 2701434: 694,\n",
       " 2701435: 695,\n",
       " 2701438: 696,\n",
       " 2701439: 697,\n",
       " 2701441: 698,\n",
       " 2701442: 699,\n",
       " 2701443: 700,\n",
       " 2701444: 701,\n",
       " 2701447: 702,\n",
       " 2701448: 703,\n",
       " 2701449: 704,\n",
       " 2701450: 705,\n",
       " 2701451: 706,\n",
       " 2701454: 707,\n",
       " 2701456: 708,\n",
       " 2701458: 709,\n",
       " 2701459: 710,\n",
       " 2701460: 711,\n",
       " 2701463: 712,\n",
       " 2701464: 713,\n",
       " 2701465: 714,\n",
       " 2701466: 715,\n",
       " 2701467: 716,\n",
       " 2701470: 717,\n",
       " 2701471: 718,\n",
       " 2701473: 719,\n",
       " 2701476: 720,\n",
       " 2701481: 721,\n",
       " 2701482: 722,\n",
       " 2701483: 723,\n",
       " 2701485: 724,\n",
       " 2701486: 725,\n",
       " 2701490: 726,\n",
       " 2701491: 727,\n",
       " 2701492: 728,\n",
       " 2701493: 729,\n",
       " 2701497: 730,\n",
       " 2701499: 731,\n",
       " 2701502: 732,\n",
       " 2701507: 733,\n",
       " 2701509: 734,\n",
       " 2701511: 735,\n",
       " 2701513: 736,\n",
       " 2701516: 737,\n",
       " 2701518: 738,\n",
       " 2701520: 739,\n",
       " 2701521: 740,\n",
       " 2701522: 741,\n",
       " 2701523: 742,\n",
       " 2701524: 743,\n",
       " 2701528: 744,\n",
       " 2701530: 745,\n",
       " 2701531: 746,\n",
       " 2701532: 747,\n",
       " 2701533: 748,\n",
       " 2701534: 749,\n",
       " 2701535: 750,\n",
       " 2701538: 751,\n",
       " 2701539: 752,\n",
       " 2701540: 753,\n",
       " 2701541: 754,\n",
       " 2701542: 755,\n",
       " 2701547: 756,\n",
       " 2701548: 757,\n",
       " 2701549: 758,\n",
       " 2701550: 759,\n",
       " 2701551: 760,\n",
       " 2701552: 761,\n",
       " 2701554: 762,\n",
       " 2701558: 763,\n",
       " 2701562: 764,\n",
       " 2701563: 765,\n",
       " 2701568: 766,\n",
       " 2701569: 767,\n",
       " 2701572: 768,\n",
       " 2701580: 769,\n",
       " 2701581: 770,\n",
       " 2701583: 771,\n",
       " 2701584: 772,\n",
       " 2701587: 773,\n",
       " 2701588: 774,\n",
       " 2701589: 775,\n",
       " 2701590: 776,\n",
       " 2701591: 777,\n",
       " 2701594: 778,\n",
       " 2701599: 779,\n",
       " 2701602: 780,\n",
       " 2701603: 781,\n",
       " 2701607: 782,\n",
       " 2701609: 783,\n",
       " 2701610: 784,\n",
       " 2701611: 785,\n",
       " 2701613: 786,\n",
       " 2701614: 787,\n",
       " 2701616: 788,\n",
       " 2701617: 789,\n",
       " 2701620: 790,\n",
       " 2701622: 791,\n",
       " 2701624: 792,\n",
       " 2701625: 793,\n",
       " 2701627: 794,\n",
       " 2701632: 795,\n",
       " 2701634: 796,\n",
       " 2701635: 797,\n",
       " 2701637: 798,\n",
       " 2701639: 799,\n",
       " 2701641: 800,\n",
       " 2701646: 801,\n",
       " 2701647: 802,\n",
       " 2701648: 803,\n",
       " 2701649: 804,\n",
       " 2701651: 805,\n",
       " 2701652: 806,\n",
       " 2701655: 807,\n",
       " 2701656: 808,\n",
       " 2701657: 809,\n",
       " 2701662: 810,\n",
       " 2701663: 811,\n",
       " 2701667: 812,\n",
       " 2701668: 813,\n",
       " 2701669: 814,\n",
       " 2701675: 815,\n",
       " 2701677: 816,\n",
       " 2701678: 817,\n",
       " 2701679: 818,\n",
       " 2701680: 819,\n",
       " 2701683: 820,\n",
       " 2701690: 821,\n",
       " 2701692: 822,\n",
       " 2701694: 823,\n",
       " 2701696: 824,\n",
       " 2701697: 825,\n",
       " 2701698: 826,\n",
       " 2701699: 827,\n",
       " 2701702: 828,\n",
       " 2701703: 829,\n",
       " 2701706: 830,\n",
       " 2701708: 831,\n",
       " 2701711: 832,\n",
       " 2701713: 833,\n",
       " 2701714: 834,\n",
       " 2701717: 835,\n",
       " 2701718: 836,\n",
       " 2701721: 837,\n",
       " 2701724: 838,\n",
       " 2701725: 839,\n",
       " 2701726: 840,\n",
       " 2701728: 841,\n",
       " 2701729: 842,\n",
       " 2701732: 843,\n",
       " 2701733: 844,\n",
       " 2701734: 845,\n",
       " 2701735: 846,\n",
       " 2701737: 847,\n",
       " 2701738: 848,\n",
       " 2701739: 849,\n",
       " 2701741: 850,\n",
       " 2701742: 851,\n",
       " 2701743: 852,\n",
       " 2701747: 853,\n",
       " 2701751: 854,\n",
       " 2701758: 855,\n",
       " 2701760: 856,\n",
       " 2701763: 857,\n",
       " 2701764: 858,\n",
       " 2701766: 859,\n",
       " 2701767: 860,\n",
       " 2701774: 861,\n",
       " 2701776: 862,\n",
       " 2701777: 863,\n",
       " 2701780: 864,\n",
       " 2701789: 865,\n",
       " 2701791: 866,\n",
       " 2701792: 867,\n",
       " 2701795: 868,\n",
       " 2701796: 869,\n",
       " 2701800: 870,\n",
       " 2701801: 871,\n",
       " 2701805: 872,\n",
       " 2701806: 873,\n",
       " 2701808: 874,\n",
       " 2701809: 875,\n",
       " 2701812: 876,\n",
       " 2701815: 877,\n",
       " 2701817: 878,\n",
       " 2701818: 879,\n",
       " 2701819: 880,\n",
       " 2701822: 881,\n",
       " 2701828: 882,\n",
       " 2701829: 883,\n",
       " 2701830: 884,\n",
       " 2701831: 885,\n",
       " 2701832: 886,\n",
       " 2701833: 887,\n",
       " 2701836: 888,\n",
       " 2701837: 889,\n",
       " 2701838: 890,\n",
       " 2701840: 891,\n",
       " 2701842: 892,\n",
       " 2701845: 893,\n",
       " 2701846: 894,\n",
       " 2701847: 895,\n",
       " 2701848: 896,\n",
       " 2701849: 897,\n",
       " 2701850: 898,\n",
       " 2701851: 899,\n",
       " 2701857: 900,\n",
       " 2701858: 901,\n",
       " 2701859: 902,\n",
       " 2701860: 903,\n",
       " 2701862: 904,\n",
       " 2701865: 905,\n",
       " 2701866: 906,\n",
       " 2701867: 907,\n",
       " 2701868: 908,\n",
       " 2701870: 909,\n",
       " 2701872: 910,\n",
       " 2701873: 911,\n",
       " 2701874: 912,\n",
       " 2701875: 913,\n",
       " 2701876: 914,\n",
       " 2701877: 915,\n",
       " 2701878: 916,\n",
       " 2701880: 917,\n",
       " 2701882: 918,\n",
       " 2701883: 919,\n",
       " 2701887: 920,\n",
       " 2701888: 921,\n",
       " 2701889: 922,\n",
       " 2701891: 923,\n",
       " 2701892: 924,\n",
       " 2701894: 925,\n",
       " 2701898: 926,\n",
       " 2701900: 927,\n",
       " 2701901: 928,\n",
       " 2701902: 929,\n",
       " 2701905: 930,\n",
       " 2701908: 931,\n",
       " 2701909: 932,\n",
       " 2701911: 933,\n",
       " 2701913: 934,\n",
       " 2701915: 935,\n",
       " 2701916: 936,\n",
       " 2701917: 937,\n",
       " 2701919: 938,\n",
       " 2701922: 939,\n",
       " 2701923: 940,\n",
       " 2701925: 941,\n",
       " 2701926: 942,\n",
       " 2701927: 943,\n",
       " 2701928: 944,\n",
       " 2701929: 945,\n",
       " 2701931: 946,\n",
       " 2701934: 947,\n",
       " 2701937: 948,\n",
       " 2701942: 949,\n",
       " 2701943: 950,\n",
       " 2701945: 951,\n",
       " 2701946: 952,\n",
       " 2701947: 953,\n",
       " 2701948: 954,\n",
       " 2701951: 955,\n",
       " 2701955: 956,\n",
       " 2701958: 957,\n",
       " 2701961: 958,\n",
       " 2701962: 959,\n",
       " 2701963: 960,\n",
       " 2701964: 961,\n",
       " 2701965: 962,\n",
       " 2701971: 963,\n",
       " 2701973: 964,\n",
       " 2701977: 965,\n",
       " 2701982: 966,\n",
       " 2701985: 967,\n",
       " 2701988: 968,\n",
       " 2701991: 969,\n",
       " 2701992: 970,\n",
       " 2701994: 971,\n",
       " 2701996: 972,\n",
       " 2701998: 973,\n",
       " 2702002: 974,\n",
       " 2702006: 975,\n",
       " 2702007: 976,\n",
       " 2702008: 977,\n",
       " 2702009: 978,\n",
       " 2702010: 979,\n",
       " 2702013: 980,\n",
       " 2702014: 981,\n",
       " 2702016: 982,\n",
       " 2702017: 983,\n",
       " 2702018: 984,\n",
       " 2702019: 985,\n",
       " 2702020: 986,\n",
       " 2702021: 987,\n",
       " 2702022: 988,\n",
       " 2702023: 989,\n",
       " 2702025: 990,\n",
       " 2702027: 991,\n",
       " 2702028: 992,\n",
       " 2702030: 993,\n",
       " 2702036: 994,\n",
       " 2702039: 995,\n",
       " 2702040: 996,\n",
       " 2702041: 997,\n",
       " 2702042: 998,\n",
       " 2702043: 999,\n",
       " ...}"
      ]
     },
     "execution_count": 104,
     "metadata": {},
     "output_type": "execute_result"
    }
   ],
   "source": [
    "tag_to_id"
   ]
  },
  {
   "cell_type": "code",
   "execution_count": 103,
   "metadata": {},
   "outputs": [
    {
     "ename": "KeyError",
     "evalue": "590579",
     "output_type": "error",
     "traceback": [
      "\u001b[0;31m---------------------------------------------------------------------------\u001b[0m",
      "\u001b[0;31mKeyError\u001b[0m                                  Traceback (most recent call last)",
      "\u001b[0;32m<ipython-input-103-14d5f3033f46>\u001b[0m in \u001b[0;36m<module>\u001b[0;34m\u001b[0m\n\u001b[0;32m----> 1\u001b[0;31m \u001b[0mtag_to_id\u001b[0m\u001b[0;34m[\u001b[0m\u001b[0msims\u001b[0m\u001b[0;34m[\u001b[0m\u001b[0mindex\u001b[0m\u001b[0;34m]\u001b[0m\u001b[0;34m[\u001b[0m\u001b[0;36m0\u001b[0m\u001b[0;34m]\u001b[0m\u001b[0;34m]\u001b[0m\u001b[0;34m\u001b[0m\u001b[0;34m\u001b[0m\u001b[0m\n\u001b[0m",
      "\u001b[0;31mKeyError\u001b[0m: 590579"
     ]
    }
   ],
   "source": [
    "tag_to_id[sims[index][0]]"
   ]
  },
  {
   "cell_type": "code",
   "execution_count": 91,
   "metadata": {},
   "outputs": [
    {
     "name": "stdout",
     "output_type": "stream",
     "text": [
      "Test Document (1240876): «требование опыт проведение аналогичный работа аккуратность пунктуальность исполнительность обязанность монтаж пожарный охранный сигнализация видеонаблюдение слаботочный система территория курск курский область условие спецодежда инструмент зарплата руб зависимость выполнять объем работа оклад премия официальный оформление оплачивать отпуск»\n",
      "\n",
      "SIMILAR/DISSIMILAR DOCS PER MODEL Doc2Vec(dm/m,d100,n5,w5,mc2,s0.001,t3):\n",
      "\n",
      "MOST (2286673, 0.8033948540687561): «обязанность проведение работа склад обеспечение сохранность тмц требование опыт работа физический нагрузка ответственность организованность условие стабильный трудоустройство график работа место работа мурманск свердлов»\n",
      "\n"
     ]
    },
    {
     "ename": "ValueError",
     "evalue": "590579 is not in list",
     "output_type": "error",
     "traceback": [
      "\u001b[0;31m---------------------------------------------------------------------------\u001b[0m",
      "\u001b[0;31mValueError\u001b[0m                                Traceback (most recent call last)",
      "\u001b[0;32m<ipython-input-91-e18ef27c87f3>\u001b[0m in \u001b[0;36m<module>\u001b[0;34m\u001b[0m\n\u001b[1;32m      3\u001b[0m \u001b[0mprint\u001b[0m\u001b[0;34m(\u001b[0m\u001b[0;34mu'SIMILAR/DISSIMILAR DOCS PER MODEL %s:\\n'\u001b[0m \u001b[0;34m%\u001b[0m \u001b[0mmodel\u001b[0m\u001b[0;34m)\u001b[0m\u001b[0;34m\u001b[0m\u001b[0;34m\u001b[0m\u001b[0m\n\u001b[1;32m      4\u001b[0m \u001b[0;32mfor\u001b[0m \u001b[0mlabel\u001b[0m\u001b[0;34m,\u001b[0m \u001b[0mindex\u001b[0m \u001b[0;32min\u001b[0m \u001b[0;34m[\u001b[0m\u001b[0;34m(\u001b[0m\u001b[0;34m'MOST'\u001b[0m\u001b[0;34m,\u001b[0m \u001b[0;36m0\u001b[0m\u001b[0;34m)\u001b[0m\u001b[0;34m,\u001b[0m \u001b[0;34m(\u001b[0m\u001b[0;34m'MEDIAN'\u001b[0m\u001b[0;34m,\u001b[0m \u001b[0mlen\u001b[0m\u001b[0;34m(\u001b[0m\u001b[0msims\u001b[0m\u001b[0;34m)\u001b[0m\u001b[0;34m//\u001b[0m\u001b[0;36m2\u001b[0m\u001b[0;34m)\u001b[0m\u001b[0;34m,\u001b[0m \u001b[0;34m(\u001b[0m\u001b[0;34m'LEAST'\u001b[0m\u001b[0;34m,\u001b[0m \u001b[0mlen\u001b[0m\u001b[0;34m(\u001b[0m\u001b[0msims\u001b[0m\u001b[0;34m)\u001b[0m \u001b[0;34m-\u001b[0m \u001b[0;36m1\u001b[0m\u001b[0;34m)\u001b[0m\u001b[0;34m]\u001b[0m\u001b[0;34m:\u001b[0m\u001b[0;34m\u001b[0m\u001b[0;34m\u001b[0m\u001b[0m\n\u001b[0;32m----> 5\u001b[0;31m     \u001b[0mprint\u001b[0m\u001b[0;34m(\u001b[0m\u001b[0;34mu'%s %s: «%s»\\n'\u001b[0m \u001b[0;34m%\u001b[0m \u001b[0;34m(\u001b[0m\u001b[0mlabel\u001b[0m\u001b[0;34m,\u001b[0m \u001b[0msims\u001b[0m\u001b[0;34m[\u001b[0m\u001b[0mindex\u001b[0m\u001b[0;34m]\u001b[0m\u001b[0;34m,\u001b[0m \u001b[0;34m' '\u001b[0m\u001b[0;34m.\u001b[0m\u001b[0mjoin\u001b[0m\u001b[0;34m(\u001b[0m\u001b[0mdocument_text\u001b[0m\u001b[0;34m[\u001b[0m\u001b[0mdocs_ids\u001b[0m\u001b[0;34m.\u001b[0m\u001b[0mindex\u001b[0m\u001b[0;34m(\u001b[0m\u001b[0msims\u001b[0m\u001b[0;34m[\u001b[0m\u001b[0mindex\u001b[0m\u001b[0;34m]\u001b[0m\u001b[0;34m[\u001b[0m\u001b[0;36m0\u001b[0m\u001b[0;34m]\u001b[0m\u001b[0;34m)\u001b[0m\u001b[0;34m]\u001b[0m\u001b[0;34m.\u001b[0m\u001b[0mwords\u001b[0m\u001b[0;34m)\u001b[0m\u001b[0;34m)\u001b[0m\u001b[0;34m)\u001b[0m\u001b[0;34m\u001b[0m\u001b[0;34m\u001b[0m\u001b[0m\n\u001b[0m",
      "\u001b[0;31mValueError\u001b[0m: 590579 is not in list"
     ]
    }
   ],
   "source": [
    "# Compare and print the most/median/least similar documents from the train corpus\n",
    "print('Test Document ({}): «{}»\\n'.format(doc_id, ' '.join(document_text[doc_id].words)))\n",
    "print(u'SIMILAR/DISSIMILAR DOCS PER MODEL %s:\\n' % model)\n",
    "for label, index in [('MOST', 0), ('MEDIAN', len(sims)//2), ('LEAST', len(sims) - 1)]:\n",
    "    print(u'%s %s: «%s»\\n' % (label, sims[index], ' '.join(document_text[docs_ids.index(sims[index][0])].words)))"
   ]
  }
 ],
 "metadata": {
  "kernelspec": {
   "display_name": "Python 3",
   "language": "python",
   "name": "python3"
  },
  "language_info": {
   "codemirror_mode": {
    "name": "ipython",
    "version": 3
   },
   "file_extension": ".py",
   "mimetype": "text/x-python",
   "name": "python",
   "nbconvert_exporter": "python",
   "pygments_lexer": "ipython3",
   "version": "3.7.6"
  }
 },
 "nbformat": 4,
 "nbformat_minor": 4
}
