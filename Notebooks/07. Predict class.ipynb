{
 "cells": [
  {
   "cell_type": "code",
   "execution_count": 1,
   "metadata": {},
   "outputs": [],
   "source": [
    "%load_ext autoreload\n",
    "%autoreload 2\n",
    "import telepot\n",
    "bot = telepot.Bot('436447719:AAGq_iK2hE3cPFhmL9Jh53g9HyVkw3SXZbg')\n",
    "def qq(txt):\n",
    "    bot.sendMessage(1114926, txt)"
   ]
  },
  {
   "cell_type": "code",
   "execution_count": 99,
   "metadata": {},
   "outputs": [],
   "source": [
    "qq('start')"
   ]
  },
  {
   "cell_type": "code",
   "execution_count": 100,
   "metadata": {},
   "outputs": [],
   "source": [
    "import json\n",
    "import gzip\n",
    "from itertools import islice\n",
    "from collections import Counter, defaultdict\n",
    "from operator import itemgetter\n",
    "import pyarrow.parquet as pq\n",
    "import pyarrow as pa\n",
    "\n",
    "import pandas as pd\n",
    "from tqdm.notebook import tqdm\n",
    "import dill\n",
    "import os\n",
    "from pqdm.processes import pqdm\n",
    "import re\n",
    "\n",
    "from workers import *\n",
    "    \n",
    "from gensim.test.utils import common_texts\n",
    "from gensim.models.doc2vec import Doc2Vec, TaggedDocument\n",
    "from gensim.models.callbacks import CallbackAny2Vec\n",
    "\n",
    "import random\n",
    "import collections\n",
    "import gc"
   ]
  },
  {
   "cell_type": "code",
   "execution_count": 108,
   "metadata": {},
   "outputs": [],
   "source": [
    "import torch\n",
    "import torch.nn as nn\n",
    "import torch.nn.functional as F\n",
    "import torch.optim as optim\n",
    "from torch.autograd import Variable\n",
    "from torch.utils.tensorboard import SummaryWriter\n",
    "from sklearn.metrics import accuracy_score"
   ]
  },
  {
   "cell_type": "code",
   "execution_count": 5,
   "metadata": {},
   "outputs": [],
   "source": [
    "GLOBAL_DEVICE =  torch.device('cpu') # torch.device('cuda:0') # "
   ]
  },
  {
   "cell_type": "code",
   "execution_count": 47,
   "metadata": {},
   "outputs": [],
   "source": [
    "class My_Iterator(object):\n",
    "    def __init__(self, df, batch=64, vect_name='text_vector', label_name='specialization'):\n",
    "        cols_to_drop = [col for col in df.columns if col not in (vect_name, label_name)]\n",
    "        self.df = df.reset_index(drop=True).copy()\n",
    "        self.df.drop(columns=cols_to_drop, inplace=True)\n",
    "        self.batch = batch \n",
    "        self.len = df.shape[0]\n",
    "        self.vect_name = vect_name\n",
    "        self.label_name = label_name\n",
    "\n",
    "    def __iter__(self):\n",
    "        j = -1\n",
    "        for i in range(0, self.len, self.batch):\n",
    "            vec = torch.tensor(self.df.loc[i:(i+self.batch-1), self.vect_name].to_list())\n",
    "            lbl = torch.tensor(self.df.loc[i:(i+self.batch-1), self.label_name].values)\n",
    "            j += 1\n",
    "            yield j, vec, lbl"
   ]
  },
  {
   "cell_type": "code",
   "execution_count": 13,
   "metadata": {},
   "outputs": [],
   "source": [
    "def evaluate_model(model, iterator, number_of_batches = 10):\n",
    "    all_preds = []\n",
    "    all_y = []\n",
    "    model.train(False)\n",
    "    for i, x, y in iterator:\n",
    "        x = x.to(GLOBAL_DEVICE)\n",
    "        y_pred = model(x)\n",
    "        predicted = torch.max(y_pred.cpu().data, 1)[1]\n",
    "        all_preds.extend(predicted.numpy())\n",
    "        all_y.extend(y.numpy())\n",
    "    model.train(True)\n",
    "    score = accuracy_score(all_y, np.array(all_preds).flatten())\n",
    "    return score"
   ]
  },
  {
   "cell_type": "code",
   "execution_count": null,
   "metadata": {},
   "outputs": [],
   "source": [
    "class SimpleNN(nn.Module):\n",
    "    def __init__(self, config):\n",
    "        super(SimpleNN, self).__init__()\n",
    "        self.config = config\n",
    "        self.device= GLOBAL_DEVICE\n",
    "        \n",
    "        # Input:  batch_size x input_size \n",
    "        # Output: batch_size x hidden_size\n",
    "        \n",
    "#         # Fully-Connected Layer\n",
    "#         self.fc0 = nn.Linear(\n",
    "#             self.config.input_size,\n",
    "#             self.config.output_size[0]\n",
    "#         )\n",
    "        \n",
    "#         self.fc1 = nn.Linear(\n",
    "#             self.config.output_size[0],\n",
    "#             self.config.output_size[1]\n",
    "#         )\n",
    "        \n",
    "#         self.fc2 = nn.Linear(\n",
    "#             self.config.output_size[1],\n",
    "#             self.config.output_size[2]\n",
    "#         )\n",
    "        \n",
    "        # Softmax non-linearity\n",
    "        self.logsoftmax = nn.LogSoftmax(dim=1)\n",
    "        \n",
    "        self.classifier = nn.Sequential(\n",
    "            nn.Linear(self.config.input_size, self.config.output_size[0]),\n",
    "            nn.Dropout(0.2)\n",
    "            nn.BatchNorm1d(self.config.output_size[0]), #applying batch norm\n",
    "            nn.ReLU(),\n",
    "            nn.Linear(self.config.output_size[0], self.config.output_size[1]),\n",
    "            nn.Dropout(0.2)\n",
    "            nn.BatchNorm1d(self.config.output_size[1]),\n",
    "            nn.ReLU(),\n",
    "            nn.Linear(self.config.output_size[1], self.config.output_size[2])\n",
    "            nn.LogSoftmax(dim=1)\n",
    "        )\n",
    "    \n",
    "        \n",
    "    def forward(self, x):\n",
    "        # x.shape = (input_size, batch_size)\n",
    "        \n",
    "#         f0_out = self.fc0(x)\n",
    "        \n",
    "#         f0_out = F.relu(f0_out)\n",
    "\n",
    "#         f1_out = self.fc1(f0_out)\n",
    "        \n",
    "#         f1_out = F.relu(f1_out)\n",
    "\n",
    "#         f2_out = self.fc2(f1_out)\n",
    "\n",
    "#         return self.logsoftmax(f2_out)\n",
    "        return self.classifier(x)\n",
    "    \n",
    "    def add_optimizer(self, optimizer):\n",
    "        self.optimizer = optimizer\n",
    "        \n",
    "    def add_loss_op(self, loss_op):\n",
    "        self.loss_op = loss_op\n",
    "    \n",
    "    def reduce_lr(self):\n",
    "        print(\"Reducing LR\")\n",
    "        for g in self.optimizer.param_groups:\n",
    "            g['lr'] = g['lr'] / 2\n",
    "        print(\"Reducing LR:\", [g['lr'] for gr in self.optimizer.param_groups])\n",
    "                \n",
    "    def run_epoch(self, train_iterator, test_iterator, epoch, bt_count):\n",
    "        train_losses = []\n",
    "        test_accuracies = []\n",
    "        losses = []\n",
    "        total = 0\n",
    "        \n",
    "        accuracies = []\n",
    "        \n",
    "        # Reduce learning rate as number of epochs increase\n",
    "        if (epoch == int(self.config.max_epochs/3)) or (epoch == int(2*self.config.max_epochs/3)):\n",
    "            self.reduce_lr()\n",
    "            \n",
    "        for i, x, y in train_iterator:\n",
    "          \n",
    "            x = Variable(x.to(self.device))\n",
    "            y = y.to(self.device)\n",
    "            bt_count += 1\n",
    "            \n",
    "            self.optimizer.zero_grad()\n",
    "            y_pred = self.__call__(x)\n",
    "                    \n",
    "            loss = self.loss_op(y_pred, y)\n",
    "            loss.backward()\n",
    "            losses.append(loss.data.cpu().numpy())\n",
    "            #accuracy = accuracy_score(y.data.cpu().numpy(), torch.max(y_pred.cpu().data, 1)[1])\n",
    "            self.optimizer.step()\n",
    "    \n",
    "            if i % 100 == 0:\n",
    "                print(\"Iter: {}\".format(i+1))\n",
    "                avg_train_loss = np.mean(losses)\n",
    "                train_losses.append(avg_train_loss)\n",
    "                print(\"\\tAverage training loss: {:.5f}\".format(avg_train_loss))\n",
    "                losses = []\n",
    "                \n",
    "                # Evalute Accuracy on test set\n",
    "                test_accuracy = evaluate_model(self, test_iterator)\n",
    "                print(\"\\tTest Accuracy: {:.4f}\".format(test_accuracy))\n",
    "                writer.add_scalar('Loss/Train', avg_train_loss, bt_count)\n",
    "                writer.add_scalar('Accuracy/Test', test_accuracy, bt_count)\n",
    "                \n",
    "                self.train()\n",
    "                             \n",
    "        return train_losses, test_accuracy, bt_count"
   ]
  },
  {
   "cell_type": "code",
   "execution_count": 7,
   "metadata": {},
   "outputs": [],
   "source": [
    "class Config(object):\n",
    "    output_size = [300, 460 , 620]\n",
    "    max_epochs = 5\n",
    "    lr = 0.5\n",
    "    batch_size = 64\n",
    "    input_size = 300\n",
    "\n",
    "\n",
    "config = Config()"
   ]
  },
  {
   "cell_type": "code",
   "execution_count": 10,
   "metadata": {},
   "outputs": [
    {
     "data": {
      "text/plain": [
       "40"
      ]
     },
     "execution_count": 10,
     "metadata": {},
     "output_type": "execute_result"
    }
   ],
   "source": [
    "model=None\n",
    "gc.collect()"
   ]
  },
  {
   "cell_type": "code",
   "execution_count": 121,
   "metadata": {},
   "outputs": [],
   "source": []
  },
  {
   "cell_type": "code",
   "execution_count": 122,
   "metadata": {},
   "outputs": [],
   "source": []
  },
  {
   "cell_type": "code",
   "execution_count": 24,
   "metadata": {},
   "outputs": [],
   "source": [
    "# load df\n",
    "df = pd.read_parquet('df_unp_vector.pq')"
   ]
  },
  {
   "cell_type": "code",
   "execution_count": 28,
   "metadata": {},
   "outputs": [],
   "source": [
    "test_vac_id = set(dill.load(open('validatin.bin','rb')))"
   ]
  },
  {
   "cell_type": "code",
   "execution_count": 29,
   "metadata": {},
   "outputs": [],
   "source": [
    "df['validation'] = df['vacancy_id'].apply(lambda x: x in test_vac_id)"
   ]
  },
  {
   "cell_type": "code",
   "execution_count": 30,
   "metadata": {},
   "outputs": [
    {
     "data": {
      "text/plain": [
       "Index(['vacancy_id', 'employer', 'key_list', 'name_list', 'text_vector',\n",
       "       'specialization', 'validation'],\n",
       "      dtype='object')"
      ]
     },
     "execution_count": 30,
     "metadata": {},
     "output_type": "execute_result"
    }
   ],
   "source": [
    "df.columns"
   ]
  },
  {
   "cell_type": "code",
   "execution_count": 31,
   "metadata": {},
   "outputs": [
    {
     "data": {
      "text/html": [
       "<div>\n",
       "<style scoped>\n",
       "    .dataframe tbody tr th:only-of-type {\n",
       "        vertical-align: middle;\n",
       "    }\n",
       "\n",
       "    .dataframe tbody tr th {\n",
       "        vertical-align: top;\n",
       "    }\n",
       "\n",
       "    .dataframe thead th {\n",
       "        text-align: right;\n",
       "    }\n",
       "</style>\n",
       "<table border=\"1\" class=\"dataframe\">\n",
       "  <thead>\n",
       "    <tr style=\"text-align: right;\">\n",
       "      <th></th>\n",
       "      <th>vacancy_id</th>\n",
       "      <th>employer</th>\n",
       "      <th>key_list</th>\n",
       "      <th>name_list</th>\n",
       "      <th>text_vector</th>\n",
       "      <th>specialization</th>\n",
       "      <th>validation</th>\n",
       "    </tr>\n",
       "  </thead>\n",
       "  <tbody>\n",
       "    <tr>\n",
       "      <th>0</th>\n",
       "      <td>2700005</td>\n",
       "      <td>845fe6266ab1</td>\n",
       "      <td>[]</td>\n",
       "      <td>[Разработчик, Python/django]</td>\n",
       "      <td>[-0.37388623, 0.26167643, 0.3595109, -0.166157...</td>\n",
       "      <td>137</td>\n",
       "      <td>False</td>\n",
       "    </tr>\n",
       "    <tr>\n",
       "      <th>1</th>\n",
       "      <td>2700005</td>\n",
       "      <td>845fe6266ab1</td>\n",
       "      <td>[]</td>\n",
       "      <td>[Разработчик, Python/django]</td>\n",
       "      <td>[-0.37388623, 0.26167643, 0.3595109, -0.166157...</td>\n",
       "      <td>221</td>\n",
       "      <td>False</td>\n",
       "    </tr>\n",
       "    <tr>\n",
       "      <th>2</th>\n",
       "      <td>2700005</td>\n",
       "      <td>845fe6266ab1</td>\n",
       "      <td>[]</td>\n",
       "      <td>[Разработчик, Python/django]</td>\n",
       "      <td>[-0.37388623, 0.26167643, 0.3595109, -0.166157...</td>\n",
       "      <td>296</td>\n",
       "      <td>False</td>\n",
       "    </tr>\n",
       "    <tr>\n",
       "      <th>3</th>\n",
       "      <td>2700006</td>\n",
       "      <td>23ead4a8f164</td>\n",
       "      <td>[работа, текущий, база, клиент, мерчендайзинг,...</td>\n",
       "      <td>[Торговый, представитель]</td>\n",
       "      <td>[-0.07712369, -0.11375963, 0.07628894, -0.0080...</td>\n",
       "      <td>149</td>\n",
       "      <td>False</td>\n",
       "    </tr>\n",
       "    <tr>\n",
       "      <th>4</th>\n",
       "      <td>2700006</td>\n",
       "      <td>23ead4a8f164</td>\n",
       "      <td>[работа, текущий, база, клиент, мерчендайзинг,...</td>\n",
       "      <td>[Торговый, представитель]</td>\n",
       "      <td>[-0.07712369, -0.11375963, 0.07628894, -0.0080...</td>\n",
       "      <td>242</td>\n",
       "      <td>False</td>\n",
       "    </tr>\n",
       "  </tbody>\n",
       "</table>\n",
       "</div>"
      ],
      "text/plain": [
       "   vacancy_id      employer  \\\n",
       "0     2700005  845fe6266ab1   \n",
       "1     2700005  845fe6266ab1   \n",
       "2     2700005  845fe6266ab1   \n",
       "3     2700006  23ead4a8f164   \n",
       "4     2700006  23ead4a8f164   \n",
       "\n",
       "                                            key_list  \\\n",
       "0                                                 []   \n",
       "1                                                 []   \n",
       "2                                                 []   \n",
       "3  [работа, текущий, база, клиент, мерчендайзинг,...   \n",
       "4  [работа, текущий, база, клиент, мерчендайзинг,...   \n",
       "\n",
       "                      name_list  \\\n",
       "0  [Разработчик, Python/django]   \n",
       "1  [Разработчик, Python/django]   \n",
       "2  [Разработчик, Python/django]   \n",
       "3     [Торговый, представитель]   \n",
       "4     [Торговый, представитель]   \n",
       "\n",
       "                                         text_vector  specialization  \\\n",
       "0  [-0.37388623, 0.26167643, 0.3595109, -0.166157...             137   \n",
       "1  [-0.37388623, 0.26167643, 0.3595109, -0.166157...             221   \n",
       "2  [-0.37388623, 0.26167643, 0.3595109, -0.166157...             296   \n",
       "3  [-0.07712369, -0.11375963, 0.07628894, -0.0080...             149   \n",
       "4  [-0.07712369, -0.11375963, 0.07628894, -0.0080...             242   \n",
       "\n",
       "   validation  \n",
       "0       False  \n",
       "1       False  \n",
       "2       False  \n",
       "3       False  \n",
       "4       False  "
      ]
     },
     "execution_count": 31,
     "metadata": {},
     "output_type": "execute_result"
    }
   ],
   "source": [
    "df.head()"
   ]
  },
  {
   "cell_type": "code",
   "execution_count": 88,
   "metadata": {},
   "outputs": [],
   "source": [
    "from sklearn.preprocessing import LabelEncoder\n",
    "le = LabelEncoder()"
   ]
  },
  {
   "cell_type": "code",
   "execution_count": 90,
   "metadata": {},
   "outputs": [],
   "source": [
    "df['specialization'] = le.fit_transform(df['specialization'])"
   ]
  },
  {
   "cell_type": "code",
   "execution_count": 96,
   "metadata": {},
   "outputs": [],
   "source": [
    "dill.dump(le, open('le.bin', 'wb'))"
   ]
  },
  {
   "cell_type": "code",
   "execution_count": 109,
   "metadata": {},
   "outputs": [],
   "source": [
    "%load_ext tensorboard"
   ]
  },
  {
   "cell_type": "code",
   "execution_count": 123,
   "metadata": {},
   "outputs": [
    {
     "name": "stdout",
     "output_type": "stream",
     "text": [
      "Run on CPU\n"
     ]
    }
   ],
   "source": [
    "!rm -rf ./runs/\n",
    "writer = SummaryWriter('runs/my_run')\n",
    "if GLOBAL_DEVICE != torch.device('cpu'):\n",
    "    print(\"Run on CUDA\")\n",
    "    model.cuda()\n",
    "else:\n",
    "    print(\"Run on CPU\")\n",
    "\n",
    "train_losses = []\n",
    "test_accuracies = []"
   ]
  },
  {
   "cell_type": "code",
   "execution_count": 124,
   "metadata": {},
   "outputs": [],
   "source": [
    "\n",
    "model = SimpleNN(config)\n",
    "\n",
    "model.train(True)\n",
    "optimizer = optim.SGD(model.parameters(), lr=config.lr)\n",
    "NLLLoss = nn.NLLLoss()\n",
    "model.add_optimizer(optimizer)\n",
    "model.add_loss_op(NLLLoss)\n",
    "num_steps = 0"
   ]
  },
  {
   "cell_type": "code",
   "execution_count": null,
   "metadata": {},
   "outputs": [
    {
     "name": "stdout",
     "output_type": "stream",
     "text": [
      "Epoch: 1\n",
      "Reducing LR\n",
      "Reducing LR: [0.25]\n",
      "Iter: 1\n",
      "\tAverage training loss: 6.43412\n",
      "\tTest Accuracy: 0.0021\n",
      "Iter: 101\n",
      "\tAverage training loss: 5.98224\n",
      "\tTest Accuracy: 0.0158\n",
      "Iter: 201\n",
      "\tAverage training loss: 5.64956\n",
      "\tTest Accuracy: 0.0360\n",
      "Iter: 301\n",
      "\tAverage training loss: 5.53619\n",
      "\tTest Accuracy: 0.0480\n",
      "Iter: 401\n",
      "\tAverage training loss: 5.44885\n",
      "\tTest Accuracy: 0.0533\n",
      "Iter: 501\n",
      "\tAverage training loss: 5.24884\n",
      "\tTest Accuracy: 0.0555\n",
      "Iter: 601\n",
      "\tAverage training loss: 5.13826\n",
      "\tTest Accuracy: 0.0641\n",
      "Iter: 701\n",
      "\tAverage training loss: 5.02860\n",
      "\tTest Accuracy: 0.0690\n",
      "Iter: 801\n",
      "\tAverage training loss: 4.98660\n",
      "\tTest Accuracy: 0.0761\n",
      "Iter: 901\n",
      "\tAverage training loss: 4.84567\n",
      "\tTest Accuracy: 0.0804\n",
      "Iter: 1001\n",
      "\tAverage training loss: 4.73747\n",
      "\tTest Accuracy: 0.0725\n",
      "Iter: 1101\n",
      "\tAverage training loss: 4.70895\n",
      "\tTest Accuracy: 0.0810\n",
      "Iter: 1201\n",
      "\tAverage training loss: 4.63732\n",
      "\tTest Accuracy: 0.0836\n",
      "Iter: 1301\n",
      "\tAverage training loss: 4.54997\n",
      "\tTest Accuracy: 0.0865\n",
      "Iter: 1401\n",
      "\tAverage training loss: 4.50931\n",
      "\tTest Accuracy: 0.0897\n",
      "Iter: 1501\n",
      "\tAverage training loss: 4.46951\n",
      "\tTest Accuracy: 0.0926\n",
      "Iter: 1601\n",
      "\tAverage training loss: 4.44018\n",
      "\tTest Accuracy: 0.0864\n",
      "Iter: 1701\n",
      "\tAverage training loss: 4.43663\n"
     ]
    }
   ],
   "source": [
    "for i in range(1, config.max_epochs):\n",
    "    test_iter = My_Iterator(df[df.validation], config.batch_size)\n",
    "    train_iter = My_Iterator(df[~df.validation], config.batch_size)\n",
    "    print (\"Epoch: {}\".format(i))\n",
    "    train_loss,test_accuracy, num_steps = model.run_epoch(train_iter, test_iter, i, num_steps)\n",
    "    train_losses.append(train_loss)\n",
    "    test_accuracies.append(test_accuracy)\n",
    "\n",
    "train_acc = evaluate_model(model, train_iter)\n",
    "test_acc = evaluate_model(model, test_iter)\n",
    "\n",
    "print ('Final Training Accuracy: {:.4f}'.format(train_acc))\n",
    "print ('Final Test Accuracy: {:.4f}'.format(test_acc))"
   ]
  },
  {
   "cell_type": "code",
   "execution_count": 73,
   "metadata": {},
   "outputs": [],
   "source": [
    "data = torch.randn(5)"
   ]
  },
  {
   "cell_type": "code",
   "execution_count": 127,
   "metadata": {},
   "outputs": [
    {
     "name": "stderr",
     "output_type": "stream",
     "text": [
      "/home/rsgbank/anaconda3/lib/python3.7/site-packages/torch/serialization.py:292: UserWarning: Couldn't retrieve source code for container of type SimpleNN. It won't be checked for correctness upon loading.\n",
      "  \"type \" + obj.__name__ + \". It won't be checked \"\n",
      "/home/rsgbank/anaconda3/lib/python3.7/site-packages/torch/serialization.py:292: UserWarning: Couldn't retrieve source code for container of type Linear. It won't be checked for correctness upon loading.\n",
      "  \"type \" + obj.__name__ + \". It won't be checked \"\n",
      "/home/rsgbank/anaconda3/lib/python3.7/site-packages/torch/serialization.py:292: UserWarning: Couldn't retrieve source code for container of type LogSoftmax. It won't be checked for correctness upon loading.\n",
      "  \"type \" + obj.__name__ + \". It won't be checked \"\n",
      "/home/rsgbank/anaconda3/lib/python3.7/site-packages/torch/serialization.py:292: UserWarning: Couldn't retrieve source code for container of type NLLLoss. It won't be checked for correctness upon loading.\n",
      "  \"type \" + obj.__name__ + \". It won't be checked \"\n"
     ]
    }
   ],
   "source": [
    "torch.save(model, 'fc_model.bin')"
   ]
  },
  {
   "cell_type": "code",
   "execution_count": 128,
   "metadata": {},
   "outputs": [],
   "source": [
    "md = torch.load('fc_model.bin')"
   ]
  },
  {
   "cell_type": "code",
   "execution_count": 129,
   "metadata": {},
   "outputs": [
    {
     "data": {
      "text/plain": [
       "SimpleNN(\n",
       "  (fc0): Linear(in_features=300, out_features=300, bias=True)\n",
       "  (fc1): Linear(in_features=300, out_features=500, bias=True)\n",
       "  (fc2): Linear(in_features=500, out_features=620, bias=True)\n",
       "  (logsoftmax): LogSoftmax()\n",
       "  (loss_op): NLLLoss()\n",
       ")"
      ]
     },
     "execution_count": 129,
     "metadata": {},
     "output_type": "execute_result"
    }
   ],
   "source": [
    "md"
   ]
  },
  {
   "cell_type": "code",
   "execution_count": 132,
   "metadata": {},
   "outputs": [
    {
     "data": {
      "text/plain": [
       "torch.Size([500, 300])"
      ]
     },
     "execution_count": 132,
     "metadata": {},
     "output_type": "execute_result"
    }
   ],
   "source": [
    "md.fc1.weight.shape"
   ]
  }
 ],
 "metadata": {
  "kernelspec": {
   "display_name": "Python 3",
   "language": "python",
   "name": "python3"
  },
  "language_info": {
   "codemirror_mode": {
    "name": "ipython",
    "version": 3
   },
   "file_extension": ".py",
   "mimetype": "text/x-python",
   "name": "python",
   "nbconvert_exporter": "python",
   "pygments_lexer": "ipython3",
   "version": "3.7.6"
  }
 },
 "nbformat": 4,
 "nbformat_minor": 4
}
