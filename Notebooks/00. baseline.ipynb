{
 "cells": [
  {
   "cell_type": "code",
   "execution_count": 1,
   "metadata": {},
   "outputs": [],
   "source": [
    "import json\n",
    "import gzip\n",
    "from itertools import islice\n",
    "from collections import Counter, defaultdict\n",
    "from operator import itemgetter\n",
    "\n",
    "import pandas as pd\n",
    "from tqdm.notebook import tqdm"
   ]
  },
  {
   "cell_type": "code",
   "execution_count": 20,
   "metadata": {},
   "outputs": [],
   "source": [
    "data_path = '..\\\\Data\\\\In\\\\'\n",
    "submissions_path =  '..\\\\Submissions\\\\'"
   ]
  },
  {
   "cell_type": "markdown",
   "metadata": {},
   "source": [
    "## Чтение входных данных"
   ]
  },
  {
   "cell_type": "markdown",
   "metadata": {},
   "source": [
    "Напишем простую функцию для чтения файла с частью вакансий:"
   ]
  },
  {
   "cell_type": "code",
   "execution_count": 5,
   "metadata": {},
   "outputs": [],
   "source": [
    "def read_vacancies_part(part):\n",
    "    with gzip.open(data_path+f'vacancies-{part:02}.json.gz', 'r') as fp:\n",
    "        return json.loads(fp.read())"
   ]
  },
  {
   "cell_type": "code",
   "execution_count": 22,
   "metadata": {},
   "outputs": [
    {
     "name": "stdout",
     "output_type": "stream",
     "text": [
      "Всего вакансий в части 1: 300,000\n",
      "Wall time: 9.61 s\n"
     ]
    }
   ],
   "source": [
    "%%time\n",
    "\n",
    "part = read_vacancies_part(1)\n",
    "print(f'Всего вакансий в части 1: {len(part):,d}')"
   ]
  },
  {
   "cell_type": "markdown",
   "metadata": {},
   "source": [
    "Пример содержимого вакансии:"
   ]
  },
  {
   "cell_type": "code",
   "execution_count": 26,
   "metadata": {},
   "outputs": [
    {
     "data": {
      "text/plain": [
       "{'name': 'Супервайзер команды Службы поддержки пользователей',\n",
       " 'description': '<p>В связи с расширением, в международной компании OLX Group открыта вакансия <strong>Супервайзера команды Службы поддержки пользователей</strong>.</p> <p>Если ты целеустремленный, ты хочешь помогать другим и развиваться вместе с OLX - присоединяйся к нашей большой и дружной команде!</p> <p>Ниже ты можешь ознакомиться с основными обязанностями, требованиями, а также условиями работы на данной позиции. Мы стремимся создать комфортные условия каждому члену нашей команды и заинтересованы в долгосрочном сотрудничестве с достойными кандидатами.</p> <p><strong>Обязанности:</strong></p> <ul> <li>работа с командой;</li> <li>обучение новых сотрудников, адаптация;</li> <li>организация и проведение тренингов, ежемесячных тестирований;</li> <li>наполнение и актуализация базы знаний для агентов, написание инструкций и коммуникация изменений;</li> <li>статистика и аналитика KPI;</li> <li>сбор и передача данных по агентам для подсчета бонусов;</li> <li>координация работы агентов;</li> <li>контроль достижения KPI агентами;</li> <li>проведение индивидуальной работы с агентами (получение обратной связи, помощь по возникающим вопросам);</li> <li>распределение тикетов между агентами, контроль за соблюдением ими очередности;</li> <li>взаимодействие с другими отделами;</li> <li>наполнение и актуализация базы знаний для пользователей;</li> <li>обработка тикетов.</li> </ul> <p><strong>Требования:</strong></p> <ul> <li>выполнение задач в поставленные сроки;</li> <li>отличные коммуникативные навыки;</li> <li>командность;</li> <li>желание развиваться и развивать команду;</li> <li>желание и умение работать на результат;</li> <li>проактивность, предложение инициатив на благо команды;</li> <li>ответственное отношение к работе;</li> <li>грамотная русская и казахская речь,<strong> знание казахского языка обязательно</strong>;</li> <li> <p>грамотная письменная речь;</p> </li> <li>опытный пользователь ПК;</li> <li>аналитический склад ума;</li> <li>опыт пользования досками бесплатных объявлений;</li> <li>знание английского языка будет плюсом.</li> </ul> <p><strong>И еще:</strong></p> <ul> <li> <p>мы должны совпадать по ценностям;</p> </li> <li> <p>если ты в нашей команде, забудь о таком понятии как равнодушие - навсегда;</p> </li> <li> <p>это не просто работа, это идея, это мечта, это большое дело не только для компании OLX, но и для всех, кто когда-либо слышал о ней</p> </li> </ul> <p><strong>Что мы предлагаем:</strong></p> <ul> <li>работа в компании, входящей в международную группу;</li> <li>официальное трудоустройство согласно законодательству РК;</li> <li>конкурентоспособная и официальная оплата труда;</li> <li>медицинская страховка после успешного завершения испытательного срока;</li> <li>возможность компенсации спорта согласно политике компании после успешного прохождения испытательного срока;</li> <li>комфортный, светлый офис. Чай, кофе и другие фишки прилагаются;</li> <li>постоянное обучение и рост мастерства на ежедневной основе;</li> <li>западная культура работы и ведения бизнеса, работа в команде профессионалов;</li> <li>молодая и активная команда - мы любим посмеяться, но работу воспринимаем всерьез;</li> <li>яркие и запоминающиеся корпоративные мероприятия ;)</li> </ul> <p><strong>Присоединяйся к единомышленникам - большой и дружной команде OLX!</strong></p>',\n",
       " 'area_id': 160,\n",
       " 'creation_date': '2019-07-26',\n",
       " 'employment': 'full',\n",
       " 'work_schedule': 'fullDay',\n",
       " 'work_experience': 'between1And3',\n",
       " 'compensation_from': None,\n",
       " 'compensation_to': None,\n",
       " 'currency': None,\n",
       " 'key_skills': [],\n",
       " 'employer': 'b9aa259f8724'}"
      ]
     },
     "execution_count": 26,
     "metadata": {},
     "output_type": "execute_result"
    }
   ],
   "source": [
    "part['2']"
   ]
  },
  {
   "cell_type": "code",
   "execution_count": 7,
   "metadata": {},
   "outputs": [
    {
     "name": "stdout",
     "output_type": "stream",
     "text": [
      "{\n",
      "    \"name\": \"Менеджер по оптовой продаже медицинских оправ и солнцезащитных очков\",\n",
      "    \"description\": \"<strong>Обязанности:</strong> <ul> <li> <p>- оптовые продажи медицинских оправ и солнцезащитных очков магазинам оптики</p> <p>- активный поиск клиентов, создание клиентской базы</p> <p>- контроль дебиторской задолженности</p> <p>- выполнение плана продаж</p> <p>- участие в профильных выставках</p> <p>- частые командировки по России</p> </li> </ul> <strong>Требования:</strong> <ul> <li> <p>- образование: высшее (желательно)</p> <p>-умение вести переговоры‚ проводить личные презентации товара и обучение.</p> <p><strong>-</strong>знание сетевого сегмента оптического рынка, опыт работы в области оптовых продаж</p> <p>- навыки телефонных продаж</p> <p>- знание ПК</p> <p> </p> </li> </ul> <strong>Условия:</strong> <ul> <li> <p>- заработная плата: оклад 40 000 +% за выполнение плана</p> <p>- график работы: понедельник - пятница с 10:00 до 18:00</p> </li> </ul>\",\n",
      "    \"area_id\": 1,\n",
      "    \"creation_date\": \"2019-07-05\",\n",
      "    \"employment\": \"full\",\n",
      "    \"work_schedule\": \"fullDay\",\n",
      "    \"work_experience\": \"noExperience\",\n",
      "    \"compensation_from\": 60000,\n",
      "    \"compensation_to\": 100000,\n",
      "    \"currency\": \"RUR\",\n",
      "    \"key_skills\": [\n",
      "        \"Коммуникабельность\"\n",
      "    ],\n",
      "    \"employer\": \"2d136aa135b3\"\n",
      "}\n"
     ]
    }
   ],
   "source": [
    "print(json.dumps(part['20'], indent=4, ensure_ascii=False))"
   ]
  },
  {
   "cell_type": "markdown",
   "metadata": {},
   "source": [
    "Для этого бейзлана нам понадобятся только хэши работодателей, поэтому будет оставлять только их для экономии памяти:"
   ]
  },
  {
   "cell_type": "code",
   "execution_count": 8,
   "metadata": {},
   "outputs": [
    {
     "data": {
      "application/vnd.jupyter.widget-view+json": {
       "model_id": "b7b7360d037e4a20817c2885cdda4661",
       "version_major": 2,
       "version_minor": 0
      },
      "text/plain": [
       "HBox(children=(FloatProgress(value=0.0, max=9.0), HTML(value='')))"
      ]
     },
     "metadata": {},
     "output_type": "display_data"
    },
    {
     "name": "stdout",
     "output_type": "stream",
     "text": [
      "Всего вакансий в части 2: 300,000\n",
      "Всего вакансий в части 3: 300,000\n",
      "Всего вакансий в части 4: 300,000\n",
      "Всего вакансий в части 5: 300,000\n",
      "Всего вакансий в части 6: 300,000\n",
      "Всего вакансий в части 7: 300,000\n",
      "Всего вакансий в части 8: 300,000\n",
      "Всего вакансий в части 9: 300,000\n",
      "Всего вакансий в части 10: 212,650\n",
      "\n",
      "Всего вакансий в датасете: 2,912,650\n",
      "Wall time: 1min 14s\n"
     ]
    }
   ],
   "source": [
    "%%time\n",
    "\n",
    "vacancy_employers = {int(vacancy_id): vacancy['employer'] for vacancy_id, vacancy in part.items()}\n",
    "\n",
    "for part_num in tqdm(range(2, 11)):\n",
    "    part = read_vacancies_part(part_num)\n",
    "    vacancy_employers.update({int(vacancy_id): vacancy['employer'] for vacancy_id, vacancy in part.items()})\n",
    "    print(f'Всего вакансий в части {part_num}: {len(part):,d}')\n",
    "\n",
    "print(f'Всего вакансий в датасете: {len(vacancy_employers):,d}')\n",
    "del part"
   ]
  },
  {
   "cell_type": "markdown",
   "metadata": {},
   "source": [
    "Прочитаем файл со специализациями из тренировочного множества:"
   ]
  },
  {
   "cell_type": "code",
   "execution_count": 10,
   "metadata": {},
   "outputs": [
    {
     "data": {
      "text/html": [
       "<div>\n",
       "<style scoped>\n",
       "    .dataframe tbody tr th:only-of-type {\n",
       "        vertical-align: middle;\n",
       "    }\n",
       "\n",
       "    .dataframe tbody tr th {\n",
       "        vertical-align: top;\n",
       "    }\n",
       "\n",
       "    .dataframe thead th {\n",
       "        text-align: right;\n",
       "    }\n",
       "</style>\n",
       "<table border=\"1\" class=\"dataframe\">\n",
       "  <thead>\n",
       "    <tr style=\"text-align: right;\">\n",
       "      <th></th>\n",
       "      <th>vacancy_id</th>\n",
       "      <th>specializations</th>\n",
       "    </tr>\n",
       "  </thead>\n",
       "  <tbody>\n",
       "    <tr>\n",
       "      <th>0</th>\n",
       "      <td>1</td>\n",
       "      <td>[242, 256, 302, 324, 358, 440]</td>\n",
       "    </tr>\n",
       "    <tr>\n",
       "      <th>1</th>\n",
       "      <td>3</td>\n",
       "      <td>[211]</td>\n",
       "    </tr>\n",
       "    <tr>\n",
       "      <th>2</th>\n",
       "      <td>4</td>\n",
       "      <td>[389, 412, 437]</td>\n",
       "    </tr>\n",
       "    <tr>\n",
       "      <th>3</th>\n",
       "      <td>6</td>\n",
       "      <td>[445]</td>\n",
       "    </tr>\n",
       "    <tr>\n",
       "      <th>4</th>\n",
       "      <td>9</td>\n",
       "      <td>[503]</td>\n",
       "    </tr>\n",
       "  </tbody>\n",
       "</table>\n",
       "</div>"
      ],
      "text/plain": [
       "   vacancy_id                 specializations\n",
       "0           1  [242, 256, 302, 324, 358, 440]\n",
       "1           3                           [211]\n",
       "2           4                 [389, 412, 437]\n",
       "3           6                           [445]\n",
       "4           9                           [503]"
      ]
     },
     "execution_count": 10,
     "metadata": {},
     "output_type": "execute_result"
    }
   ],
   "source": [
    "train_specializations = pd.read_csv(data_path+'train_labels.csv.gz', compression='gzip')\n",
    "train_specializations.head(5)"
   ]
  },
  {
   "cell_type": "markdown",
   "metadata": {},
   "source": [
    "Для удобства превратим прочитанный датафрейм в словарь из id вакансии в список id специализаций:"
   ]
  },
  {
   "cell_type": "code",
   "execution_count": 11,
   "metadata": {},
   "outputs": [],
   "source": [
    "train_specializations = {\n",
    "    vacancy_id: list(map(int, specs[1:-1].split(',')))\n",
    "    for vacancy_id, specs in train_specializations.set_index('vacancy_id')['specializations'].iteritems()\n",
    "}"
   ]
  },
  {
   "cell_type": "markdown",
   "metadata": {},
   "source": [
    "Наконец, прочитаем файл с id вакансий из тестового множества:"
   ]
  },
  {
   "cell_type": "code",
   "execution_count": 13,
   "metadata": {},
   "outputs": [],
   "source": [
    "test_ids = pd.read_csv(data_path+'test_vacancy_ids.csv.gz', compression='gzip').values.ravel()"
   ]
  },
  {
   "cell_type": "markdown",
   "metadata": {},
   "source": [
    "### Подготовка сабмита"
   ]
  },
  {
   "cell_type": "markdown",
   "metadata": {},
   "source": [
    "Подготовим сабмит, основанный на интуиции о том, что работодатели часто создают вакансии с одними и теми же специализациями. Поэтому для каждой вакансии из тествого множества поставим в соответствие:\n",
    "* список из top3 специализаций работодателя, если он встречался в тренировочном множесте\n",
    "* одну самую популярную специализацию во всём тренировочном множестве, если мы не видели этого работодателя"
   ]
  },
  {
   "cell_type": "markdown",
   "metadata": {},
   "source": [
    "Посчитаем встречаемость каждой специализации в целом по всем вакансиям, а также в отдельности по каждому работодателю:"
   ]
  },
  {
   "cell_type": "code",
   "execution_count": 14,
   "metadata": {},
   "outputs": [
    {
     "data": {
      "application/vnd.jupyter.widget-view+json": {
       "model_id": "4fbbe32889b14c8099ec7867cd734126",
       "version_major": 2,
       "version_minor": 0
      },
      "text/plain": [
       "HBox(children=(FloatProgress(value=0.0, max=1456325.0), HTML(value='')))"
      ]
     },
     "metadata": {},
     "output_type": "display_data"
    },
    {
     "name": "stdout",
     "output_type": "stream",
     "text": [
      "\n",
      "Wall time: 4.27 s\n"
     ]
    }
   ],
   "source": [
    "%%time\n",
    "\n",
    "common_counter = Counter()\n",
    "employer_counters = defaultdict(lambda: Counter())\n",
    "\n",
    "for vacancy_id, specs in tqdm(train_specializations.items()):\n",
    "    employer_counter = employer_counters[vacancy_employers[vacancy_id]]\n",
    "    for specialization in specs:\n",
    "        common_counter[specialization] += 1\n",
    "        employer_counter[specialization] += 1"
   ]
  },
  {
   "cell_type": "markdown",
   "metadata": {},
   "source": [
    "Теперь нам известен top3 самых популярных специализаций по каждому работодателю, а также самая популярная специализация в датасете:"
   ]
  },
  {
   "cell_type": "code",
   "execution_count": 15,
   "metadata": {},
   "outputs": [
    {
     "name": "stdout",
     "output_type": "stream",
     "text": [
      "top_spec: 256\n",
      "---\n",
      "0ce23382345c: [256, 231, 535]\n",
      "11ecc72a7a76: [221, 117, 82]\n",
      "e1e424ceb5e4: [389, 412, 437]\n",
      "6bba39296047: [445, 311, 477]\n",
      "01a0c3e3c71c: [503]\n",
      "4f31af482a54: [267, 503, 573]\n",
      "fe75299b4202: [256, 520, 535]\n",
      "298d6ba1690e: [16, 235, 81]\n",
      "2d136aa135b3: [149, 183, 196]\n",
      "67b00ca54374: [196, 417]\n"
     ]
    }
   ],
   "source": [
    "top_spec = common_counter.most_common(1)[0][0]\n",
    "top3_specs_by_employer = {\n",
    "    employer: list(map(itemgetter(0), counter.most_common(3)))\n",
    "    for employer, counter in employer_counters.items()\n",
    "}\n",
    "\n",
    "print(f'top_spec: {top_spec}')\n",
    "print('---')\n",
    "for employer, employer_specs in islice(top3_specs_by_employer.items(), 10):\n",
    "    print(f'{employer}: {employer_specs}')"
   ]
  },
  {
   "cell_type": "markdown",
   "metadata": {},
   "source": [
    "Составим сабмит по описанному выше принципу и запишем его в таком же формате, как и файл со специализациями из тренировочного множества:"
   ]
  },
  {
   "cell_type": "code",
   "execution_count": 19,
   "metadata": {},
   "outputs": [
    {
     "data": {
      "text/plain": [
       "'..\\\\Submissions'"
      ]
     },
     "execution_count": 19,
     "metadata": {},
     "output_type": "execute_result"
    }
   ],
   "source": [
    "submissions_path"
   ]
  },
  {
   "cell_type": "code",
   "execution_count": 18,
   "metadata": {},
   "outputs": [
    {
     "name": "stdout",
     "output_type": "stream",
     "text": [
      "Wall time: 14 s\n"
     ]
    }
   ],
   "source": [
    "%%time\n",
    "sample_submission = pd.DataFrame([\n",
    "    (vacancy_id, top3_specs_by_employer.get(vacancy_employers[vacancy_id], [top_spec]))\n",
    "    for vacancy_id in test_ids\n",
    "], columns=['vacancy_id', 'specializations'])\n",
    "sample_submission.to_csv(submissions_path+f'sample_submission_{\"2020-05-25\"}_{1}.csv.gz', index=False, compression='gzip')"
   ]
  },
  {
   "cell_type": "markdown",
   "metadata": {},
   "source": [
    "Такой сабмит даёт **0.23546** mean f-score на public."
   ]
  }
 ],
 "metadata": {
  "kernelspec": {
   "display_name": "Python 3",
   "language": "python",
   "name": "python3"
  },
  "language_info": {
   "codemirror_mode": {
    "name": "ipython",
    "version": 3
   },
   "file_extension": ".py",
   "mimetype": "text/x-python",
   "name": "python",
   "nbconvert_exporter": "python",
   "pygments_lexer": "ipython3",
   "version": "3.7.6"
  }
 },
 "nbformat": 4,
 "nbformat_minor": 2
}
