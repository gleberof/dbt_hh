{
 "cells": [
  {
   "cell_type": "code",
   "execution_count": 1,
   "metadata": {},
   "outputs": [],
   "source": [
    "%load_ext autoreload\n",
    "%autoreload 2\n",
    "import telepot\n",
    "bot = telepot.Bot('436447719:AAGq_iK2hE3cPFhmL9Jh53g9HyVkw3SXZbg')\n",
    "def qq(txt):\n",
    "    bot.sendMessage(1114926, txt)"
   ]
  },
  {
   "cell_type": "code",
   "execution_count": 2,
   "metadata": {},
   "outputs": [],
   "source": [
    "import json\n",
    "import gzip\n",
    "from itertools import islice\n",
    "from collections import Counter, defaultdict\n",
    "from operator import itemgetter\n",
    "import pyarrow.parquet as pq\n",
    "import pyarrow as pa\n",
    "\n",
    "import pandas as pd\n",
    "from tqdm.notebook import tqdm\n",
    "import dill\n",
    "import os\n",
    "from pqdm.processes import pqdm\n",
    "import re\n",
    "\n",
    "from workers import *\n",
    "    \n",
    "from gensim.test.utils import common_texts\n",
    "from gensim.models.doc2vec import Doc2Vec, TaggedDocument\n",
    "from gensim.models.callbacks import CallbackAny2Vec\n",
    "\n",
    "import random\n",
    "import collections\n",
    "import gc\n",
    "import faiss"
   ]
  },
  {
   "cell_type": "code",
   "execution_count": 3,
   "metadata": {},
   "outputs": [],
   "source": [
    "train = pd.read_parquet('df_vector.pq')\n",
    "test = pd.read_parquet('df_vector_test.pq')"
   ]
  },
  {
   "cell_type": "code",
   "execution_count": 4,
   "metadata": {},
   "outputs": [
    {
     "data": {
      "text/html": [
       "<div>\n",
       "<style scoped>\n",
       "    .dataframe tbody tr th:only-of-type {\n",
       "        vertical-align: middle;\n",
       "    }\n",
       "\n",
       "    .dataframe tbody tr th {\n",
       "        vertical-align: top;\n",
       "    }\n",
       "\n",
       "    .dataframe thead th {\n",
       "        text-align: right;\n",
       "    }\n",
       "</style>\n",
       "<table border=\"1\" class=\"dataframe\">\n",
       "  <thead>\n",
       "    <tr style=\"text-align: right;\">\n",
       "      <th></th>\n",
       "      <th>vacancy_id</th>\n",
       "      <th>name</th>\n",
       "      <th>specializations</th>\n",
       "      <th>key_skills</th>\n",
       "      <th>employer</th>\n",
       "      <th>groups_of_spec</th>\n",
       "      <th>processed_text</th>\n",
       "      <th>key_list</th>\n",
       "      <th>name_list</th>\n",
       "      <th>text_vector</th>\n",
       "    </tr>\n",
       "  </thead>\n",
       "  <tbody>\n",
       "    <tr>\n",
       "      <th>4</th>\n",
       "      <td>2700005</td>\n",
       "      <td>Разработчик Python/django</td>\n",
       "      <td>[137, 221, 296]</td>\n",
       "      <td></td>\n",
       "      <td>845fe6266ab1</td>\n",
       "      <td>[1]</td>\n",
       "      <td>небольшой дружный команда требоваться опытный ...</td>\n",
       "      <td>[]</td>\n",
       "      <td>[Разработчик, Python/django]</td>\n",
       "      <td>[-0.37388623, 0.26167643, 0.3595109, -0.166157...</td>\n",
       "    </tr>\n",
       "    <tr>\n",
       "      <th>5</th>\n",
       "      <td>2700006</td>\n",
       "      <td>Торговый представитель</td>\n",
       "      <td>[149, 242]</td>\n",
       "      <td>работа текущий база клиент мерчендайзинг работ...</td>\n",
       "      <td>23ead4a8f164</td>\n",
       "      <td>[17]</td>\n",
       "      <td>обязанность компания дистрибьютор продукт пита...</td>\n",
       "      <td>[работа, текущий, база, клиент, мерчендайзинг,...</td>\n",
       "      <td>[Торговый, представитель]</td>\n",
       "      <td>[-0.07712369, -0.11375963, 0.07628894, -0.0080...</td>\n",
       "    </tr>\n",
       "  </tbody>\n",
       "</table>\n",
       "</div>"
      ],
      "text/plain": [
       "   vacancy_id                       name  specializations  \\\n",
       "4     2700005  Разработчик Python/django  [137, 221, 296]   \n",
       "5     2700006     Торговый представитель       [149, 242]   \n",
       "\n",
       "                                          key_skills      employer  \\\n",
       "4                                                     845fe6266ab1   \n",
       "5  работа текущий база клиент мерчендайзинг работ...  23ead4a8f164   \n",
       "\n",
       "  groups_of_spec                                     processed_text  \\\n",
       "4            [1]  небольшой дружный команда требоваться опытный ...   \n",
       "5           [17]  обязанность компания дистрибьютор продукт пита...   \n",
       "\n",
       "                                            key_list  \\\n",
       "4                                                 []   \n",
       "5  [работа, текущий, база, клиент, мерчендайзинг,...   \n",
       "\n",
       "                      name_list  \\\n",
       "4  [Разработчик, Python/django]   \n",
       "5     [Торговый, представитель]   \n",
       "\n",
       "                                         text_vector  \n",
       "4  [-0.37388623, 0.26167643, 0.3595109, -0.166157...  \n",
       "5  [-0.07712369, -0.11375963, 0.07628894, -0.0080...  "
      ]
     },
     "execution_count": 4,
     "metadata": {},
     "output_type": "execute_result"
    }
   ],
   "source": [
    "train.head(2)"
   ]
  },
  {
   "cell_type": "code",
   "execution_count": 5,
   "metadata": {},
   "outputs": [
    {
     "data": {
      "text/html": [
       "<div>\n",
       "<style scoped>\n",
       "    .dataframe tbody tr th:only-of-type {\n",
       "        vertical-align: middle;\n",
       "    }\n",
       "\n",
       "    .dataframe tbody tr th {\n",
       "        vertical-align: top;\n",
       "    }\n",
       "\n",
       "    .dataframe thead th {\n",
       "        text-align: right;\n",
       "    }\n",
       "</style>\n",
       "<table border=\"1\" class=\"dataframe\">\n",
       "  <thead>\n",
       "    <tr style=\"text-align: right;\">\n",
       "      <th></th>\n",
       "      <th>vacancy_id</th>\n",
       "      <th>name</th>\n",
       "      <th>specializations</th>\n",
       "      <th>key_skills</th>\n",
       "      <th>employer</th>\n",
       "      <th>groups_of_spec</th>\n",
       "      <th>processed_text</th>\n",
       "      <th>key_list</th>\n",
       "      <th>name_list</th>\n",
       "      <th>text_vector</th>\n",
       "    </tr>\n",
       "  </thead>\n",
       "  <tbody>\n",
       "    <tr>\n",
       "      <th>0</th>\n",
       "      <td>2700001</td>\n",
       "      <td>прораб великий устюг</td>\n",
       "      <td>None</td>\n",
       "      <td></td>\n",
       "      <td>72dc8d78bbec</td>\n",
       "      <td>None</td>\n",
       "      <td>обязанность взаимодействие субподрядчик предос...</td>\n",
       "      <td>[]</td>\n",
       "      <td>[прораб, великий, устюг]</td>\n",
       "      <td>[-0.050694242, 0.4064839, 0.55667454, -0.16124...</td>\n",
       "    </tr>\n",
       "    <tr>\n",
       "      <th>1</th>\n",
       "      <td>2700002</td>\n",
       "      <td>лаборант электротехнический лаборатория</td>\n",
       "      <td>None</td>\n",
       "      <td>office пользователь деловой общение деловой пе...</td>\n",
       "      <td>ba6dcbd0bcd1</td>\n",
       "      <td>None</td>\n",
       "      <td>связь расширение компания требоваться quot лаб...</td>\n",
       "      <td>[office, пользователь, деловой, общение, делов...</td>\n",
       "      <td>[лаборант, электротехнический, лаборатория]</td>\n",
       "      <td>[-0.19709699, -0.35366777, 0.10756227, 0.23191...</td>\n",
       "    </tr>\n",
       "  </tbody>\n",
       "</table>\n",
       "</div>"
      ],
      "text/plain": [
       "   vacancy_id                                     name specializations  \\\n",
       "0     2700001                     прораб великий устюг            None   \n",
       "1     2700002  лаборант электротехнический лаборатория            None   \n",
       "\n",
       "                                          key_skills      employer  \\\n",
       "0                                                     72dc8d78bbec   \n",
       "1  office пользователь деловой общение деловой пе...  ba6dcbd0bcd1   \n",
       "\n",
       "  groups_of_spec                                     processed_text  \\\n",
       "0           None  обязанность взаимодействие субподрядчик предос...   \n",
       "1           None  связь расширение компания требоваться quot лаб...   \n",
       "\n",
       "                                            key_list  \\\n",
       "0                                                 []   \n",
       "1  [office, пользователь, деловой, общение, делов...   \n",
       "\n",
       "                                     name_list  \\\n",
       "0                     [прораб, великий, устюг]   \n",
       "1  [лаборант, электротехнический, лаборатория]   \n",
       "\n",
       "                                         text_vector  \n",
       "0  [-0.050694242, 0.4064839, 0.55667454, -0.16124...  \n",
       "1  [-0.19709699, -0.35366777, 0.10756227, 0.23191...  "
      ]
     },
     "execution_count": 5,
     "metadata": {},
     "output_type": "execute_result"
    }
   ],
   "source": [
    "test.head(2)"
   ]
  },
  {
   "cell_type": "code",
   "execution_count": 6,
   "metadata": {},
   "outputs": [],
   "source": [
    "train_vectors = dill.load(open('train_vectors.bin', 'rb'))\n",
    "test_vectors = dill.load(open('test_vectors.bin', 'rb'))\n",
    "train_specs = dill.load(open('train_spec.bin', 'rb'))"
   ]
  },
  {
   "cell_type": "code",
   "execution_count": 7,
   "metadata": {},
   "outputs": [],
   "source": [
    "test_vectors = np.array(test_vectors)"
   ]
  },
  {
   "cell_type": "code",
   "execution_count": 8,
   "metadata": {},
   "outputs": [
    {
     "name": "stdout",
     "output_type": "stream",
     "text": [
      "(1456325, 300) (1456325, 300) 1456325\n"
     ]
    }
   ],
   "source": [
    "print( train_vectors.shape, test_vectors.shape, len(train_specs))"
   ]
  },
  {
   "cell_type": "code",
   "execution_count": 9,
   "metadata": {},
   "outputs": [],
   "source": [
    "res = faiss.StandardGpuResources()"
   ]
  },
  {
   "cell_type": "code",
   "execution_count": 10,
   "metadata": {},
   "outputs": [],
   "source": [
    "flat_config = faiss.GpuIndexFlatConfig()"
   ]
  },
  {
   "cell_type": "code",
   "execution_count": 11,
   "metadata": {},
   "outputs": [],
   "source": [
    "flat_config.device = 0"
   ]
  },
  {
   "cell_type": "code",
   "execution_count": 12,
   "metadata": {},
   "outputs": [],
   "source": [
    "faiss.gpu_profiler_start()"
   ]
  },
  {
   "cell_type": "code",
   "execution_count": 13,
   "metadata": {},
   "outputs": [],
   "source": [
    "index = faiss.GpuIndexFlatL2(res, 300, flat_config)\n",
    "index.metric_type = faiss.METRIC_INNER_PRODUCT"
   ]
  },
  {
   "cell_type": "code",
   "execution_count": 14,
   "metadata": {},
   "outputs": [],
   "source": [
    "#index = faiss.IndexFlatL2(300)"
   ]
  },
  {
   "cell_type": "code",
   "execution_count": 15,
   "metadata": {},
   "outputs": [
    {
     "data": {
      "text/plain": [
       "array([ 0.07635808, -0.04444308,  0.12572211, -0.00497015, -0.01182629,\n",
       "        0.03017998,  0.19958697, -0.23816393,  0.1457167 ,  0.01362674,\n",
       "        0.00425371, -0.18635483, -0.14764118, -0.41351753, -0.06551188,\n",
       "        0.27204514,  0.39232355, -0.08649422, -0.4159019 , -0.35681784,\n",
       "       -0.1832014 ,  0.02060691,  0.06321481,  0.5310951 ,  0.12520711,\n",
       "        0.3733524 ,  0.08772799, -0.19023725, -0.01939017,  0.10928349,\n",
       "       -0.19881581,  0.15137585, -0.39540207,  0.00679876,  0.05877757,\n",
       "        0.07383891,  0.29580152,  0.1478272 ,  0.20016678, -0.2889955 ,\n",
       "        0.43925104,  0.05119107, -0.07440397,  0.3252259 , -0.11509422,\n",
       "        0.05816205, -0.15044616, -0.20960023, -0.17858297,  0.36963198,\n",
       "       -0.06168141,  0.3599536 , -0.03152198,  0.30750558, -0.30878323,\n",
       "        0.29978535, -0.29523912, -0.2224583 , -0.0278877 ,  0.09069882,\n",
       "        0.24382167,  0.06512558,  0.30853885, -0.2026121 , -0.17556855,\n",
       "       -0.06434678, -0.07239809,  0.25212172, -0.01577256,  0.5101552 ,\n",
       "        0.07970398, -0.12168553, -0.0230141 , -0.31645486,  0.45210987,\n",
       "        0.18331349, -0.4734293 ,  0.10295241,  0.10946894,  0.54132766,\n",
       "        0.2965489 , -0.15407276,  0.08256127, -0.05031798, -0.01362493,\n",
       "       -0.38317367,  0.16502532,  0.24497941,  0.05069716,  0.38798112,\n",
       "        0.03780198,  0.14106521, -0.25269893,  0.04481044, -0.03659659,\n",
       "        0.15592283,  0.07918493, -0.08497456,  0.3649259 , -0.3506833 ,\n",
       "        0.02579863, -0.21868278,  0.5616535 ,  0.06274522, -0.10795767,\n",
       "       -0.02816812,  0.06114143,  0.4135597 ,  0.07706634,  0.17951278,\n",
       "       -0.20817874,  0.031237  , -0.09486176,  0.17858215, -0.3295025 ,\n",
       "        0.236309  ,  0.20850475, -0.27623904, -0.00153328, -0.21576272,\n",
       "       -0.13533807, -0.2848257 ,  0.06517079,  0.22154933,  0.30348438,\n",
       "        0.1974301 , -0.23065488,  0.43862626, -0.5394682 ,  0.03590601,\n",
       "       -0.22513852,  0.0101196 , -0.01403073, -0.00368951,  0.16202635,\n",
       "       -0.1565906 , -0.00417729, -0.0925639 ,  0.35577056, -0.06838487,\n",
       "        0.12608531, -0.07791667,  0.06132195,  0.01995444,  0.23346929,\n",
       "       -0.23014748,  0.15742263,  0.14840229, -0.27675557,  0.02172495,\n",
       "        0.343293  , -0.30615366, -0.5179397 , -0.4075591 , -0.11172435,\n",
       "        0.20776209, -0.20865712,  0.2717442 ,  0.06239802,  0.26632282,\n",
       "        0.40950817,  0.08068992, -0.00526378,  0.08714643,  0.20255   ,\n",
       "        0.16309924, -0.04577323,  0.33328363, -0.23385501, -0.6273109 ,\n",
       "       -0.14459804,  0.19822162,  0.2966762 , -0.20996872, -0.09315673,\n",
       "       -0.05001161,  0.15716843, -0.03202878, -0.17510284, -0.18816404,\n",
       "        0.27989104, -0.04152118, -0.12829061, -0.0255468 ,  0.33191806,\n",
       "       -0.18113792,  0.07397686,  0.0513431 ,  0.58509415, -0.23416647,\n",
       "       -0.18548332,  0.03152826, -0.07576279, -0.22619238,  0.08558024,\n",
       "        0.06109983,  0.09536012, -0.182975  ,  0.02818797,  0.05303359,\n",
       "       -0.01932066, -0.15678622, -0.19921249, -0.06325941,  0.0174592 ,\n",
       "        0.06933501, -0.10852614, -0.2764515 , -0.00626681, -0.0920483 ,\n",
       "        0.13916504, -0.08146747,  0.09029455, -0.16357467,  0.02300212,\n",
       "       -0.39266032, -0.06644011,  0.12226545,  0.55190855, -0.02653455,\n",
       "        0.06407866, -0.23487961, -0.3102584 ,  0.29291618, -0.3105095 ,\n",
       "       -0.19313295, -0.1156271 , -0.15449871, -0.3138769 , -0.15100898,\n",
       "        0.07873767,  0.13810612,  0.02321519,  0.45624495, -0.3107345 ,\n",
       "        0.28916472,  0.22655165,  0.02967389, -0.05150833, -0.12255549,\n",
       "       -0.09611629,  0.06452451,  0.22000436, -0.02363754,  0.2176364 ,\n",
       "        0.00064004, -0.00600855, -0.12869038, -0.25210667,  0.11652244,\n",
       "       -0.08057132,  0.01656407,  0.37213448, -0.20590651, -0.1636143 ,\n",
       "        0.19943814,  0.13777123, -0.30053246, -0.03629558,  0.0797731 ,\n",
       "       -0.2325417 , -0.18365002,  0.15057394,  0.09559596,  0.01179108,\n",
       "        0.23763593, -0.10319901, -0.14461525, -0.3550435 ,  0.04066647,\n",
       "       -0.16988899,  0.24284221,  0.34504336, -0.3146578 ,  0.23203656,\n",
       "        0.10865995,  0.04101633, -0.09852881, -0.25359106,  0.02373534,\n",
       "       -0.12070292,  0.08205514, -0.1961002 , -0.02904274, -0.06255265,\n",
       "       -0.01839013, -0.05738316, -0.0951643 ,  0.04958142, -0.0841328 ,\n",
       "       -0.03171916,  0.00485692, -0.11052185,  0.01340522, -0.22434288,\n",
       "       -0.07860054, -0.03222657,  0.2943027 , -0.07073411,  0.16637513],\n",
       "      dtype=float32)"
      ]
     },
     "execution_count": 15,
     "metadata": {},
     "output_type": "execute_result"
    }
   ],
   "source": [
    "train_vectors[0]"
   ]
  },
  {
   "cell_type": "code",
   "execution_count": 16,
   "metadata": {},
   "outputs": [
    {
     "data": {
      "text/plain": [
       "1.7795193020720035"
      ]
     },
     "execution_count": 16,
     "metadata": {},
     "output_type": "execute_result"
    }
   ],
   "source": [
    "sum(train_vectors[0])"
   ]
  },
  {
   "cell_type": "code",
   "execution_count": 17,
   "metadata": {},
   "outputs": [
    {
     "name": "stdout",
     "output_type": "stream",
     "text": [
      "Wall time: 186 ms\n"
     ]
    }
   ],
   "source": [
    "%%time\n",
    "faiss.normalize_L2(train_vectors)"
   ]
  },
  {
   "cell_type": "code",
   "execution_count": 18,
   "metadata": {},
   "outputs": [
    {
     "name": "stdout",
     "output_type": "stream",
     "text": [
      "Wall time: 203 ms\n"
     ]
    }
   ],
   "source": [
    "%%time\n",
    "faiss.normalize_L2(test_vectors)"
   ]
  },
  {
   "cell_type": "code",
   "execution_count": 19,
   "metadata": {},
   "outputs": [],
   "source": [
    "index.add(train_vectors)"
   ]
  },
  {
   "cell_type": "code",
   "execution_count": 20,
   "metadata": {},
   "outputs": [
    {
     "name": "stdout",
     "output_type": "stream",
     "text": [
      "1456325\n"
     ]
    }
   ],
   "source": [
    "print(index.ntotal)"
   ]
  },
  {
   "cell_type": "code",
   "execution_count": 21,
   "metadata": {},
   "outputs": [
    {
     "name": "stdout",
     "output_type": "stream",
     "text": [
      "Wall time: 5min 35s\n"
     ]
    }
   ],
   "source": [
    "%%time\n",
    "D, I = index.search(test_vectors, 10)"
   ]
  },
  {
   "cell_type": "code",
   "execution_count": 22,
   "metadata": {},
   "outputs": [
    {
     "data": {
      "text/plain": [
       "array([0.7596147 , 0.73482865, 0.6838542 , 0.67488754, 0.65562683,\n",
       "       0.63793784, 0.60182416, 0.5927125 , 0.5748378 , 0.56789017],\n",
       "      dtype=float32)"
      ]
     },
     "execution_count": 22,
     "metadata": {},
     "output_type": "execute_result"
    }
   ],
   "source": [
    "D[0]"
   ]
  },
  {
   "cell_type": "code",
   "execution_count": 23,
   "metadata": {},
   "outputs": [
    {
     "data": {
      "text/plain": [
       "array([ 752562,  449563, 1416799,  829349,  125619,  195091,  134600,\n",
       "       1045917, 1404646,  306241], dtype=int64)"
      ]
     },
     "execution_count": 23,
     "metadata": {},
     "output_type": "execute_result"
    }
   ],
   "source": [
    "I[0]"
   ]
  },
  {
   "cell_type": "code",
   "execution_count": 24,
   "metadata": {},
   "outputs": [],
   "source": [
    "from sklearn.metrics.pairwise import cosine_similarity"
   ]
  },
  {
   "cell_type": "code",
   "execution_count": 25,
   "metadata": {},
   "outputs": [
    {
     "data": {
      "text/plain": [
       "array([[0.759615]], dtype=float32)"
      ]
     },
     "execution_count": 25,
     "metadata": {},
     "output_type": "execute_result"
    }
   ],
   "source": [
    "cosine_similarity([test_vectors[0]], [train_vectors[752562]])"
   ]
  },
  {
   "cell_type": "code",
   "execution_count": 26,
   "metadata": {},
   "outputs": [],
   "source": [
    "test_indexes = dill.load(open('test_indexes.bin', 'rb'))\n",
    "train_indexes = dill.load(open('train_indexes.bin', 'rb'))"
   ]
  },
  {
   "cell_type": "code",
   "execution_count": 27,
   "metadata": {},
   "outputs": [
    {
     "data": {
      "text/plain": [
       "2700002"
      ]
     },
     "execution_count": 27,
     "metadata": {},
     "output_type": "execute_result"
    }
   ],
   "source": [
    "test_ind = test_indexes[1]\n",
    "test_ind"
   ]
  },
  {
   "cell_type": "code",
   "execution_count": 28,
   "metadata": {},
   "outputs": [
    {
     "data": {
      "text/plain": [
       "'1295984'"
      ]
     },
     "execution_count": 28,
     "metadata": {},
     "output_type": "execute_result"
    }
   ],
   "source": [
    "train_ind = train_indexes[752562]\n",
    "train_ind"
   ]
  },
  {
   "cell_type": "code",
   "execution_count": 29,
   "metadata": {},
   "outputs": [
    {
     "data": {
      "text/plain": [
       "'связь расширение компания требоваться quot лаборант электротехнический лаборатория quot компания swg производитель поставщик светодиодный оборудование компания основывать год данный момент являться крупный оптовый поставщик современный интерьерный освещение россия требование образование низко средний полный средний специальный знание основа электротехника электроника уверенный пользователь office коммуникабельность умение общаться человек находить общий язык умение работать большой количество информация дополнительный преимущество знание английский язык опыт работа опыт монтаж светотехнический оборудование качество который должный обладать успешный кандидат заинтересованность работать электрооборудование общий светодиодный оборудование частность быстрый обучаемость ответственность внимательность стрессоустойчивость аналитический мышление самостоятельность умение работать режим многозадачность хороший коммуникативный навык обязанность диагностика неисправный электротехнический светодиодный оборудование работа рекламация составление претензия тестирование образец составление отчет тестирование проведение входной контроль учет выявлять проблема сборка электрический схема условие заработный плата quot рука quot уровень зависеть опыт знание график работа понедельник пятница либо мочь рассматривать сокращать рабочий день час испытательный срок месяц оформление оплачивать отпуск больничный лист возможность профессиональный карьерный финансовый рост молодой дружный коллектив насыщенный корпоративный жизнь'"
      ]
     },
     "execution_count": 29,
     "metadata": {},
     "output_type": "execute_result"
    }
   ],
   "source": [
    "test[test.vacancy_id == 2700002].processed_text.values[0]"
   ]
  },
  {
   "cell_type": "code",
   "execution_count": 30,
   "metadata": {},
   "outputs": [
    {
     "data": {
      "text/plain": [
       "array(['крупный энергосбытовой компания quot энергосбыт плюс quot приглашать кандидат вакансия инженер обязанность подготовка уведомление ограничение электроснабжение оперативный переговоры потребитель сетевой организация ведение отчетность работа претензия качество требование высокий образование электротехнический желательный опыт работа аналогичный должность опыт работа действующий электроустановка уверенный пользователь офисный программа word excel оutlook умение читать схема знание устройство электрический сеть желательно наличие группа допуск электробезопасность низкий уверенный пользователь условие официальный трудоустройство согласный медицинский страховка белый',\n",
       "       'обязанность разработка новый модернизация существующий светодиодный светильник соответствие технический задание проработка отдельный компонент светильник механика оптика схема питание печатный плата теплоотвод соответствующий сапр составление технический документация разрабатывать продукция подбор закупка комплектующий сборка тестовый образец светильник технический сопровождение производство этап сборка проведение измерение светотехнический электрический тепловой параметр светильник выполнение светотехнический расчет внутренний наружный освещение подбор оборудование управление освещение пусконаладка система управление освещение объект требование высокий образование технический знание программа cad желательно компас визуализация преимущество dialux опыт работа светотехнический рынок обязательный активный жизненный позиция креативность мышление уверенность желание зарабатывать развиваться условие комфортный рабочий место стабильность уверенность завтрашний день возможность развиваться дружный коллектив профессионал график работа',\n",
       "       'обязанность измерение светотехнический параметр светодиод модуль готовый изделие помощь специальный фотометрический оборудование гониофотометр спектрофотометр люксометр проведение испытание светильник климатический камера формирование протокол измерение испытание заполнение отчетный документ измерение организация проведение испытание готовый изделие компонент сторонний лаборатория требование высокий либо неоконченный высокий технический образование знание английский язык средний уровень желательный опыт работа измерительный оборудование светотехника умение разбираться технический нормативный документация ескд гост число английский язык личный качество грамотность внимательность ответственность обучаемость коммуникабельность условие график работа возможный работа ночной смена',\n",
       "       'обязанность диагностика бытовой насосный оборудование мелкий ремонт насосный оборудование сборка насосный агрегат требование знание основа электротехника понимание принцип действие насосный оборудование ответственный честный условие честный прозрачный молодой дружный коллектив полный соц пакет',\n",
       "       'обязанность поддержание текущий клиентский база активный поиск привлечение клиент ведение переговоры заключение договор поставка электротехнический продукция электрощитовой оборудовани информационный поддержка клиент контроль исполнение заказ требование опыт работа активный продажа электрооборудование год знание светотехнический продукция ваш преимущество условие график работа зарплата оклад продажа дополнительный условие обговариваться собеседование зависимость опыт работа перспектива профессиональный карьерный рост оформление компенсация проезд мобильный связь',\n",
       "       'обязанность осуществление технический надзор электротехнический прибор регистрация вновь подключать объект условие официальный трудоустройство социальный пакет оплачивать больничный отпускной',\n",
       "       'обязанность активный поиск привлечение клиент холодный звонок продвижение продукция компания рынок сборка электрощитовой оборудование трансформаторный подстанция услуга выполнение работа проведение переговоры заключение договор клиент консультирование ассортимент технический параметр товар подготовка коммерческий предложение прием обработка заявка изготовление поставка электрощитовой оборудование ведение отчетность требование технический образование энергетический электротехнический высокий неполный высокий средний специальный желательно знание электрощитовой распределительный оборудование опыт продажа электрощитовой оборудование год условие оклад руб уровень оклад обсуждаться успешный кандидат процент продажа оформление график работа дружный коллектив корпоративный мобильный связь карьерный профессиональный рост офис находиться минь ходьба quot свиблово quot станция quot северянин quot',\n",
       "       'электротехнический компания предприятие аксиома заниматься продажа электрооборудование розничный корпоративный клиент приглашать работа кладовщик место работа электромаркет шелковичный рахов готовый рассматривать специалист электротехнический область например электрик электромонтажник который интересный работа сфера складской учет обязанность прием учет содержание отпуск электротехнический товар склад магазин участие разгрузочный погрузочный работа набор товар накладной участие инвентаризация требование опыт работа должность кладовщик комплектовщик желательно знание опыт работа условие оформление график работа суббота воскресение плавать график обсуждаться собеседование',\n",
       "       'связь расширение компания требоваться quot сервисный инженер quot компания swg производитель поставщик светодиодный оборудование компания основывать год данный момент являться крупный оптовый поставщик современный интерьерный освещение россия требование образование низко средний полный средний специальный знание основа электротехника электроника уверенный пользователь office коммуникабельность умение общаться человек находить общий язык умение работать большой количество информация дополнительный преимущество знание английский язык опыт работа опыт монтаж светотехнический оборудование качество который должный обладать успешный кандидат заинтересованность работать электрооборудование общий светодиодный оборудование частность быстрый обучаемость ответственность внимательность стрессоустойчивость аналитический мышление самостоятельность умение работать режим многозадачность хороший коммуникативный навык обязанность диагностика неисправный электротехнический светодиодный оборудование работа рекламация составление претензия тестирование образец составление отчет тестирование проведение входной контроль учет выявлять проблема сборка электрический схема условие заработный плата quot рука quot уровень зависеть опыт знание график работа понедельник пятница либо мочь рассматривать сокращать рабочий день час испытательный срок месяц оформление оплачивать отпуск больничный лист возможность профессиональный карьерный финансовый рост молодой дружный коллектив насыщенный корпоративный жизнь',\n",
       "       'обязанность проведение испытание измерение проверка электроустановка составление технический отчет проводить испытание требование высокий электротехнический образование знание уровень пользователь умение работать режим многозадачность условие заработный плата официальный выплата производиться месяц задержка оформление согласно первый рабочий день оплачивать отпуск больничный график работа перерыв обед'],\n",
       "      dtype=object)"
      ]
     },
     "execution_count": 30,
     "metadata": {},
     "output_type": "execute_result"
    }
   ],
   "source": [
    "train[train.vacancy_id.isin([train_indexes[id] for id  in I[1]])].processed_text.values"
   ]
  },
  {
   "cell_type": "code",
   "execution_count": 31,
   "metadata": {},
   "outputs": [
    {
     "data": {
      "text/html": [
       "<div>\n",
       "<style scoped>\n",
       "    .dataframe tbody tr th:only-of-type {\n",
       "        vertical-align: middle;\n",
       "    }\n",
       "\n",
       "    .dataframe tbody tr th {\n",
       "        vertical-align: top;\n",
       "    }\n",
       "\n",
       "    .dataframe thead th {\n",
       "        text-align: right;\n",
       "    }\n",
       "</style>\n",
       "<table border=\"1\" class=\"dataframe\">\n",
       "  <thead>\n",
       "    <tr style=\"text-align: right;\">\n",
       "      <th></th>\n",
       "      <th>vacancy_id</th>\n",
       "      <th>specializations</th>\n",
       "    </tr>\n",
       "  </thead>\n",
       "  <tbody>\n",
       "    <tr>\n",
       "      <th>250939</th>\n",
       "      <td>40368</td>\n",
       "      <td>[387]</td>\n",
       "    </tr>\n",
       "    <tr>\n",
       "      <th>268982</th>\n",
       "      <td>59375</td>\n",
       "      <td>[387]</td>\n",
       "    </tr>\n",
       "    <tr>\n",
       "      <th>390026</th>\n",
       "      <td>187120</td>\n",
       "      <td>[387]</td>\n",
       "    </tr>\n",
       "    <tr>\n",
       "      <th>612206</th>\n",
       "      <td>404990</td>\n",
       "      <td>[287, 387]</td>\n",
       "    </tr>\n",
       "    <tr>\n",
       "      <th>898616</th>\n",
       "      <td>690584</td>\n",
       "      <td>[83, 189, 287, 387]</td>\n",
       "    </tr>\n",
       "    <tr>\n",
       "      <th>1503738</th>\n",
       "      <td>1295984</td>\n",
       "      <td>[83, 189, 287, 387]</td>\n",
       "    </tr>\n",
       "    <tr>\n",
       "      <th>1657238</th>\n",
       "      <td>1457722</td>\n",
       "      <td>[387]</td>\n",
       "    </tr>\n",
       "    <tr>\n",
       "      <th>2090700</th>\n",
       "      <td>1882204</td>\n",
       "      <td>[83, 189, 287, 387]</td>\n",
       "    </tr>\n",
       "    <tr>\n",
       "      <th>2808874</th>\n",
       "      <td>2606514</td>\n",
       "      <td>[83, 189, 287]</td>\n",
       "    </tr>\n",
       "    <tr>\n",
       "      <th>2833463</th>\n",
       "      <td>2632408</td>\n",
       "      <td>[83, 287]</td>\n",
       "    </tr>\n",
       "  </tbody>\n",
       "</table>\n",
       "</div>"
      ],
      "text/plain": [
       "         vacancy_id      specializations\n",
       "250939        40368                [387]\n",
       "268982        59375                [387]\n",
       "390026       187120                [387]\n",
       "612206       404990           [287, 387]\n",
       "898616       690584  [83, 189, 287, 387]\n",
       "1503738     1295984  [83, 189, 287, 387]\n",
       "1657238     1457722                [387]\n",
       "2090700     1882204  [83, 189, 287, 387]\n",
       "2808874     2606514       [83, 189, 287]\n",
       "2833463     2632408            [83, 287]"
      ]
     },
     "execution_count": 31,
     "metadata": {},
     "output_type": "execute_result"
    }
   ],
   "source": [
    "train[train.vacancy_id.isin([train_indexes[id] for id  in I[0]])][['vacancy_id','specializations']]"
   ]
  },
  {
   "cell_type": "code",
   "execution_count": 33,
   "metadata": {},
   "outputs": [],
   "source": [
    "test_dict = {e:i for i,e in enumerate(test_indexes)}"
   ]
  },
  {
   "cell_type": "code",
   "execution_count": 35,
   "metadata": {},
   "outputs": [],
   "source": [
    "def get_first_spec(vacancy_id):\n",
    "    vind = test_dict[vacancy_id]\n",
    "    return train_specs[int(train_indexes[I[vind][0]])]"
   ]
  },
  {
   "cell_type": "code",
   "execution_count": 36,
   "metadata": {},
   "outputs": [],
   "source": [
    "def get_all_specs(vacancy_id):\n",
    "    Is = I[test_dict[vacancy_id]]\n",
    "    \n",
    "    e = []\n",
    "    l = []\n",
    "    for sim in Is:\n",
    "        elm = train_specs[int(train_indexes[sim])]\n",
    "        l.append(len(elm))\n",
    "        e += list(elm)\n",
    "    c = Counter(e)\n",
    "    return [k for k, _ in c.most_common(int(round(np.mean(l),0)))]"
   ]
  },
  {
   "cell_type": "code",
   "execution_count": 61,
   "metadata": {},
   "outputs": [
    {
     "data": {
      "text/plain": [
       "[396, 360, 81, 83]"
      ]
     },
     "execution_count": 61,
     "metadata": {},
     "output_type": "execute_result"
    }
   ],
   "source": [
    "vacancy_id = 2700002\n",
    "from collections import defaultdict\n",
    "Is = I[test_dict[vacancy_id]]\n",
    "Ds = D[test_dict[vacancy_id]]\n",
    "e= []\n",
    "l = []\n",
    "for s_ind, sim in enumerate(Is):\n",
    "    elm = train_specs[int(train_indexes[sim])]\n",
    "    l.append(len(elm))\n",
    "    e += [(eo, Ds[s_ind]) for eo in elm]\n",
    "dd= defaultdict(float)\n",
    "for spec, wght in e:\n",
    "    dd[spec] +=  wght\n",
    "#int(round(np.average(l, weights=Ds),0))\n",
    "[s for s,w in sorted(dd.items(), key=lambda item: item[1], reverse = True)[:int(round(np.average(l, weights=Ds),0))]]"
   ]
  },
  {
   "cell_type": "code",
   "execution_count": 79,
   "metadata": {},
   "outputs": [],
   "source": [
    "def get_weigted_specs(vacancy_id):\n",
    "    Is = I[test_dict[vacancy_id]]\n",
    "    Ds = D[test_dict[vacancy_id]]\n",
    "    e= []\n",
    "    l = []\n",
    "    for s_ind, sim in enumerate(Is):\n",
    "        elm = train_specs[int(train_indexes[sim])]\n",
    "        l.append(len(elm))\n",
    "        e += [(eo, Ds[s_ind]) for eo in elm]\n",
    "    dd= defaultdict(float)\n",
    "    for spec, wght in e:\n",
    "        dd[spec] +=  wght\n",
    "    #int(round(np.average(l, weights=Ds),0))\n",
    "    return [s for s,w in sorted(dd.items(), key=lambda item: item[1], reverse = True)[:int(round(np.average(l, weights=Ds),0))]]"
   ]
  },
  {
   "cell_type": "code",
   "execution_count": 83,
   "metadata": {},
   "outputs": [],
   "source": [
    "def get_weigted_specs1(vacancy_id):\n",
    "    Is = I[test_dict[vacancy_id]]\n",
    "    Ds = D[test_dict[vacancy_id]]\n",
    "    e= []\n",
    "    l = []\n",
    "    for s_ind, sim in enumerate(Is):\n",
    "        elm = train_specs[int(train_indexes[sim])]\n",
    "        l.append(len(elm))\n",
    "        e += [(eo, Ds[s_ind]) for eo in elm]\n",
    "    dd= defaultdict(float)\n",
    "    for spec, wght in e:\n",
    "        dd[spec] +=  wght\n",
    "    #int(round(np.average(l, weights=Ds),0))\n",
    "    return [s for s,w in sorted(dd.items(), key=lambda item: item[1], reverse = True)[:5]]"
   ]
  },
  {
   "cell_type": "code",
   "execution_count": 80,
   "metadata": {},
   "outputs": [
    {
     "data": {
      "text/plain": [
       "[396, 360, 81, 83]"
      ]
     },
     "execution_count": 80,
     "metadata": {},
     "output_type": "execute_result"
    }
   ],
   "source": [
    "get_weigted_specs(2700002)"
   ]
  },
  {
   "cell_type": "code",
   "execution_count": 81,
   "metadata": {},
   "outputs": [
    {
     "data": {
      "text/plain": [
       "[396, 360, 81, 83, 70]"
      ]
     },
     "execution_count": 81,
     "metadata": {},
     "output_type": "execute_result"
    }
   ],
   "source": [
    "get_weigted_specs1(2700002)"
   ]
  },
  {
   "cell_type": "code",
   "execution_count": 64,
   "metadata": {},
   "outputs": [
    {
     "data": {
      "text/plain": [
       "[396, 360, 81, 83]"
      ]
     },
     "execution_count": 64,
     "metadata": {},
     "output_type": "execute_result"
    }
   ],
   "source": [
    "get_all_specs(2700002)"
   ]
  },
  {
   "cell_type": "code",
   "execution_count": 82,
   "metadata": {},
   "outputs": [
    {
     "data": {
      "text/plain": [
       "array([ 87, 185, 340, 360, 381], dtype=int64)"
      ]
     },
     "execution_count": 82,
     "metadata": {},
     "output_type": "execute_result"
    }
   ],
   "source": [
    "get_first_spec(2700002)"
   ]
  },
  {
   "cell_type": "code",
   "execution_count": 71,
   "metadata": {},
   "outputs": [],
   "source": [
    "data_path = '..\\\\Data\\\\In\\\\'\n",
    "submissions_path =  '..\\\\Submissions\\\\'"
   ]
  },
  {
   "cell_type": "code",
   "execution_count": 84,
   "metadata": {},
   "outputs": [
    {
     "data": {
      "application/vnd.jupyter.widget-view+json": {
       "model_id": "99e126b1e8404ab5a7afe902fc6f5191",
       "version_major": 2,
       "version_minor": 0
      },
      "text/plain": [
       "HBox(children=(FloatProgress(value=0.0, max=1456325.0), HTML(value='')))"
      ]
     },
     "metadata": {},
     "output_type": "display_data"
    },
    {
     "name": "stdout",
     "output_type": "stream",
     "text": [
      "\n"
     ]
    }
   ],
   "source": [
    "sub = []\n",
    "for vacancy_id in tqdm(test_indexes, total = len(test_indexes)):\n",
    "    sub.append({'vacancy_id': vacancy_id , 'specializations': get_weigted_specs1(vacancy_id)})"
   ]
  },
  {
   "cell_type": "code",
   "execution_count": 88,
   "metadata": {},
   "outputs": [],
   "source": [
    "sample_submission = pd.DataFrame(sub)"
   ]
  },
  {
   "cell_type": "code",
   "execution_count": 86,
   "metadata": {},
   "outputs": [],
   "source": [
    "sample_submission['specializations'] = sample_submission['specializations'].apply(lambda x: x[:3])"
   ]
  },
  {
   "cell_type": "code",
   "execution_count": 77,
   "metadata": {},
   "outputs": [
    {
     "name": "stdout",
     "output_type": "stream",
     "text": [
      "Wall time: 2.98 s\n"
     ]
    }
   ],
   "source": [
    "# %%time\n",
    "# sample_submission = pd.DataFrame([\n",
    "#     (vacancy_id, get_first_spec(vacancy_id))\n",
    "#     for vacancy_id in test_indexes\n",
    "# ], columns=['vacancy_id', 'specializations'])\n",
    "# sample_submission.to_csv(submissions_path+f'sample_submission_{\"2020-05-25\"}_{1}.csv.gz', index=False, compression='gzip')"
   ]
  },
  {
   "cell_type": "code",
   "execution_count": 89,
   "metadata": {},
   "outputs": [
    {
     "data": {
      "text/html": [
       "<div>\n",
       "<style scoped>\n",
       "    .dataframe tbody tr th:only-of-type {\n",
       "        vertical-align: middle;\n",
       "    }\n",
       "\n",
       "    .dataframe tbody tr th {\n",
       "        vertical-align: top;\n",
       "    }\n",
       "\n",
       "    .dataframe thead th {\n",
       "        text-align: right;\n",
       "    }\n",
       "</style>\n",
       "<table border=\"1\" class=\"dataframe\">\n",
       "  <thead>\n",
       "    <tr style=\"text-align: right;\">\n",
       "      <th></th>\n",
       "      <th>vacancy_id</th>\n",
       "      <th>specializations</th>\n",
       "    </tr>\n",
       "  </thead>\n",
       "  <tbody>\n",
       "    <tr>\n",
       "      <th>0</th>\n",
       "      <td>2700001</td>\n",
       "      <td>[387, 287, 83, 189]</td>\n",
       "    </tr>\n",
       "    <tr>\n",
       "      <th>1</th>\n",
       "      <td>2700002</td>\n",
       "      <td>[396, 360, 81, 83, 70]</td>\n",
       "    </tr>\n",
       "    <tr>\n",
       "      <th>2</th>\n",
       "      <td>2700003</td>\n",
       "      <td>[396, 490, 515, 560, 581]</td>\n",
       "    </tr>\n",
       "    <tr>\n",
       "      <th>3</th>\n",
       "      <td>2700004</td>\n",
       "      <td>[221, 395, 117, 82, 272]</td>\n",
       "    </tr>\n",
       "    <tr>\n",
       "      <th>4</th>\n",
       "      <td>2700009</td>\n",
       "      <td>[514, 490, 287, 142, 290]</td>\n",
       "    </tr>\n",
       "  </tbody>\n",
       "</table>\n",
       "</div>"
      ],
      "text/plain": [
       "   vacancy_id            specializations\n",
       "0     2700001        [387, 287, 83, 189]\n",
       "1     2700002     [396, 360, 81, 83, 70]\n",
       "2     2700003  [396, 490, 515, 560, 581]\n",
       "3     2700004   [221, 395, 117, 82, 272]\n",
       "4     2700009  [514, 490, 287, 142, 290]"
      ]
     },
     "execution_count": 89,
     "metadata": {},
     "output_type": "execute_result"
    }
   ],
   "source": [
    "sample_submission.head()"
   ]
  },
  {
   "cell_type": "code",
   "execution_count": 90,
   "metadata": {},
   "outputs": [
    {
     "data": {
      "text/plain": [
       "[387, 287, 83, 189]"
      ]
     },
     "execution_count": 90,
     "metadata": {},
     "output_type": "execute_result"
    }
   ],
   "source": [
    "sample_submission.loc[0].specializations"
   ]
  },
  {
   "cell_type": "code",
   "execution_count": 91,
   "metadata": {},
   "outputs": [],
   "source": [
    "sample_submission.to_csv(submissions_path+f'submission_{\"2020-07-23\"}_{\"v5\"}.csv.gz', index=False, compression='gzip')"
   ]
  }
 ],
 "metadata": {
  "kernelspec": {
   "display_name": "Python 3",
   "language": "python",
   "name": "python3"
  },
  "language_info": {
   "codemirror_mode": {
    "name": "ipython",
    "version": 3
   },
   "file_extension": ".py",
   "mimetype": "text/x-python",
   "name": "python",
   "nbconvert_exporter": "python",
   "pygments_lexer": "ipython3",
   "version": "3.7.6"
  }
 },
 "nbformat": 4,
 "nbformat_minor": 4
}
