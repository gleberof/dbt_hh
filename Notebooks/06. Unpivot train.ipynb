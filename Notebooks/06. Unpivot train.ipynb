{
 "cells": [
  {
   "cell_type": "code",
   "execution_count": 1,
   "metadata": {},
   "outputs": [],
   "source": [
    "%load_ext autoreload\n",
    "%autoreload 2\n",
    "import telepot\n",
    "bot = telepot.Bot('436447719:AAGq_iK2hE3cPFhmL9Jh53g9HyVkw3SXZbg')\n",
    "def qq(txt):\n",
    "    bot.sendMessage(1114926, txt)"
   ]
  },
  {
   "cell_type": "code",
   "execution_count": 2,
   "metadata": {},
   "outputs": [],
   "source": [
    "qq('start')"
   ]
  },
  {
   "cell_type": "code",
   "execution_count": 3,
   "metadata": {},
   "outputs": [],
   "source": [
    "import json\n",
    "import gzip\n",
    "from itertools import islice\n",
    "from collections import Counter, defaultdict\n",
    "from operator import itemgetter\n",
    "import pyarrow.parquet as pq\n",
    "import pyarrow as pa\n",
    "\n",
    "import pandas as pd\n",
    "from tqdm.notebook import tqdm\n",
    "import dill\n",
    "import os\n",
    "from pqdm.processes import pqdm\n",
    "import re\n",
    "\n",
    "from workers import *\n",
    "    \n",
    "from gensim.test.utils import common_texts\n",
    "from gensim.models.doc2vec import Doc2Vec, TaggedDocument\n",
    "from gensim.models.callbacks import CallbackAny2Vec\n",
    "\n",
    "import random\n",
    "import collections"
   ]
  },
  {
   "cell_type": "code",
   "execution_count": null,
   "metadata": {},
   "outputs": [],
   "source": [
    "df = pd.read_parquet('df_text.pq')"
   ]
  },
  {
   "cell_type": "code",
   "execution_count": 13,
   "metadata": {},
   "outputs": [
    {
     "data": {
      "text/plain": [
       "Index(['vacancy_id', 'name', 'specializations', 'key_skills', 'employer',\n",
       "       'groups_of_spec', 'processed_text', 'key_list', 'name_list'],\n",
       "      dtype='object')"
      ]
     },
     "execution_count": 13,
     "metadata": {},
     "output_type": "execute_result"
    }
   ],
   "source": [
    "df.columns"
   ]
  },
  {
   "cell_type": "code",
   "execution_count": 21,
   "metadata": {},
   "outputs": [
    {
     "data": {
      "text/html": [
       "<div>\n",
       "<style scoped>\n",
       "    .dataframe tbody tr th:only-of-type {\n",
       "        vertical-align: middle;\n",
       "    }\n",
       "\n",
       "    .dataframe tbody tr th {\n",
       "        vertical-align: top;\n",
       "    }\n",
       "\n",
       "    .dataframe thead th {\n",
       "        text-align: right;\n",
       "    }\n",
       "</style>\n",
       "<table border=\"1\" class=\"dataframe\">\n",
       "  <thead>\n",
       "    <tr style=\"text-align: right;\">\n",
       "      <th></th>\n",
       "      <th>vacancy_id</th>\n",
       "      <th>name</th>\n",
       "      <th>specializations</th>\n",
       "      <th>key_skills</th>\n",
       "      <th>employer</th>\n",
       "      <th>groups_of_spec</th>\n",
       "      <th>processed_text</th>\n",
       "      <th>key_list</th>\n",
       "      <th>name_list</th>\n",
       "      <th>text_vector</th>\n",
       "    </tr>\n",
       "  </thead>\n",
       "  <tbody>\n",
       "    <tr>\n",
       "      <th>4</th>\n",
       "      <td>2700005</td>\n",
       "      <td>Разработчик Python/django</td>\n",
       "      <td>[137, 221, 296]</td>\n",
       "      <td></td>\n",
       "      <td>845fe6266ab1</td>\n",
       "      <td>[1]</td>\n",
       "      <td>небольшой дружный команда требоваться опытный ...</td>\n",
       "      <td>[]</td>\n",
       "      <td>[Разработчик, Python/django]</td>\n",
       "      <td>[-0.37388623, 0.26167643, 0.3595109, -0.166157...</td>\n",
       "    </tr>\n",
       "    <tr>\n",
       "      <th>5</th>\n",
       "      <td>2700006</td>\n",
       "      <td>Торговый представитель</td>\n",
       "      <td>[149, 242]</td>\n",
       "      <td>работа текущий база клиент мерчендайзинг работ...</td>\n",
       "      <td>23ead4a8f164</td>\n",
       "      <td>[17]</td>\n",
       "      <td>обязанность компания дистрибьютор продукт пита...</td>\n",
       "      <td>[работа, текущий, база, клиент, мерчендайзинг,...</td>\n",
       "      <td>[Торговый, представитель]</td>\n",
       "      <td>[-0.07712369, -0.11375963, 0.07628894, -0.0080...</td>\n",
       "    </tr>\n",
       "    <tr>\n",
       "      <th>6</th>\n",
       "      <td>2700007</td>\n",
       "      <td>Менеджер по оптовым продажам тканей</td>\n",
       "      <td>[149, 196, 242, 324, 538]</td>\n",
       "      <td>b2b продажа активный продажа развитие продажа ...</td>\n",
       "      <td>9e3008e9f553</td>\n",
       "      <td>[17]</td>\n",
       "      <td>стартекс крупный текстильный компания лидер ры...</td>\n",
       "      <td>[b2b, продажа, активный, продажа, развитие, пр...</td>\n",
       "      <td>[Менеджер, по, оптовым, продажам, тканей]</td>\n",
       "      <td>[-0.39096445, 0.33778182, -0.016544262, -0.177...</td>\n",
       "    </tr>\n",
       "    <tr>\n",
       "      <th>8</th>\n",
       "      <td>2700010</td>\n",
       "      <td>Врач клинической лабораторной диагностики (Бак...</td>\n",
       "      <td>[398, 537, 587]</td>\n",
       "      <td></td>\n",
       "      <td>49f3280f53b6</td>\n",
       "      <td>[13]</td>\n",
       "      <td>компания kdl клинико диагностический лаборатор...</td>\n",
       "      <td>[]</td>\n",
       "      <td>[Врач, клинической, лабораторной, диагностики,...</td>\n",
       "      <td>[-0.23469944, 0.35904798, 0.1611339, -0.071664...</td>\n",
       "    </tr>\n",
       "    <tr>\n",
       "      <th>12</th>\n",
       "      <td>2700015</td>\n",
       "      <td>Швея-портной</td>\n",
       "      <td>[129, 157, 516]</td>\n",
       "      <td></td>\n",
       "      <td>24e6806caa88</td>\n",
       "      <td>[18, 11, 29]</td>\n",
       "      <td>требоваться швея лаборант навык закройщик прои...</td>\n",
       "      <td>[]</td>\n",
       "      <td>[Швея-портной]</td>\n",
       "      <td>[-0.5796743, 0.25497875, 0.35563952, -0.068753...</td>\n",
       "    </tr>\n",
       "  </tbody>\n",
       "</table>\n",
       "</div>"
      ],
      "text/plain": [
       "    vacancy_id                                               name  \\\n",
       "4      2700005                          Разработчик Python/django   \n",
       "5      2700006                             Торговый представитель   \n",
       "6      2700007                Менеджер по оптовым продажам тканей   \n",
       "8      2700010  Врач клинической лабораторной диагностики (Бак...   \n",
       "12     2700015                                       Швея-портной   \n",
       "\n",
       "              specializations  \\\n",
       "4             [137, 221, 296]   \n",
       "5                  [149, 242]   \n",
       "6   [149, 196, 242, 324, 538]   \n",
       "8             [398, 537, 587]   \n",
       "12            [129, 157, 516]   \n",
       "\n",
       "                                           key_skills      employer  \\\n",
       "4                                                      845fe6266ab1   \n",
       "5   работа текущий база клиент мерчендайзинг работ...  23ead4a8f164   \n",
       "6   b2b продажа активный продажа развитие продажа ...  9e3008e9f553   \n",
       "8                                                      49f3280f53b6   \n",
       "12                                                     24e6806caa88   \n",
       "\n",
       "   groups_of_spec                                     processed_text  \\\n",
       "4             [1]  небольшой дружный команда требоваться опытный ...   \n",
       "5            [17]  обязанность компания дистрибьютор продукт пита...   \n",
       "6            [17]  стартекс крупный текстильный компания лидер ры...   \n",
       "8            [13]  компания kdl клинико диагностический лаборатор...   \n",
       "12   [18, 11, 29]  требоваться швея лаборант навык закройщик прои...   \n",
       "\n",
       "                                             key_list  \\\n",
       "4                                                  []   \n",
       "5   [работа, текущий, база, клиент, мерчендайзинг,...   \n",
       "6   [b2b, продажа, активный, продажа, развитие, пр...   \n",
       "8                                                  []   \n",
       "12                                                 []   \n",
       "\n",
       "                                            name_list  \\\n",
       "4                        [Разработчик, Python/django]   \n",
       "5                           [Торговый, представитель]   \n",
       "6           [Менеджер, по, оптовым, продажам, тканей]   \n",
       "8   [Врач, клинической, лабораторной, диагностики,...   \n",
       "12                                     [Швея-портной]   \n",
       "\n",
       "                                          text_vector  \n",
       "4   [-0.37388623, 0.26167643, 0.3595109, -0.166157...  \n",
       "5   [-0.07712369, -0.11375963, 0.07628894, -0.0080...  \n",
       "6   [-0.39096445, 0.33778182, -0.016544262, -0.177...  \n",
       "8   [-0.23469944, 0.35904798, 0.1611339, -0.071664...  \n",
       "12  [-0.5796743, 0.25497875, 0.35563952, -0.068753...  "
      ]
     },
     "execution_count": 21,
     "metadata": {},
     "output_type": "execute_result"
    }
   ],
   "source": [
    "df.head()"
   ]
  },
  {
   "cell_type": "code",
   "execution_count": 5,
   "metadata": {},
   "outputs": [],
   "source": [
    "model = Doc2Vec.load('models/vector_size:300_min_count:2_epochs:10_window:7_seed:42_workers:4_negative:50.bin')"
   ]
  },
  {
   "cell_type": "code",
   "execution_count": 17,
   "metadata": {},
   "outputs": [],
   "source": [
    "def inf_vec(txt):\n",
    "    return model.infer_vector(txt.split(' '))"
   ]
  },
  {
   "cell_type": "code",
   "execution_count": 19,
   "metadata": {},
   "outputs": [
    {
     "data": {
      "application/vnd.jupyter.widget-view+json": {
       "model_id": "594832890f5e4860bf49e1a853aa5790",
       "version_major": 2,
       "version_minor": 0
      },
      "text/plain": [
       "HBox(children=(FloatProgress(value=0.0, description='SUBMITTING | ', max=1456325.0, style=ProgressStyle(descri…"
      ]
     },
     "metadata": {},
     "output_type": "display_data"
    },
    {
     "name": "stdout",
     "output_type": "stream",
     "text": [
      "\n"
     ]
    },
    {
     "data": {
      "application/vnd.jupyter.widget-view+json": {
       "model_id": "47889381edb843838ba8d9b55853d9d6",
       "version_major": 2,
       "version_minor": 0
      },
      "text/plain": [
       "HBox(children=(FloatProgress(value=0.0, description='PROCESSING | ', max=1456325.0, style=ProgressStyle(descri…"
      ]
     },
     "metadata": {},
     "output_type": "display_data"
    },
    {
     "name": "stdout",
     "output_type": "stream",
     "text": [
      "\n"
     ]
    },
    {
     "data": {
      "application/vnd.jupyter.widget-view+json": {
       "model_id": "4ad6a0029df2412b92fdf188469fd94f",
       "version_major": 2,
       "version_minor": 0
      },
      "text/plain": [
       "HBox(children=(FloatProgress(value=0.0, description='COLLECTING | ', max=1456325.0, style=ProgressStyle(descri…"
      ]
     },
     "metadata": {},
     "output_type": "display_data"
    },
    {
     "name": "stdout",
     "output_type": "stream",
     "text": [
      "\n"
     ]
    }
   ],
   "source": [
    "df['text_vector'] = pqdm(df['processed_text'], inf_vec, n_jobs=10)"
   ]
  },
  {
   "cell_type": "code",
   "execution_count": 20,
   "metadata": {},
   "outputs": [],
   "source": [
    "df.to_parquet('df_vector.pq')"
   ]
  },
  {
   "cell_type": "code",
   "execution_count": 27,
   "metadata": {},
   "outputs": [],
   "source": [
    "def unpivot(obj):\n",
    "    res = []\n",
    "    for s in obj.specializations:\n",
    "        new_obj = obj.to_dict()\n",
    "        new_obj.pop('specializations')\n",
    "        new_obj['specialization'] = s\n",
    "        res.append(new_obj)\n",
    "    return res"
   ]
  },
  {
   "cell_type": "code",
   "execution_count": 4,
   "metadata": {},
   "outputs": [],
   "source": [
    "df=pd.read_parquet('df_vector.pq')"
   ]
  },
  {
   "cell_type": "code",
   "execution_count": 5,
   "metadata": {},
   "outputs": [],
   "source": [
    "df.drop(columns=['processed_text', 'name', 'key_skills', 'groups_of_spec'], inplace = True)"
   ]
  },
  {
   "cell_type": "code",
   "execution_count": 6,
   "metadata": {},
   "outputs": [
    {
     "data": {
      "text/html": [
       "<div>\n",
       "<style scoped>\n",
       "    .dataframe tbody tr th:only-of-type {\n",
       "        vertical-align: middle;\n",
       "    }\n",
       "\n",
       "    .dataframe tbody tr th {\n",
       "        vertical-align: top;\n",
       "    }\n",
       "\n",
       "    .dataframe thead th {\n",
       "        text-align: right;\n",
       "    }\n",
       "</style>\n",
       "<table border=\"1\" class=\"dataframe\">\n",
       "  <thead>\n",
       "    <tr style=\"text-align: right;\">\n",
       "      <th></th>\n",
       "      <th>vacancy_id</th>\n",
       "      <th>specializations</th>\n",
       "      <th>employer</th>\n",
       "      <th>key_list</th>\n",
       "      <th>name_list</th>\n",
       "      <th>text_vector</th>\n",
       "    </tr>\n",
       "  </thead>\n",
       "  <tbody>\n",
       "    <tr>\n",
       "      <th>4</th>\n",
       "      <td>2700005</td>\n",
       "      <td>[137, 221, 296]</td>\n",
       "      <td>845fe6266ab1</td>\n",
       "      <td>[]</td>\n",
       "      <td>[Разработчик, Python/django]</td>\n",
       "      <td>[-0.37388623, 0.26167643, 0.3595109, -0.166157...</td>\n",
       "    </tr>\n",
       "    <tr>\n",
       "      <th>5</th>\n",
       "      <td>2700006</td>\n",
       "      <td>[149, 242]</td>\n",
       "      <td>23ead4a8f164</td>\n",
       "      <td>[работа, текущий, база, клиент, мерчендайзинг,...</td>\n",
       "      <td>[Торговый, представитель]</td>\n",
       "      <td>[-0.07712369, -0.11375963, 0.07628894, -0.0080...</td>\n",
       "    </tr>\n",
       "    <tr>\n",
       "      <th>6</th>\n",
       "      <td>2700007</td>\n",
       "      <td>[149, 196, 242, 324, 538]</td>\n",
       "      <td>9e3008e9f553</td>\n",
       "      <td>[b2b, продажа, активный, продажа, развитие, пр...</td>\n",
       "      <td>[Менеджер, по, оптовым, продажам, тканей]</td>\n",
       "      <td>[-0.39096445, 0.33778182, -0.016544262, -0.177...</td>\n",
       "    </tr>\n",
       "    <tr>\n",
       "      <th>8</th>\n",
       "      <td>2700010</td>\n",
       "      <td>[398, 537, 587]</td>\n",
       "      <td>49f3280f53b6</td>\n",
       "      <td>[]</td>\n",
       "      <td>[Врач, клинической, лабораторной, диагностики,...</td>\n",
       "      <td>[-0.23469944, 0.35904798, 0.1611339, -0.071664...</td>\n",
       "    </tr>\n",
       "    <tr>\n",
       "      <th>12</th>\n",
       "      <td>2700015</td>\n",
       "      <td>[129, 157, 516]</td>\n",
       "      <td>24e6806caa88</td>\n",
       "      <td>[]</td>\n",
       "      <td>[Швея-портной]</td>\n",
       "      <td>[-0.5796743, 0.25497875, 0.35563952, -0.068753...</td>\n",
       "    </tr>\n",
       "  </tbody>\n",
       "</table>\n",
       "</div>"
      ],
      "text/plain": [
       "    vacancy_id            specializations      employer  \\\n",
       "4      2700005            [137, 221, 296]  845fe6266ab1   \n",
       "5      2700006                 [149, 242]  23ead4a8f164   \n",
       "6      2700007  [149, 196, 242, 324, 538]  9e3008e9f553   \n",
       "8      2700010            [398, 537, 587]  49f3280f53b6   \n",
       "12     2700015            [129, 157, 516]  24e6806caa88   \n",
       "\n",
       "                                             key_list  \\\n",
       "4                                                  []   \n",
       "5   [работа, текущий, база, клиент, мерчендайзинг,...   \n",
       "6   [b2b, продажа, активный, продажа, развитие, пр...   \n",
       "8                                                  []   \n",
       "12                                                 []   \n",
       "\n",
       "                                            name_list  \\\n",
       "4                        [Разработчик, Python/django]   \n",
       "5                           [Торговый, представитель]   \n",
       "6           [Менеджер, по, оптовым, продажам, тканей]   \n",
       "8   [Врач, клинической, лабораторной, диагностики,...   \n",
       "12                                     [Швея-портной]   \n",
       "\n",
       "                                          text_vector  \n",
       "4   [-0.37388623, 0.26167643, 0.3595109, -0.166157...  \n",
       "5   [-0.07712369, -0.11375963, 0.07628894, -0.0080...  \n",
       "6   [-0.39096445, 0.33778182, -0.016544262, -0.177...  \n",
       "8   [-0.23469944, 0.35904798, 0.1611339, -0.071664...  \n",
       "12  [-0.5796743, 0.25497875, 0.35563952, -0.068753...  "
      ]
     },
     "execution_count": 6,
     "metadata": {},
     "output_type": "execute_result"
    }
   ],
   "source": [
    "df.head()"
   ]
  },
  {
   "cell_type": "code",
   "execution_count": null,
   "metadata": {},
   "outputs": [],
   "source": [
    "df.to_parquet('df_vector.pq')"
   ]
  },
  {
   "cell_type": "code",
   "execution_count": 9,
   "metadata": {},
   "outputs": [],
   "source": [
    "test_vac_id = set(dill.load(open('validatin.bin','rb')))"
   ]
  },
  {
   "cell_type": "code",
   "execution_count": 10,
   "metadata": {},
   "outputs": [],
   "source": [
    "df['validation'] = df['vacancy_id'].apply(lambda x: x in test_vac_id)"
   ]
  },
  {
   "cell_type": "code",
   "execution_count": 33,
   "metadata": {},
   "outputs": [
    {
     "data": {
      "application/vnd.jupyter.widget-view+json": {
       "model_id": "fefcdc08c7904c0598659493877eb099",
       "version_major": 2,
       "version_minor": 0
      },
      "text/plain": [
       "HBox(children=(FloatProgress(value=0.0, max=1456325.0), HTML(value='')))"
      ]
     },
     "metadata": {},
     "output_type": "display_data"
    },
    {
     "name": "stdout",
     "output_type": "stream",
     "text": [
      "\n"
     ]
    }
   ],
   "source": [
    "res = []\n",
    "for i, r in tqdm(df.iterrows(), total = df.shape[0]):\n",
    "    res += unpivot(r)"
   ]
  },
  {
   "cell_type": "code",
   "execution_count": 37,
   "metadata": {},
   "outputs": [],
   "source": [
    "df_unpivoted = pd.DataFrame(res)"
   ]
  },
  {
   "cell_type": "code",
   "execution_count": 38,
   "metadata": {},
   "outputs": [
    {
     "data": {
      "text/plain": [
       "(4491645, 6)"
      ]
     },
     "execution_count": 38,
     "metadata": {},
     "output_type": "execute_result"
    }
   ],
   "source": [
    "df_unpivoted.shape"
   ]
  },
  {
   "cell_type": "code",
   "execution_count": 39,
   "metadata": {},
   "outputs": [],
   "source": [
    "df_unpivoted.to_parquet('df_unp_vector.pq')"
   ]
  }
 ],
 "metadata": {
  "kernelspec": {
   "display_name": "Python 3",
   "language": "python",
   "name": "python3"
  },
  "language_info": {
   "codemirror_mode": {
    "name": "ipython",
    "version": 3
   },
   "file_extension": ".py",
   "mimetype": "text/x-python",
   "name": "python",
   "nbconvert_exporter": "python",
   "pygments_lexer": "ipython3",
   "version": "3.7.6"
  }
 },
 "nbformat": 4,
 "nbformat_minor": 4
}
