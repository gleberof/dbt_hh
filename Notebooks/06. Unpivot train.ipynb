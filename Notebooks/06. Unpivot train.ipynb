{
 "cells": [
  {
   "cell_type": "code",
   "execution_count": 1,
   "metadata": {},
   "outputs": [],
   "source": [
    "%load_ext autoreload\n",
    "%autoreload 2\n",
    "import telepot\n",
    "bot = telepot.Bot('436447719:AAGq_iK2hE3cPFhmL9Jh53g9HyVkw3SXZbg')\n",
    "def qq(txt):\n",
    "    bot.sendMessage(1114926, txt)"
   ]
  },
  {
   "cell_type": "code",
   "execution_count": 2,
   "metadata": {},
   "outputs": [],
   "source": [
    "qq('start')"
   ]
  },
  {
   "cell_type": "code",
   "execution_count": 110,
   "metadata": {},
   "outputs": [],
   "source": [
    "import json\n",
    "import gzip\n",
    "from itertools import islice\n",
    "from collections import Counter, defaultdict\n",
    "from operator import itemgetter\n",
    "import pyarrow.parquet as pq\n",
    "import pyarrow as pa\n",
    "\n",
    "import pandas as pd\n",
    "import numpy as np\n",
    "from tqdm.notebook import tqdm\n",
    "import dill\n",
    "import os\n",
    "from pqdm.processes import pqdm\n",
    "import re\n",
    "\n",
    "#from workers import *\n",
    "    \n",
    "from gensim.test.utils import common_texts\n",
    "from gensim.models.doc2vec import Doc2Vec, TaggedDocument\n",
    "from gensim.models.callbacks import CallbackAny2Vec\n",
    "\n",
    "import random\n",
    "import collections\n",
    "import fasttext"
   ]
  },
  {
   "cell_type": "code",
   "execution_count": 4,
   "metadata": {},
   "outputs": [],
   "source": [
    "df = pd.read_parquet('train_text.pq')"
   ]
  },
  {
   "cell_type": "code",
   "execution_count": 5,
   "metadata": {},
   "outputs": [
    {
     "data": {
      "text/plain": [
       "Index(['vacancy_id', 'name', 'specializations', 'key_skills', 'employer',\n",
       "       'groups_of_spec', 'processed_text', 'key_list', 'name_list'],\n",
       "      dtype='object')"
      ]
     },
     "execution_count": 5,
     "metadata": {},
     "output_type": "execute_result"
    }
   ],
   "source": [
    "df.columns"
   ]
  },
  {
   "cell_type": "code",
   "execution_count": 7,
   "metadata": {},
   "outputs": [],
   "source": [
    "df.drop(columns=['groups_of_spec', 'key_list', 'name_list'], inplace=True)"
   ]
  },
  {
   "cell_type": "code",
   "execution_count": 10,
   "metadata": {},
   "outputs": [],
   "source": [
    "df['text'] = df[['employer', 'name', 'key_skills', 'processed_text']].apply(' '.join, axis=1)"
   ]
  },
  {
   "cell_type": "code",
   "execution_count": 13,
   "metadata": {},
   "outputs": [
    {
     "data": {
      "text/html": [
       "<div>\n",
       "<style scoped>\n",
       "    .dataframe tbody tr th:only-of-type {\n",
       "        vertical-align: middle;\n",
       "    }\n",
       "\n",
       "    .dataframe tbody tr th {\n",
       "        vertical-align: top;\n",
       "    }\n",
       "\n",
       "    .dataframe thead th {\n",
       "        text-align: right;\n",
       "    }\n",
       "</style>\n",
       "<table border=\"1\" class=\"dataframe\">\n",
       "  <thead>\n",
       "    <tr style=\"text-align: right;\">\n",
       "      <th></th>\n",
       "      <th>vacancy_id</th>\n",
       "      <th>specializations</th>\n",
       "      <th>text</th>\n",
       "    </tr>\n",
       "  </thead>\n",
       "  <tbody>\n",
       "    <tr>\n",
       "      <th>4</th>\n",
       "      <td>2700005</td>\n",
       "      <td>[137, 221, 296]</td>\n",
       "      <td>845fe6266ab1 разработчик python django  неболь...</td>\n",
       "    </tr>\n",
       "    <tr>\n",
       "      <th>5</th>\n",
       "      <td>2700006</td>\n",
       "      <td>[149, 242]</td>\n",
       "      <td>23ead4a8f164 торговый представитель работа тек...</td>\n",
       "    </tr>\n",
       "  </tbody>\n",
       "</table>\n",
       "</div>"
      ],
      "text/plain": [
       "   vacancy_id  specializations  \\\n",
       "4     2700005  [137, 221, 296]   \n",
       "5     2700006       [149, 242]   \n",
       "\n",
       "                                                text  \n",
       "4  845fe6266ab1 разработчик python django  неболь...  \n",
       "5  23ead4a8f164 торговый представитель работа тек...  "
      ]
     },
     "execution_count": 13,
     "metadata": {},
     "output_type": "execute_result"
    }
   ],
   "source": [
    "df.head(2)"
   ]
  },
  {
   "cell_type": "code",
   "execution_count": 12,
   "metadata": {},
   "outputs": [],
   "source": [
    "df.drop(columns=['employer', 'name', 'key_skills', 'processed_text'], inplace=True)"
   ]
  },
  {
   "cell_type": "code",
   "execution_count": 17,
   "metadata": {},
   "outputs": [],
   "source": [
    "def inf_vec(txt):\n",
    "    return model.infer_vector(txt.split(' '))"
   ]
  },
  {
   "cell_type": "code",
   "execution_count": 19,
   "metadata": {},
   "outputs": [
    {
     "data": {
      "application/vnd.jupyter.widget-view+json": {
       "model_id": "594832890f5e4860bf49e1a853aa5790",
       "version_major": 2,
       "version_minor": 0
      },
      "text/plain": [
       "HBox(children=(FloatProgress(value=0.0, description='SUBMITTING | ', max=1456325.0, style=ProgressStyle(descri…"
      ]
     },
     "metadata": {},
     "output_type": "display_data"
    },
    {
     "name": "stdout",
     "output_type": "stream",
     "text": [
      "\n"
     ]
    },
    {
     "data": {
      "application/vnd.jupyter.widget-view+json": {
       "model_id": "47889381edb843838ba8d9b55853d9d6",
       "version_major": 2,
       "version_minor": 0
      },
      "text/plain": [
       "HBox(children=(FloatProgress(value=0.0, description='PROCESSING | ', max=1456325.0, style=ProgressStyle(descri…"
      ]
     },
     "metadata": {},
     "output_type": "display_data"
    },
    {
     "name": "stdout",
     "output_type": "stream",
     "text": [
      "\n"
     ]
    },
    {
     "data": {
      "application/vnd.jupyter.widget-view+json": {
       "model_id": "4ad6a0029df2412b92fdf188469fd94f",
       "version_major": 2,
       "version_minor": 0
      },
      "text/plain": [
       "HBox(children=(FloatProgress(value=0.0, description='COLLECTING | ', max=1456325.0, style=ProgressStyle(descri…"
      ]
     },
     "metadata": {},
     "output_type": "display_data"
    },
    {
     "name": "stdout",
     "output_type": "stream",
     "text": [
      "\n"
     ]
    }
   ],
   "source": [
    "df['text_vector'] = pqdm(df['processed_text'], inf_vec, n_jobs=10)"
   ]
  },
  {
   "cell_type": "code",
   "execution_count": 20,
   "metadata": {},
   "outputs": [],
   "source": [
    "df.to_parquet('df_vector.pq')"
   ]
  },
  {
   "cell_type": "code",
   "execution_count": 14,
   "metadata": {},
   "outputs": [],
   "source": [
    "def unpivot(obj):\n",
    "    res = []\n",
    "    for s in obj.specializations:\n",
    "        new_obj = obj.to_dict()\n",
    "        new_obj.pop('specializations')\n",
    "        new_obj['specialization'] = s\n",
    "        res.append(new_obj)\n",
    "    return res"
   ]
  },
  {
   "cell_type": "code",
   "execution_count": 4,
   "metadata": {},
   "outputs": [],
   "source": [
    "df=pd.read_parquet('df_vector.pq')"
   ]
  },
  {
   "cell_type": "code",
   "execution_count": 5,
   "metadata": {},
   "outputs": [],
   "source": [
    "df.drop(columns=['processed_text', 'name', 'key_skills', 'groups_of_spec'], inplace = True)"
   ]
  },
  {
   "cell_type": "code",
   "execution_count": 6,
   "metadata": {},
   "outputs": [
    {
     "data": {
      "text/html": [
       "<div>\n",
       "<style scoped>\n",
       "    .dataframe tbody tr th:only-of-type {\n",
       "        vertical-align: middle;\n",
       "    }\n",
       "\n",
       "    .dataframe tbody tr th {\n",
       "        vertical-align: top;\n",
       "    }\n",
       "\n",
       "    .dataframe thead th {\n",
       "        text-align: right;\n",
       "    }\n",
       "</style>\n",
       "<table border=\"1\" class=\"dataframe\">\n",
       "  <thead>\n",
       "    <tr style=\"text-align: right;\">\n",
       "      <th></th>\n",
       "      <th>vacancy_id</th>\n",
       "      <th>specializations</th>\n",
       "      <th>employer</th>\n",
       "      <th>key_list</th>\n",
       "      <th>name_list</th>\n",
       "      <th>text_vector</th>\n",
       "    </tr>\n",
       "  </thead>\n",
       "  <tbody>\n",
       "    <tr>\n",
       "      <th>4</th>\n",
       "      <td>2700005</td>\n",
       "      <td>[137, 221, 296]</td>\n",
       "      <td>845fe6266ab1</td>\n",
       "      <td>[]</td>\n",
       "      <td>[Разработчик, Python/django]</td>\n",
       "      <td>[-0.37388623, 0.26167643, 0.3595109, -0.166157...</td>\n",
       "    </tr>\n",
       "    <tr>\n",
       "      <th>5</th>\n",
       "      <td>2700006</td>\n",
       "      <td>[149, 242]</td>\n",
       "      <td>23ead4a8f164</td>\n",
       "      <td>[работа, текущий, база, клиент, мерчендайзинг,...</td>\n",
       "      <td>[Торговый, представитель]</td>\n",
       "      <td>[-0.07712369, -0.11375963, 0.07628894, -0.0080...</td>\n",
       "    </tr>\n",
       "    <tr>\n",
       "      <th>6</th>\n",
       "      <td>2700007</td>\n",
       "      <td>[149, 196, 242, 324, 538]</td>\n",
       "      <td>9e3008e9f553</td>\n",
       "      <td>[b2b, продажа, активный, продажа, развитие, пр...</td>\n",
       "      <td>[Менеджер, по, оптовым, продажам, тканей]</td>\n",
       "      <td>[-0.39096445, 0.33778182, -0.016544262, -0.177...</td>\n",
       "    </tr>\n",
       "    <tr>\n",
       "      <th>8</th>\n",
       "      <td>2700010</td>\n",
       "      <td>[398, 537, 587]</td>\n",
       "      <td>49f3280f53b6</td>\n",
       "      <td>[]</td>\n",
       "      <td>[Врач, клинической, лабораторной, диагностики,...</td>\n",
       "      <td>[-0.23469944, 0.35904798, 0.1611339, -0.071664...</td>\n",
       "    </tr>\n",
       "    <tr>\n",
       "      <th>12</th>\n",
       "      <td>2700015</td>\n",
       "      <td>[129, 157, 516]</td>\n",
       "      <td>24e6806caa88</td>\n",
       "      <td>[]</td>\n",
       "      <td>[Швея-портной]</td>\n",
       "      <td>[-0.5796743, 0.25497875, 0.35563952, -0.068753...</td>\n",
       "    </tr>\n",
       "  </tbody>\n",
       "</table>\n",
       "</div>"
      ],
      "text/plain": [
       "    vacancy_id            specializations      employer  \\\n",
       "4      2700005            [137, 221, 296]  845fe6266ab1   \n",
       "5      2700006                 [149, 242]  23ead4a8f164   \n",
       "6      2700007  [149, 196, 242, 324, 538]  9e3008e9f553   \n",
       "8      2700010            [398, 537, 587]  49f3280f53b6   \n",
       "12     2700015            [129, 157, 516]  24e6806caa88   \n",
       "\n",
       "                                             key_list  \\\n",
       "4                                                  []   \n",
       "5   [работа, текущий, база, клиент, мерчендайзинг,...   \n",
       "6   [b2b, продажа, активный, продажа, развитие, пр...   \n",
       "8                                                  []   \n",
       "12                                                 []   \n",
       "\n",
       "                                            name_list  \\\n",
       "4                        [Разработчик, Python/django]   \n",
       "5                           [Торговый, представитель]   \n",
       "6           [Менеджер, по, оптовым, продажам, тканей]   \n",
       "8   [Врач, клинической, лабораторной, диагностики,...   \n",
       "12                                     [Швея-портной]   \n",
       "\n",
       "                                          text_vector  \n",
       "4   [-0.37388623, 0.26167643, 0.3595109, -0.166157...  \n",
       "5   [-0.07712369, -0.11375963, 0.07628894, -0.0080...  \n",
       "6   [-0.39096445, 0.33778182, -0.016544262, -0.177...  \n",
       "8   [-0.23469944, 0.35904798, 0.1611339, -0.071664...  \n",
       "12  [-0.5796743, 0.25497875, 0.35563952, -0.068753...  "
      ]
     },
     "execution_count": 6,
     "metadata": {},
     "output_type": "execute_result"
    }
   ],
   "source": [
    "df.head()"
   ]
  },
  {
   "cell_type": "code",
   "execution_count": null,
   "metadata": {},
   "outputs": [],
   "source": [
    "df.to_parquet('df_vector.pq')"
   ]
  },
  {
   "cell_type": "code",
   "execution_count": 9,
   "metadata": {},
   "outputs": [],
   "source": [
    "test_vac_id = set(dill.load(open('validatin.bin','rb')))"
   ]
  },
  {
   "cell_type": "code",
   "execution_count": 10,
   "metadata": {},
   "outputs": [],
   "source": [
    "df['validation'] = df['vacancy_id'].apply(lambda x: x in test_vac_id)"
   ]
  },
  {
   "cell_type": "code",
   "execution_count": 15,
   "metadata": {},
   "outputs": [
    {
     "data": {
      "application/vnd.jupyter.widget-view+json": {
       "model_id": "8873aa3818d841a3abf94b57cf5a3012",
       "version_major": 2,
       "version_minor": 0
      },
      "text/plain": [
       "HBox(children=(FloatProgress(value=0.0, max=1456325.0), HTML(value='')))"
      ]
     },
     "metadata": {},
     "output_type": "display_data"
    },
    {
     "name": "stdout",
     "output_type": "stream",
     "text": [
      "\n"
     ]
    }
   ],
   "source": [
    "res = []\n",
    "for i, r in tqdm(df.iterrows(), total = df.shape[0]):\n",
    "    res += unpivot(r)"
   ]
  },
  {
   "cell_type": "code",
   "execution_count": 115,
   "metadata": {},
   "outputs": [
    {
     "data": {
      "text/html": [
       "<div>\n",
       "<style scoped>\n",
       "    .dataframe tbody tr th:only-of-type {\n",
       "        vertical-align: middle;\n",
       "    }\n",
       "\n",
       "    .dataframe tbody tr th {\n",
       "        vertical-align: top;\n",
       "    }\n",
       "\n",
       "    .dataframe thead th {\n",
       "        text-align: right;\n",
       "    }\n",
       "</style>\n",
       "<table border=\"1\" class=\"dataframe\">\n",
       "  <thead>\n",
       "    <tr style=\"text-align: right;\">\n",
       "      <th></th>\n",
       "      <th>vacancy_id</th>\n",
       "      <th>specializations</th>\n",
       "      <th>text</th>\n",
       "      <th>is_val</th>\n",
       "      <th>label</th>\n",
       "    </tr>\n",
       "  </thead>\n",
       "  <tbody>\n",
       "    <tr>\n",
       "      <th>4</th>\n",
       "      <td>2700005</td>\n",
       "      <td>[137, 221, 296]</td>\n",
       "      <td>845fe6266ab1 разработчик python django  неболь...</td>\n",
       "      <td>False</td>\n",
       "      <td>__label__137 __label__221 __label__296</td>\n",
       "    </tr>\n",
       "    <tr>\n",
       "      <th>5</th>\n",
       "      <td>2700006</td>\n",
       "      <td>[149, 242]</td>\n",
       "      <td>23ead4a8f164 торговый представитель работа тек...</td>\n",
       "      <td>False</td>\n",
       "      <td>__label__149 __label__242</td>\n",
       "    </tr>\n",
       "    <tr>\n",
       "      <th>6</th>\n",
       "      <td>2700007</td>\n",
       "      <td>[149, 196, 242, 324, 538]</td>\n",
       "      <td>9e3008e9f553 менеджер оптовый продажа ткань b2...</td>\n",
       "      <td>False</td>\n",
       "      <td>__label__149 __label__196 __label__242 __label...</td>\n",
       "    </tr>\n",
       "    <tr>\n",
       "      <th>8</th>\n",
       "      <td>2700010</td>\n",
       "      <td>[398, 537, 587]</td>\n",
       "      <td>49f3280f53b6 врач клинический лабораторный диа...</td>\n",
       "      <td>True</td>\n",
       "      <td>__label__398 __label__537 __label__587</td>\n",
       "    </tr>\n",
       "    <tr>\n",
       "      <th>12</th>\n",
       "      <td>2700015</td>\n",
       "      <td>[129, 157, 516]</td>\n",
       "      <td>24e6806caa88 швея портной  требоваться швея ла...</td>\n",
       "      <td>False</td>\n",
       "      <td>__label__129 __label__157 __label__516</td>\n",
       "    </tr>\n",
       "  </tbody>\n",
       "</table>\n",
       "</div>"
      ],
      "text/plain": [
       "    vacancy_id            specializations  \\\n",
       "4      2700005            [137, 221, 296]   \n",
       "5      2700006                 [149, 242]   \n",
       "6      2700007  [149, 196, 242, 324, 538]   \n",
       "8      2700010            [398, 537, 587]   \n",
       "12     2700015            [129, 157, 516]   \n",
       "\n",
       "                                                 text  is_val  \\\n",
       "4   845fe6266ab1 разработчик python django  неболь...   False   \n",
       "5   23ead4a8f164 торговый представитель работа тек...   False   \n",
       "6   9e3008e9f553 менеджер оптовый продажа ткань b2...   False   \n",
       "8   49f3280f53b6 врач клинический лабораторный диа...    True   \n",
       "12  24e6806caa88 швея портной  требоваться швея ла...   False   \n",
       "\n",
       "                                                label  \n",
       "4              __label__137 __label__221 __label__296  \n",
       "5                           __label__149 __label__242  \n",
       "6   __label__149 __label__196 __label__242 __label...  \n",
       "8              __label__398 __label__537 __label__587  \n",
       "12             __label__129 __label__157 __label__516  "
      ]
     },
     "execution_count": 115,
     "metadata": {},
     "output_type": "execute_result"
    }
   ],
   "source": [
    "df.head()"
   ]
  },
  {
   "cell_type": "code",
   "execution_count": 114,
   "metadata": {},
   "outputs": [],
   "source": [
    "df['label'] = df['specializations'].apply(lambda x: ' '.join(['__label__'+str(e) for e in x]))"
   ]
  },
  {
   "cell_type": "code",
   "execution_count": 118,
   "metadata": {},
   "outputs": [],
   "source": [
    "train = df[~df['is_val']][['vacancy_id', 'label', 'text']].copy()"
   ]
  },
  {
   "cell_type": "code",
   "execution_count": 131,
   "metadata": {},
   "outputs": [],
   "source": [
    "test = df[df['is_val']][['vacancy_id', 'label', 'text', 'specializations']].copy()"
   ]
  },
  {
   "cell_type": "code",
   "execution_count": 120,
   "metadata": {},
   "outputs": [],
   "source": [
    "train.to_csv('train.txt', index=False, sep=' ', header=False,)"
   ]
  },
  {
   "cell_type": "code",
   "execution_count": 121,
   "metadata": {},
   "outputs": [],
   "source": [
    "test.to_csv('test.txt', index=False, sep=' ', header=False,)"
   ]
  },
  {
   "cell_type": "code",
   "execution_count": 46,
   "metadata": {},
   "outputs": [],
   "source": [
    "valid = set(dill.load(open('validatin.bin', 'rb')))"
   ]
  },
  {
   "cell_type": "code",
   "execution_count": 148,
   "metadata": {},
   "outputs": [
    {
     "name": "stdout",
     "output_type": "stream",
     "text": [
      "CPU times: user 3h 29min 42s, sys: 19.5 s, total: 3h 30min 2s\n",
      "Wall time: 19min 22s\n"
     ]
    }
   ],
   "source": [
    "%%time\n",
    "model = fasttext.train_supervised('train.txt', dim=300, epoch=10, minCount=2, ws=5, neg=10, verbose=3)"
   ]
  },
  {
   "cell_type": "code",
   "execution_count": 125,
   "metadata": {},
   "outputs": [],
   "source": [
    "def print_results(N, p, r):\n",
    "    print(\"N\\t\" + str(N))\n",
    "    print(\"P@{}\\t{:.3f}\".format(1, p))\n",
    "    print(\"R@{}\\t{:.3f}\".format(1, r))"
   ]
  },
  {
   "cell_type": "code",
   "execution_count": 149,
   "metadata": {},
   "outputs": [
    {
     "name": "stdout",
     "output_type": "stream",
     "text": [
      "N\t1172160\n",
      "P@1\t0.596\n",
      "R@1\t0.255\n"
     ]
    }
   ],
   "source": [
    "print_results(*model.test('train.txt'))"
   ]
  },
  {
   "cell_type": "code",
   "execution_count": 150,
   "metadata": {},
   "outputs": [
    {
     "name": "stdout",
     "output_type": "stream",
     "text": [
      "N\t284164\n",
      "P@1\t0.570\n",
      "R@1\t0.243\n"
     ]
    }
   ],
   "source": [
    "print_results(*model.test('test.txt'))"
   ]
  },
  {
   "cell_type": "code",
   "execution_count": 153,
   "metadata": {},
   "outputs": [],
   "source": [
    "p = 0.596\n",
    "r = 0.255"
   ]
  },
  {
   "cell_type": "code",
   "execution_count": 154,
   "metadata": {},
   "outputs": [
    {
     "data": {
      "text/plain": [
       "0.35717978848413634"
      ]
     },
     "execution_count": 154,
     "metadata": {},
     "output_type": "execute_result"
    }
   ],
   "source": [
    "2*p*r/(p+r)"
   ]
  },
  {
   "cell_type": "code",
   "execution_count": 151,
   "metadata": {},
   "outputs": [],
   "source": [
    "qq('done')"
   ]
  },
  {
   "cell_type": "code",
   "execution_count": 60,
   "metadata": {},
   "outputs": [],
   "source": [
    "df['is_val'] = df['vacancy_id'].isin(valid)"
   ]
  },
  {
   "cell_type": "code",
   "execution_count": 62,
   "metadata": {},
   "outputs": [],
   "source": [
    "test = df[df['is_val']]"
   ]
  },
  {
   "cell_type": "code",
   "execution_count": 36,
   "metadata": {},
   "outputs": [],
   "source": [
    "test = df_unpivoted['is_val']"
   ]
  },
  {
   "cell_type": "code",
   "execution_count": 63,
   "metadata": {},
   "outputs": [],
   "source": [
    "# test['text'] = test[['employer', 'name', 'key_skills', 'processed_text']].apply(' '.join, axis=1)"
   ]
  },
  {
   "cell_type": "code",
   "execution_count": 64,
   "metadata": {},
   "outputs": [],
   "source": [
    "# test.drop(columns=['groups_of_spec', 'key_list', 'name_list', 'employer', 'name', 'key_skills', 'processed_text'], inplace=True)"
   ]
  },
  {
   "cell_type": "code",
   "execution_count": 65,
   "metadata": {},
   "outputs": [
    {
     "data": {
      "text/html": [
       "<div>\n",
       "<style scoped>\n",
       "    .dataframe tbody tr th:only-of-type {\n",
       "        vertical-align: middle;\n",
       "    }\n",
       "\n",
       "    .dataframe tbody tr th {\n",
       "        vertical-align: top;\n",
       "    }\n",
       "\n",
       "    .dataframe thead th {\n",
       "        text-align: right;\n",
       "    }\n",
       "</style>\n",
       "<table border=\"1\" class=\"dataframe\">\n",
       "  <thead>\n",
       "    <tr style=\"text-align: right;\">\n",
       "      <th></th>\n",
       "      <th>vacancy_id</th>\n",
       "      <th>specializations</th>\n",
       "      <th>text</th>\n",
       "      <th>is_val</th>\n",
       "    </tr>\n",
       "  </thead>\n",
       "  <tbody>\n",
       "    <tr>\n",
       "      <th>8</th>\n",
       "      <td>2700010</td>\n",
       "      <td>[398, 537, 587]</td>\n",
       "      <td>49f3280f53b6 врач клинический лабораторный диа...</td>\n",
       "      <td>True</td>\n",
       "    </tr>\n",
       "    <tr>\n",
       "      <th>14</th>\n",
       "      <td>2700017</td>\n",
       "      <td>[175, 181, 248, 313, 374, 580]</td>\n",
       "      <td>764a221a6ce7 администратор хозяйственный служб...</td>\n",
       "      <td>True</td>\n",
       "    </tr>\n",
       "    <tr>\n",
       "      <th>19</th>\n",
       "      <td>2700022</td>\n",
       "      <td>[193]</td>\n",
       "      <td>8114330c1576 официант бармен  обязанность обсл...</td>\n",
       "      <td>True</td>\n",
       "    </tr>\n",
       "    <tr>\n",
       "      <th>21</th>\n",
       "      <td>2700024</td>\n",
       "      <td>[65, 66, 148, 149, 358, 535]</td>\n",
       "      <td>8632324c3155 менеджер продажа менеджер работа ...</td>\n",
       "      <td>True</td>\n",
       "    </tr>\n",
       "    <tr>\n",
       "      <th>22</th>\n",
       "      <td>2700025</td>\n",
       "      <td>[9, 10, 82, 89, 172, 295]</td>\n",
       "      <td>ed4be96cf8ea оператор беспилотный летальный ап...</td>\n",
       "      <td>True</td>\n",
       "    </tr>\n",
       "  </tbody>\n",
       "</table>\n",
       "</div>"
      ],
      "text/plain": [
       "    vacancy_id                 specializations  \\\n",
       "8      2700010                 [398, 537, 587]   \n",
       "14     2700017  [175, 181, 248, 313, 374, 580]   \n",
       "19     2700022                           [193]   \n",
       "21     2700024    [65, 66, 148, 149, 358, 535]   \n",
       "22     2700025       [9, 10, 82, 89, 172, 295]   \n",
       "\n",
       "                                                 text  is_val  \n",
       "8   49f3280f53b6 врач клинический лабораторный диа...    True  \n",
       "14  764a221a6ce7 администратор хозяйственный служб...    True  \n",
       "19  8114330c1576 официант бармен  обязанность обсл...    True  \n",
       "21  8632324c3155 менеджер продажа менеджер работа ...    True  \n",
       "22  ed4be96cf8ea оператор беспилотный летальный ап...    True  "
      ]
     },
     "execution_count": 65,
     "metadata": {},
     "output_type": "execute_result"
    }
   ],
   "source": [
    "test.head()"
   ]
  },
  {
   "cell_type": "code",
   "execution_count": 100,
   "metadata": {},
   "outputs": [
    {
     "data": {
      "text/plain": [
       "'49f3280f53b6 врач клинический лабораторный диагностика бактериология  компания kdl клинико диагностический лаборатория приглашать кандидат должность quot врач клинический лабораторный диагностика бактериология quot обязанность работа бактериологический отделение проведение бактериологический исследование требование образование высокий медицинский биологический переподготовка действующий сертификат бактериология либо клинический лабораторный диагностика знание уверенный пользователь условие работа стремительно развиваться компания лидер медицинский рынок официальный оформление сменный график работа quot белый quot заработный плата выплачиваться месяц задержка полный социальный пакет повышение квалификация счет компания возможность профессиональный рост корпоративный скидка услуга лаборатория сотрудник компания семья'"
      ]
     },
     "execution_count": 100,
     "metadata": {},
     "output_type": "execute_result"
    }
   ],
   "source": [
    "test.iloc[0].text"
   ]
  },
  {
   "cell_type": "code",
   "execution_count": 101,
   "metadata": {},
   "outputs": [
    {
     "data": {
      "text/plain": [
       "(('__label__398',\n",
       "  '__label__587',\n",
       "  '__label__131',\n",
       "  '__label__128',\n",
       "  '__label__185',\n",
       "  '__label__155'),\n",
       " array([0.58572251, 0.17023057, 0.10375242, 0.04449557, 0.02447621,\n",
       "        0.01403851]))"
      ]
     },
     "execution_count": 101,
     "metadata": {},
     "output_type": "execute_result"
    }
   ],
   "source": [
    "model.predict(test.iloc[0].text, k=6)"
   ]
  },
  {
   "cell_type": "code",
   "execution_count": 103,
   "metadata": {},
   "outputs": [],
   "source": [
    "test = test.copy()"
   ]
  },
  {
   "cell_type": "code",
   "execution_count": 130,
   "metadata": {},
   "outputs": [
    {
     "data": {
      "text/html": [
       "<div>\n",
       "<style scoped>\n",
       "    .dataframe tbody tr th:only-of-type {\n",
       "        vertical-align: middle;\n",
       "    }\n",
       "\n",
       "    .dataframe tbody tr th {\n",
       "        vertical-align: top;\n",
       "    }\n",
       "\n",
       "    .dataframe thead th {\n",
       "        text-align: right;\n",
       "    }\n",
       "</style>\n",
       "<table border=\"1\" class=\"dataframe\">\n",
       "  <thead>\n",
       "    <tr style=\"text-align: right;\">\n",
       "      <th></th>\n",
       "      <th>vacancy_id</th>\n",
       "      <th>label</th>\n",
       "      <th>text</th>\n",
       "    </tr>\n",
       "  </thead>\n",
       "  <tbody>\n",
       "    <tr>\n",
       "      <th>8</th>\n",
       "      <td>2700010</td>\n",
       "      <td>__label__398 __label__537 __label__587</td>\n",
       "      <td>49f3280f53b6 врач клинический лабораторный диа...</td>\n",
       "    </tr>\n",
       "    <tr>\n",
       "      <th>14</th>\n",
       "      <td>2700017</td>\n",
       "      <td>__label__175 __label__181 __label__248 __label...</td>\n",
       "      <td>764a221a6ce7 администратор хозяйственный служб...</td>\n",
       "    </tr>\n",
       "    <tr>\n",
       "      <th>19</th>\n",
       "      <td>2700022</td>\n",
       "      <td>__label__193</td>\n",
       "      <td>8114330c1576 официант бармен  обязанность обсл...</td>\n",
       "    </tr>\n",
       "    <tr>\n",
       "      <th>21</th>\n",
       "      <td>2700024</td>\n",
       "      <td>__label__65 __label__66 __label__148 __label__...</td>\n",
       "      <td>8632324c3155 менеджер продажа менеджер работа ...</td>\n",
       "    </tr>\n",
       "    <tr>\n",
       "      <th>22</th>\n",
       "      <td>2700025</td>\n",
       "      <td>__label__9 __label__10 __label__82 __label__89...</td>\n",
       "      <td>ed4be96cf8ea оператор беспилотный летальный ап...</td>\n",
       "    </tr>\n",
       "  </tbody>\n",
       "</table>\n",
       "</div>"
      ],
      "text/plain": [
       "    vacancy_id                                              label  \\\n",
       "8      2700010             __label__398 __label__537 __label__587   \n",
       "14     2700017  __label__175 __label__181 __label__248 __label...   \n",
       "19     2700022                                       __label__193   \n",
       "21     2700024  __label__65 __label__66 __label__148 __label__...   \n",
       "22     2700025  __label__9 __label__10 __label__82 __label__89...   \n",
       "\n",
       "                                                 text  \n",
       "8   49f3280f53b6 врач клинический лабораторный диа...  \n",
       "14  764a221a6ce7 администратор хозяйственный служб...  \n",
       "19  8114330c1576 официант бармен  обязанность обсл...  \n",
       "21  8632324c3155 менеджер продажа менеджер работа ...  \n",
       "22  ed4be96cf8ea оператор беспилотный летальный ап...  "
      ]
     },
     "execution_count": 130,
     "metadata": {},
     "output_type": "execute_result"
    }
   ],
   "source": [
    "test.head()"
   ]
  },
  {
   "cell_type": "code",
   "execution_count": 155,
   "metadata": {},
   "outputs": [
    {
     "name": "stdout",
     "output_type": "stream",
     "text": [
      "CPU times: user 2min 52s, sys: 324 ms, total: 2min 52s\n",
      "Wall time: 2min 52s\n"
     ]
    }
   ],
   "source": [
    "%%time\n",
    "test['predict'] = test['text'].apply(model.predict, k=6)"
   ]
  },
  {
   "cell_type": "code",
   "execution_count": 156,
   "metadata": {},
   "outputs": [
    {
     "data": {
      "text/html": [
       "<div>\n",
       "<style scoped>\n",
       "    .dataframe tbody tr th:only-of-type {\n",
       "        vertical-align: middle;\n",
       "    }\n",
       "\n",
       "    .dataframe tbody tr th {\n",
       "        vertical-align: top;\n",
       "    }\n",
       "\n",
       "    .dataframe thead th {\n",
       "        text-align: right;\n",
       "    }\n",
       "</style>\n",
       "<table border=\"1\" class=\"dataframe\">\n",
       "  <thead>\n",
       "    <tr style=\"text-align: right;\">\n",
       "      <th></th>\n",
       "      <th>vacancy_id</th>\n",
       "      <th>label</th>\n",
       "      <th>text</th>\n",
       "      <th>specializations</th>\n",
       "      <th>predict</th>\n",
       "      <th>pred</th>\n",
       "    </tr>\n",
       "  </thead>\n",
       "  <tbody>\n",
       "    <tr>\n",
       "      <th>8</th>\n",
       "      <td>2700010</td>\n",
       "      <td>__label__398 __label__537 __label__587</td>\n",
       "      <td>49f3280f53b6 врач клинический лабораторный диа...</td>\n",
       "      <td>[398, 537, 587]</td>\n",
       "      <td>((__label__398, __label__587\", __label__398\", ...</td>\n",
       "      <td>[398, 587, 398, 185, 155, 131]</td>\n",
       "    </tr>\n",
       "    <tr>\n",
       "      <th>14</th>\n",
       "      <td>2700017</td>\n",
       "      <td>__label__175 __label__181 __label__248 __label...</td>\n",
       "      <td>764a221a6ce7 администратор хозяйственный служб...</td>\n",
       "      <td>[175, 181, 248, 313, 374, 580]</td>\n",
       "      <td>((__label__248, __label__316, __label__255, __...</td>\n",
       "      <td>[248, 316, 255, 316, 329, 504]</td>\n",
       "    </tr>\n",
       "    <tr>\n",
       "      <th>19</th>\n",
       "      <td>2700022</td>\n",
       "      <td>__label__193</td>\n",
       "      <td>8114330c1576 официант бармен  обязанность обсл...</td>\n",
       "      <td>[193]</td>\n",
       "      <td>((__label__193, __label__329, __label__248, __...</td>\n",
       "      <td>[193, 329, 248, 518, 231, 193]</td>\n",
       "    </tr>\n",
       "    <tr>\n",
       "      <th>21</th>\n",
       "      <td>2700024</td>\n",
       "      <td>__label__65 __label__66 __label__148 __label__...</td>\n",
       "      <td>8632324c3155 менеджер продажа менеджер работа ...</td>\n",
       "      <td>[65, 66, 148, 149, 358, 535]</td>\n",
       "      <td>((__label__149, __label__196, __label__148, __...</td>\n",
       "      <td>[149, 196, 148, 242, 332, 538]</td>\n",
       "    </tr>\n",
       "    <tr>\n",
       "      <th>22</th>\n",
       "      <td>2700025</td>\n",
       "      <td>__label__9 __label__10 __label__82 __label__89...</td>\n",
       "      <td>ed4be96cf8ea оператор беспилотный летальный ап...</td>\n",
       "      <td>[9, 10, 82, 89, 172, 295]</td>\n",
       "      <td>((__label__47, __label__221, __label__245, __l...</td>\n",
       "      <td>[47, 221, 245, 142, 81, 273]</td>\n",
       "    </tr>\n",
       "  </tbody>\n",
       "</table>\n",
       "</div>"
      ],
      "text/plain": [
       "    vacancy_id                                              label  \\\n",
       "8      2700010             __label__398 __label__537 __label__587   \n",
       "14     2700017  __label__175 __label__181 __label__248 __label...   \n",
       "19     2700022                                       __label__193   \n",
       "21     2700024  __label__65 __label__66 __label__148 __label__...   \n",
       "22     2700025  __label__9 __label__10 __label__82 __label__89...   \n",
       "\n",
       "                                                 text  \\\n",
       "8   49f3280f53b6 врач клинический лабораторный диа...   \n",
       "14  764a221a6ce7 администратор хозяйственный служб...   \n",
       "19  8114330c1576 официант бармен  обязанность обсл...   \n",
       "21  8632324c3155 менеджер продажа менеджер работа ...   \n",
       "22  ed4be96cf8ea оператор беспилотный летальный ап...   \n",
       "\n",
       "                   specializations  \\\n",
       "8                  [398, 537, 587]   \n",
       "14  [175, 181, 248, 313, 374, 580]   \n",
       "19                           [193]   \n",
       "21    [65, 66, 148, 149, 358, 535]   \n",
       "22       [9, 10, 82, 89, 172, 295]   \n",
       "\n",
       "                                              predict  \\\n",
       "8   ((__label__398, __label__587\", __label__398\", ...   \n",
       "14  ((__label__248, __label__316, __label__255, __...   \n",
       "19  ((__label__193, __label__329, __label__248, __...   \n",
       "21  ((__label__149, __label__196, __label__148, __...   \n",
       "22  ((__label__47, __label__221, __label__245, __l...   \n",
       "\n",
       "                              pred  \n",
       "8   [398, 587, 398, 185, 155, 131]  \n",
       "14  [248, 316, 255, 316, 329, 504]  \n",
       "19  [193, 329, 248, 518, 231, 193]  \n",
       "21  [149, 196, 148, 242, 332, 538]  \n",
       "22    [47, 221, 245, 142, 81, 273]  "
      ]
     },
     "execution_count": 156,
     "metadata": {},
     "output_type": "execute_result"
    }
   ],
   "source": [
    "test.head()"
   ]
  },
  {
   "cell_type": "code",
   "execution_count": 157,
   "metadata": {},
   "outputs": [
    {
     "data": {
      "text/plain": [
       "array([(('__label__248', '__label__316', '__label__255', '__label__316\"', '__label__329', '__label__504\"'), array([0.23508149, 0.12962542, 0.06665581, 0.05006903, 0.03730892,\n",
       "       0.03699226]))], dtype=object)"
      ]
     },
     "execution_count": 157,
     "metadata": {},
     "output_type": "execute_result"
    }
   ],
   "source": [
    "test[test['vacancy_id']==2700017].predict.values"
   ]
  },
  {
   "cell_type": "code",
   "execution_count": 158,
   "metadata": {},
   "outputs": [
    {
     "name": "stdout",
     "output_type": "stream",
     "text": [
      "CPU times: user 1.15 s, sys: 12 ms, total: 1.16 s\n",
      "Wall time: 1.16 s\n"
     ]
    }
   ],
   "source": [
    "%%time\n",
    "test['pred']=test['predict'].apply(lambda x: [int(e.replace('__label__', '').replace('\"','')) for e in x[0]])"
   ]
  },
  {
   "cell_type": "code",
   "execution_count": 142,
   "metadata": {},
   "outputs": [],
   "source": [
    "def f1score(y_true, y_pred):\n",
    "    y_true = set(y_true)\n",
    "    y_pred = set(y_pred)\n",
    "    \n",
    "    tp = len(y_true & y_pred)\n",
    "    precision = tp / len(y_pred)\n",
    "    recall = tp / len(y_true)\n",
    "    if precision == 0.0 and recall == 0.0:\n",
    "        score = 0.0\n",
    "    else:\n",
    "        score = 2 * precision * recall / (precision + recall)\n",
    "    return score\n",
    "\n",
    "def mean_f1score(y_true, y_pred):\n",
    "    lst = []\n",
    "    for vacancy_id, true_specs in y_true.items():\n",
    "        lst.append(f1score(true_specs, y_pred[vacancy_id]))\n",
    "    return np.mean(lst)"
   ]
  },
  {
   "cell_type": "code",
   "execution_count": 143,
   "metadata": {},
   "outputs": [
    {
     "data": {
      "text/html": [
       "<div>\n",
       "<style scoped>\n",
       "    .dataframe tbody tr th:only-of-type {\n",
       "        vertical-align: middle;\n",
       "    }\n",
       "\n",
       "    .dataframe tbody tr th {\n",
       "        vertical-align: top;\n",
       "    }\n",
       "\n",
       "    .dataframe thead th {\n",
       "        text-align: right;\n",
       "    }\n",
       "</style>\n",
       "<table border=\"1\" class=\"dataframe\">\n",
       "  <thead>\n",
       "    <tr style=\"text-align: right;\">\n",
       "      <th></th>\n",
       "      <th>vacancy_id</th>\n",
       "      <th>label</th>\n",
       "      <th>text</th>\n",
       "      <th>specializations</th>\n",
       "      <th>predict</th>\n",
       "      <th>pred</th>\n",
       "    </tr>\n",
       "  </thead>\n",
       "  <tbody>\n",
       "    <tr>\n",
       "      <th>8</th>\n",
       "      <td>2700010</td>\n",
       "      <td>__label__398 __label__537 __label__587</td>\n",
       "      <td>49f3280f53b6 врач клинический лабораторный диа...</td>\n",
       "      <td>[398, 537, 587]</td>\n",
       "      <td>((__label__398, __label__587\", __label__398\", ...</td>\n",
       "      <td>[398, 587, 398, 185, 155, 131]</td>\n",
       "    </tr>\n",
       "    <tr>\n",
       "      <th>14</th>\n",
       "      <td>2700017</td>\n",
       "      <td>__label__175 __label__181 __label__248 __label...</td>\n",
       "      <td>764a221a6ce7 администратор хозяйственный служб...</td>\n",
       "      <td>[175, 181, 248, 313, 374, 580]</td>\n",
       "      <td>((__label__248, __label__316, __label__255, __...</td>\n",
       "      <td>[248, 316, 255, 316, 329, 504]</td>\n",
       "    </tr>\n",
       "  </tbody>\n",
       "</table>\n",
       "</div>"
      ],
      "text/plain": [
       "    vacancy_id                                              label  \\\n",
       "8      2700010             __label__398 __label__537 __label__587   \n",
       "14     2700017  __label__175 __label__181 __label__248 __label...   \n",
       "\n",
       "                                                 text  \\\n",
       "8   49f3280f53b6 врач клинический лабораторный диа...   \n",
       "14  764a221a6ce7 администратор хозяйственный служб...   \n",
       "\n",
       "                   specializations  \\\n",
       "8                  [398, 537, 587]   \n",
       "14  [175, 181, 248, 313, 374, 580]   \n",
       "\n",
       "                                              predict  \\\n",
       "8   ((__label__398, __label__587\", __label__398\", ...   \n",
       "14  ((__label__248, __label__316, __label__255, __...   \n",
       "\n",
       "                              pred  \n",
       "8   [398, 587, 398, 185, 155, 131]  \n",
       "14  [248, 316, 255, 316, 329, 504]  "
      ]
     },
     "execution_count": 143,
     "metadata": {},
     "output_type": "execute_result"
    }
   ],
   "source": [
    "test.head(2)"
   ]
  },
  {
   "cell_type": "code",
   "execution_count": 144,
   "metadata": {},
   "outputs": [],
   "source": [
    "y_true = test['specializations'].to_dict()"
   ]
  },
  {
   "cell_type": "code",
   "execution_count": 109,
   "metadata": {},
   "outputs": [],
   "source": [
    "#test['pred'] = test['pred'].apply(lambda x: x[:3])"
   ]
  },
  {
   "cell_type": "code",
   "execution_count": 145,
   "metadata": {},
   "outputs": [],
   "source": [
    "y_pred = test['pred'].to_dict()"
   ]
  },
  {
   "cell_type": "code",
   "execution_count": 146,
   "metadata": {},
   "outputs": [
    {
     "data": {
      "text/plain": [
       "0.4250116148756022"
      ]
     },
     "execution_count": 146,
     "metadata": {},
     "output_type": "execute_result"
    }
   ],
   "source": [
    "mean_f1score(y_true, y_pred)"
   ]
  }
 ],
 "metadata": {
  "kernelspec": {
   "display_name": "Python 3",
   "language": "python",
   "name": "python3"
  },
  "language_info": {
   "codemirror_mode": {
    "name": "ipython",
    "version": 3
   },
   "file_extension": ".py",
   "mimetype": "text/x-python",
   "name": "python",
   "nbconvert_exporter": "python",
   "pygments_lexer": "ipython3",
   "version": "3.7.6"
  }
 },
 "nbformat": 4,
 "nbformat_minor": 4
}
