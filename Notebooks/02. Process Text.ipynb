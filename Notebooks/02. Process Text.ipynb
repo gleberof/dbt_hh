{
 "cells": [
  {
   "cell_type": "code",
   "execution_count": 1,
   "metadata": {},
   "outputs": [],
   "source": [
    "%load_ext autoreload\n",
    "%autoreload 2"
   ]
  },
  {
   "cell_type": "code",
   "execution_count": 2,
   "metadata": {},
   "outputs": [],
   "source": [
    "\n",
    "import json\n",
    "import gzip\n",
    "from itertools import islice\n",
    "from collections import Counter, defaultdict\n",
    "from operator import itemgetter\n",
    "import pyarrow.parquet as pq\n",
    "import pyarrow as pa\n",
    "\n",
    "import pandas as pd\n",
    "from tqdm.notebook import tqdm\n",
    "import dill\n",
    "import os\n",
    "from pqdm.processes import pqdm\n",
    "import re\n",
    "\n",
    "from workers import *\n",
    "\n",
    "import telepot\n",
    "bot = telepot.Bot('436447719:AAGq_iK2hE3cPFhmL9Jh53g9HyVkw3SXZbg')\n",
    "def qq(txt):\n",
    "    bot.sendMessage(1114926, txt)"
   ]
  },
  {
   "cell_type": "code",
   "execution_count": 3,
   "metadata": {},
   "outputs": [],
   "source": [
    "data_path = '..\\\\Data\\\\In\\\\'\n",
    "submissions_path =  '..\\\\Submissions\\\\'"
   ]
  },
  {
   "cell_type": "code",
   "execution_count": 25,
   "metadata": {},
   "outputs": [],
   "source": [
    "#df.to_pickle(\"df.pkl\")"
   ]
  },
  {
   "cell_type": "code",
   "execution_count": 4,
   "metadata": {},
   "outputs": [],
   "source": [
    "df = pd.read_pickle(\"df.pkl\")"
   ]
  },
  {
   "cell_type": "code",
   "execution_count": 5,
   "metadata": {},
   "outputs": [
    {
     "data": {
      "text/html": [
       "<div>\n",
       "<style scoped>\n",
       "    .dataframe tbody tr th:only-of-type {\n",
       "        vertical-align: middle;\n",
       "    }\n",
       "\n",
       "    .dataframe tbody tr th {\n",
       "        vertical-align: top;\n",
       "    }\n",
       "\n",
       "    .dataframe thead th {\n",
       "        text-align: right;\n",
       "    }\n",
       "</style>\n",
       "<table border=\"1\" class=\"dataframe\">\n",
       "  <thead>\n",
       "    <tr style=\"text-align: right;\">\n",
       "      <th></th>\n",
       "      <th>vacancy_id</th>\n",
       "      <th>name</th>\n",
       "      <th>description</th>\n",
       "      <th>area_id</th>\n",
       "      <th>creation_date</th>\n",
       "      <th>work_schedule</th>\n",
       "      <th>work_experience</th>\n",
       "      <th>compensation_from</th>\n",
       "      <th>compensation_to</th>\n",
       "      <th>currency</th>\n",
       "      <th>key_skills</th>\n",
       "      <th>employer</th>\n",
       "      <th>specializations</th>\n",
       "      <th>is_test</th>\n",
       "      <th>part</th>\n",
       "      <th>employment</th>\n",
       "      <th>spec_len</th>\n",
       "      <th>groups_of_spec</th>\n",
       "      <th>len_groups</th>\n",
       "      <th>html_tags</th>\n",
       "    </tr>\n",
       "  </thead>\n",
       "  <tbody>\n",
       "    <tr>\n",
       "      <th>0</th>\n",
       "      <td>2700001</td>\n",
       "      <td>Прораб (Великий Устюг)</td>\n",
       "      <td>&lt;p&gt;&lt;strong&gt;Обязанности:&lt;/strong&gt;&lt;/p&gt; &lt;p&gt;—взаим...</td>\n",
       "      <td>2</td>\n",
       "      <td>2019-06-14</td>\n",
       "      <td>fullDay</td>\n",
       "      <td>between3And6</td>\n",
       "      <td>NaN</td>\n",
       "      <td>NaN</td>\n",
       "      <td>NaN</td>\n",
       "      <td>[]</td>\n",
       "      <td>72dc8d78bbec</td>\n",
       "      <td>None</td>\n",
       "      <td>True</td>\n",
       "      <td>10</td>\n",
       "      <td>full</td>\n",
       "      <td>NaN</td>\n",
       "      <td>None</td>\n",
       "      <td>NaN</td>\n",
       "      <td>[p, strong, /strong, /p, p, /p, p, /p, p, /p, ...</td>\n",
       "    </tr>\n",
       "    <tr>\n",
       "      <th>1</th>\n",
       "      <td>2700002</td>\n",
       "      <td>Лаборант электротехнической лаборатории</td>\n",
       "      <td>&lt;p&gt;&lt;strong&gt;В связи с расширением Компании нам ...</td>\n",
       "      <td>1</td>\n",
       "      <td>2019-08-30</td>\n",
       "      <td>fullDay</td>\n",
       "      <td>between1And3</td>\n",
       "      <td>35000.0</td>\n",
       "      <td>45000.0</td>\n",
       "      <td>RUR</td>\n",
       "      <td>[MS Office, Пользователь ПК, Деловое общение, ...</td>\n",
       "      <td>ba6dcbd0bcd1</td>\n",
       "      <td>None</td>\n",
       "      <td>True</td>\n",
       "      <td>10</td>\n",
       "      <td>full</td>\n",
       "      <td>NaN</td>\n",
       "      <td>None</td>\n",
       "      <td>NaN</td>\n",
       "      <td>[p, strong, /strong, br /, strong, br /, /stro...</td>\n",
       "    </tr>\n",
       "    <tr>\n",
       "      <th>2</th>\n",
       "      <td>2700003</td>\n",
       "      <td>Продавец-консультант ТЦ Радуга Парк</td>\n",
       "      <td>&lt;strong&gt;Обязанности:&lt;/strong&gt; &lt;ul&gt; &lt;li&gt;консуль...</td>\n",
       "      <td>3</td>\n",
       "      <td>2019-06-17</td>\n",
       "      <td>fullDay</td>\n",
       "      <td>between1And3</td>\n",
       "      <td>25000.0</td>\n",
       "      <td>32000.0</td>\n",
       "      <td>RUR</td>\n",
       "      <td>[Грамотная речь, Коммуникабельность, Активные ...</td>\n",
       "      <td>ddc67b017661</td>\n",
       "      <td>None</td>\n",
       "      <td>True</td>\n",
       "      <td>10</td>\n",
       "      <td>full</td>\n",
       "      <td>NaN</td>\n",
       "      <td>None</td>\n",
       "      <td>NaN</td>\n",
       "      <td>[strong, /strong, ul, li, /li, li, /li, li, /l...</td>\n",
       "    </tr>\n",
       "    <tr>\n",
       "      <th>3</th>\n",
       "      <td>2700004</td>\n",
       "      <td>Тестировщик в команду Saving products</td>\n",
       "      <td>&lt;p&gt;Мы - команда &lt;strong&gt;Saving products.&lt;/stro...</td>\n",
       "      <td>1</td>\n",
       "      <td>2019-09-25</td>\n",
       "      <td>fullDay</td>\n",
       "      <td>between1And3</td>\n",
       "      <td>NaN</td>\n",
       "      <td>NaN</td>\n",
       "      <td>NaN</td>\n",
       "      <td>[]</td>\n",
       "      <td>a621c7f876ec</td>\n",
       "      <td>None</td>\n",
       "      <td>True</td>\n",
       "      <td>10</td>\n",
       "      <td>full</td>\n",
       "      <td>NaN</td>\n",
       "      <td>None</td>\n",
       "      <td>NaN</td>\n",
       "      <td>[p, strong, /strong, br /, br /, br /, br /, e...</td>\n",
       "    </tr>\n",
       "    <tr>\n",
       "      <th>4</th>\n",
       "      <td>2700005</td>\n",
       "      <td>Разработчик Python/django</td>\n",
       "      <td>&lt;p&gt;В небольшую дружную команду требуется опытн...</td>\n",
       "      <td>1</td>\n",
       "      <td>2019-09-03</td>\n",
       "      <td>fullDay</td>\n",
       "      <td>between3And6</td>\n",
       "      <td>70000.0</td>\n",
       "      <td>80000.0</td>\n",
       "      <td>RUR</td>\n",
       "      <td>[]</td>\n",
       "      <td>845fe6266ab1</td>\n",
       "      <td>[137, 221, 296]</td>\n",
       "      <td>False</td>\n",
       "      <td>10</td>\n",
       "      <td>full</td>\n",
       "      <td>3.0</td>\n",
       "      <td>[1]</td>\n",
       "      <td>1.0</td>\n",
       "      <td>[p, /p, p, /p, p, /p, p, /p, p, /p, p, /p, ul,...</td>\n",
       "    </tr>\n",
       "  </tbody>\n",
       "</table>\n",
       "</div>"
      ],
      "text/plain": [
       "   vacancy_id                                     name  \\\n",
       "0     2700001                   Прораб (Великий Устюг)   \n",
       "1     2700002  Лаборант электротехнической лаборатории   \n",
       "2     2700003      Продавец-консультант ТЦ Радуга Парк   \n",
       "3     2700004    Тестировщик в команду Saving products   \n",
       "4     2700005                Разработчик Python/django   \n",
       "\n",
       "                                         description  area_id creation_date  \\\n",
       "0  <p><strong>Обязанности:</strong></p> <p>—взаим...        2    2019-06-14   \n",
       "1  <p><strong>В связи с расширением Компании нам ...        1    2019-08-30   \n",
       "2  <strong>Обязанности:</strong> <ul> <li>консуль...        3    2019-06-17   \n",
       "3  <p>Мы - команда <strong>Saving products.</stro...        1    2019-09-25   \n",
       "4  <p>В небольшую дружную команду требуется опытн...        1    2019-09-03   \n",
       "\n",
       "  work_schedule work_experience  compensation_from  compensation_to currency  \\\n",
       "0       fullDay    between3And6                NaN              NaN      NaN   \n",
       "1       fullDay    between1And3            35000.0          45000.0      RUR   \n",
       "2       fullDay    between1And3            25000.0          32000.0      RUR   \n",
       "3       fullDay    between1And3                NaN              NaN      NaN   \n",
       "4       fullDay    between3And6            70000.0          80000.0      RUR   \n",
       "\n",
       "                                          key_skills      employer  \\\n",
       "0                                                 []  72dc8d78bbec   \n",
       "1  [MS Office, Пользователь ПК, Деловое общение, ...  ba6dcbd0bcd1   \n",
       "2  [Грамотная речь, Коммуникабельность, Активные ...  ddc67b017661   \n",
       "3                                                 []  a621c7f876ec   \n",
       "4                                                 []  845fe6266ab1   \n",
       "\n",
       "   specializations  is_test part employment  spec_len groups_of_spec  \\\n",
       "0             None     True   10       full       NaN           None   \n",
       "1             None     True   10       full       NaN           None   \n",
       "2             None     True   10       full       NaN           None   \n",
       "3             None     True   10       full       NaN           None   \n",
       "4  [137, 221, 296]    False   10       full       3.0            [1]   \n",
       "\n",
       "   len_groups                                          html_tags  \n",
       "0         NaN  [p, strong, /strong, /p, p, /p, p, /p, p, /p, ...  \n",
       "1         NaN  [p, strong, /strong, br /, strong, br /, /stro...  \n",
       "2         NaN  [strong, /strong, ul, li, /li, li, /li, li, /l...  \n",
       "3         NaN  [p, strong, /strong, br /, br /, br /, br /, e...  \n",
       "4         1.0  [p, /p, p, /p, p, /p, p, /p, p, /p, p, /p, ul,...  "
      ]
     },
     "execution_count": 5,
     "metadata": {},
     "output_type": "execute_result"
    }
   ],
   "source": [
    "df.head()"
   ]
  },
  {
   "cell_type": "code",
   "execution_count": 1,
   "metadata": {},
   "outputs": [],
   "source": [
    "#df['html_tags'] = pqdm(df.description, extract_html, n_jobs=10)"
   ]
  },
  {
   "cell_type": "code",
   "execution_count": 6,
   "metadata": {},
   "outputs": [],
   "source": [
    "df_train = df\n",
    "del df"
   ]
  },
  {
   "cell_type": "code",
   "execution_count": 7,
   "metadata": {},
   "outputs": [
    {
     "data": {
      "text/html": [
       "<div>\n",
       "<style scoped>\n",
       "    .dataframe tbody tr th:only-of-type {\n",
       "        vertical-align: middle;\n",
       "    }\n",
       "\n",
       "    .dataframe tbody tr th {\n",
       "        vertical-align: top;\n",
       "    }\n",
       "\n",
       "    .dataframe thead th {\n",
       "        text-align: right;\n",
       "    }\n",
       "</style>\n",
       "<table border=\"1\" class=\"dataframe\">\n",
       "  <thead>\n",
       "    <tr style=\"text-align: right;\">\n",
       "      <th></th>\n",
       "      <th>vacancy_id</th>\n",
       "      <th>name</th>\n",
       "      <th>description</th>\n",
       "      <th>area_id</th>\n",
       "      <th>creation_date</th>\n",
       "      <th>work_schedule</th>\n",
       "      <th>work_experience</th>\n",
       "      <th>compensation_from</th>\n",
       "      <th>compensation_to</th>\n",
       "      <th>currency</th>\n",
       "      <th>key_skills</th>\n",
       "      <th>employer</th>\n",
       "      <th>specializations</th>\n",
       "      <th>is_test</th>\n",
       "      <th>part</th>\n",
       "      <th>employment</th>\n",
       "      <th>spec_len</th>\n",
       "      <th>groups_of_spec</th>\n",
       "      <th>len_groups</th>\n",
       "      <th>html_tags</th>\n",
       "    </tr>\n",
       "  </thead>\n",
       "  <tbody>\n",
       "    <tr>\n",
       "      <th>0</th>\n",
       "      <td>2700001</td>\n",
       "      <td>Прораб (Великий Устюг)</td>\n",
       "      <td>&lt;p&gt;&lt;strong&gt;Обязанности:&lt;/strong&gt;&lt;/p&gt; &lt;p&gt;—взаим...</td>\n",
       "      <td>2</td>\n",
       "      <td>2019-06-14</td>\n",
       "      <td>fullDay</td>\n",
       "      <td>between3And6</td>\n",
       "      <td>NaN</td>\n",
       "      <td>NaN</td>\n",
       "      <td>NaN</td>\n",
       "      <td>[]</td>\n",
       "      <td>72dc8d78bbec</td>\n",
       "      <td>None</td>\n",
       "      <td>True</td>\n",
       "      <td>10</td>\n",
       "      <td>full</td>\n",
       "      <td>NaN</td>\n",
       "      <td>None</td>\n",
       "      <td>NaN</td>\n",
       "      <td>[p, strong, /strong, /p, p, /p, p, /p, p, /p, ...</td>\n",
       "    </tr>\n",
       "    <tr>\n",
       "      <th>1</th>\n",
       "      <td>2700002</td>\n",
       "      <td>Лаборант электротехнической лаборатории</td>\n",
       "      <td>&lt;p&gt;&lt;strong&gt;В связи с расширением Компании нам ...</td>\n",
       "      <td>1</td>\n",
       "      <td>2019-08-30</td>\n",
       "      <td>fullDay</td>\n",
       "      <td>between1And3</td>\n",
       "      <td>35000.0</td>\n",
       "      <td>45000.0</td>\n",
       "      <td>RUR</td>\n",
       "      <td>[MS Office, Пользователь ПК, Деловое общение, ...</td>\n",
       "      <td>ba6dcbd0bcd1</td>\n",
       "      <td>None</td>\n",
       "      <td>True</td>\n",
       "      <td>10</td>\n",
       "      <td>full</td>\n",
       "      <td>NaN</td>\n",
       "      <td>None</td>\n",
       "      <td>NaN</td>\n",
       "      <td>[p, strong, /strong, br /, strong, br /, /stro...</td>\n",
       "    </tr>\n",
       "    <tr>\n",
       "      <th>2</th>\n",
       "      <td>2700003</td>\n",
       "      <td>Продавец-консультант ТЦ Радуга Парк</td>\n",
       "      <td>&lt;strong&gt;Обязанности:&lt;/strong&gt; &lt;ul&gt; &lt;li&gt;консуль...</td>\n",
       "      <td>3</td>\n",
       "      <td>2019-06-17</td>\n",
       "      <td>fullDay</td>\n",
       "      <td>between1And3</td>\n",
       "      <td>25000.0</td>\n",
       "      <td>32000.0</td>\n",
       "      <td>RUR</td>\n",
       "      <td>[Грамотная речь, Коммуникабельность, Активные ...</td>\n",
       "      <td>ddc67b017661</td>\n",
       "      <td>None</td>\n",
       "      <td>True</td>\n",
       "      <td>10</td>\n",
       "      <td>full</td>\n",
       "      <td>NaN</td>\n",
       "      <td>None</td>\n",
       "      <td>NaN</td>\n",
       "      <td>[strong, /strong, ul, li, /li, li, /li, li, /l...</td>\n",
       "    </tr>\n",
       "    <tr>\n",
       "      <th>3</th>\n",
       "      <td>2700004</td>\n",
       "      <td>Тестировщик в команду Saving products</td>\n",
       "      <td>&lt;p&gt;Мы - команда &lt;strong&gt;Saving products.&lt;/stro...</td>\n",
       "      <td>1</td>\n",
       "      <td>2019-09-25</td>\n",
       "      <td>fullDay</td>\n",
       "      <td>between1And3</td>\n",
       "      <td>NaN</td>\n",
       "      <td>NaN</td>\n",
       "      <td>NaN</td>\n",
       "      <td>[]</td>\n",
       "      <td>a621c7f876ec</td>\n",
       "      <td>None</td>\n",
       "      <td>True</td>\n",
       "      <td>10</td>\n",
       "      <td>full</td>\n",
       "      <td>NaN</td>\n",
       "      <td>None</td>\n",
       "      <td>NaN</td>\n",
       "      <td>[p, strong, /strong, br /, br /, br /, br /, e...</td>\n",
       "    </tr>\n",
       "    <tr>\n",
       "      <th>4</th>\n",
       "      <td>2700005</td>\n",
       "      <td>Разработчик Python/django</td>\n",
       "      <td>&lt;p&gt;В небольшую дружную команду требуется опытн...</td>\n",
       "      <td>1</td>\n",
       "      <td>2019-09-03</td>\n",
       "      <td>fullDay</td>\n",
       "      <td>between3And6</td>\n",
       "      <td>70000.0</td>\n",
       "      <td>80000.0</td>\n",
       "      <td>RUR</td>\n",
       "      <td>[]</td>\n",
       "      <td>845fe6266ab1</td>\n",
       "      <td>[137, 221, 296]</td>\n",
       "      <td>False</td>\n",
       "      <td>10</td>\n",
       "      <td>full</td>\n",
       "      <td>3.0</td>\n",
       "      <td>[1]</td>\n",
       "      <td>1.0</td>\n",
       "      <td>[p, /p, p, /p, p, /p, p, /p, p, /p, p, /p, ul,...</td>\n",
       "    </tr>\n",
       "  </tbody>\n",
       "</table>\n",
       "</div>"
      ],
      "text/plain": [
       "   vacancy_id                                     name  \\\n",
       "0     2700001                   Прораб (Великий Устюг)   \n",
       "1     2700002  Лаборант электротехнической лаборатории   \n",
       "2     2700003      Продавец-консультант ТЦ Радуга Парк   \n",
       "3     2700004    Тестировщик в команду Saving products   \n",
       "4     2700005                Разработчик Python/django   \n",
       "\n",
       "                                         description  area_id creation_date  \\\n",
       "0  <p><strong>Обязанности:</strong></p> <p>—взаим...        2    2019-06-14   \n",
       "1  <p><strong>В связи с расширением Компании нам ...        1    2019-08-30   \n",
       "2  <strong>Обязанности:</strong> <ul> <li>консуль...        3    2019-06-17   \n",
       "3  <p>Мы - команда <strong>Saving products.</stro...        1    2019-09-25   \n",
       "4  <p>В небольшую дружную команду требуется опытн...        1    2019-09-03   \n",
       "\n",
       "  work_schedule work_experience  compensation_from  compensation_to currency  \\\n",
       "0       fullDay    between3And6                NaN              NaN      NaN   \n",
       "1       fullDay    between1And3            35000.0          45000.0      RUR   \n",
       "2       fullDay    between1And3            25000.0          32000.0      RUR   \n",
       "3       fullDay    between1And3                NaN              NaN      NaN   \n",
       "4       fullDay    between3And6            70000.0          80000.0      RUR   \n",
       "\n",
       "                                          key_skills      employer  \\\n",
       "0                                                 []  72dc8d78bbec   \n",
       "1  [MS Office, Пользователь ПК, Деловое общение, ...  ba6dcbd0bcd1   \n",
       "2  [Грамотная речь, Коммуникабельность, Активные ...  ddc67b017661   \n",
       "3                                                 []  a621c7f876ec   \n",
       "4                                                 []  845fe6266ab1   \n",
       "\n",
       "   specializations  is_test part employment  spec_len groups_of_spec  \\\n",
       "0             None     True   10       full       NaN           None   \n",
       "1             None     True   10       full       NaN           None   \n",
       "2             None     True   10       full       NaN           None   \n",
       "3             None     True   10       full       NaN           None   \n",
       "4  [137, 221, 296]    False   10       full       3.0            [1]   \n",
       "\n",
       "   len_groups                                          html_tags  \n",
       "0         NaN  [p, strong, /strong, /p, p, /p, p, /p, p, /p, ...  \n",
       "1         NaN  [p, strong, /strong, br /, strong, br /, /stro...  \n",
       "2         NaN  [strong, /strong, ul, li, /li, li, /li, li, /l...  \n",
       "3         NaN  [p, strong, /strong, br /, br /, br /, br /, e...  \n",
       "4         1.0  [p, /p, p, /p, p, /p, p, /p, p, /p, p, /p, ul,...  "
      ]
     },
     "execution_count": 7,
     "metadata": {},
     "output_type": "execute_result"
    }
   ],
   "source": [
    "df_train.head()"
   ]
  },
  {
   "cell_type": "code",
   "execution_count": 7,
   "metadata": {},
   "outputs": [],
   "source": [
    "# df_train = df[df.is_test == False].copy()\n",
    "# del df"
   ]
  },
  {
   "cell_type": "code",
   "execution_count": 8,
   "metadata": {},
   "outputs": [],
   "source": [
    "#df_train.to_parquet(\"df_tarin.pq\")"
   ]
  },
  {
   "cell_type": "code",
   "execution_count": null,
   "metadata": {},
   "outputs": [],
   "source": [
    "# if __name__ ==  '__main__': \n",
    "#     df['html_tags'] = parallelize_on_rows(df.description, extract_html) "
   ]
  },
  {
   "cell_type": "code",
   "execution_count": 10,
   "metadata": {},
   "outputs": [
    {
     "name": "stdout",
     "output_type": "stream",
     "text": [
      "CPU times: user 36.5 s, sys: 16.8 s, total: 53.2 s\n",
      "Wall time: 1min 12s\n"
     ]
    }
   ],
   "source": [
    "# %%time\n",
    "# df_train= pd.read_parquet(\"df_tarin.pq\")"
   ]
  },
  {
   "cell_type": "code",
   "execution_count": 8,
   "metadata": {
    "scrolled": true
   },
   "outputs": [
    {
     "data": {
      "text/plain": [
       "Index(['vacancy_id', 'name', 'description', 'area_id', 'creation_date',\n",
       "       'work_schedule', 'work_experience', 'compensation_from',\n",
       "       'compensation_to', 'currency', 'key_skills', 'employer',\n",
       "       'specializations', 'is_test', 'part', 'employment', 'spec_len',\n",
       "       'groups_of_spec', 'len_groups', 'html_tags'],\n",
       "      dtype='object')"
      ]
     },
     "execution_count": 8,
     "metadata": {},
     "output_type": "execute_result"
    }
   ],
   "source": [
    "df_train.columns"
   ]
  },
  {
   "cell_type": "code",
   "execution_count": 9,
   "metadata": {},
   "outputs": [
    {
     "name": "stdout",
     "output_type": "stream",
     "text": [
      "CPU times: user 32.3 s, sys: 35.1 s, total: 1min 7s\n",
      "Wall time: 2min 7s\n"
     ]
    }
   ],
   "source": [
    "%%time\n",
    "if __name__ ==  '__main__':\n",
    "    df_train['clear_text'] = parallelize_on_rows(df_train.description, remove_html) "
   ]
  },
  {
   "cell_type": "code",
   "execution_count": null,
   "metadata": {},
   "outputs": [],
   "source": [
    "%%time\n",
    "if __name__ ==  '__main__': \n",
    "    df_train['processed_text'] = parallelize_on_rows(df_train.clear_text, preprocess_text) "
   ]
  },
  {
   "cell_type": "code",
   "execution_count": null,
   "metadata": {},
   "outputs": [],
   "source": [
    "qq('Precessing text done')"
   ]
  },
  {
   "cell_type": "code",
   "execution_count": null,
   "metadata": {},
   "outputs": [],
   "source": [
    "#test\n",
    "df_train[df_train.vacancy_id == 2264555]['processed_text'].values"
   ]
  },
  {
   "cell_type": "code",
   "execution_count": 27,
   "metadata": {},
   "outputs": [
    {
     "name": "stdout",
     "output_type": "stream",
     "text": [
      "CPU times: user 47.3 s, sys: 20.9 s, total: 1min 8s\n",
      "Wall time: 2min 6s\n"
     ]
    }
   ],
   "source": [
    "%%time\n",
    "df_train.to_parquet(\"df_tarin.pq\")"
   ]
  },
  {
   "cell_type": "code",
   "execution_count": null,
   "metadata": {},
   "outputs": [],
   "source": [
    "df_text = df_train[['vacancy_id', 'name', 'specializations', 'key_skills', 'employer', 'groups_of_spec', 'processed_text']].copy()"
   ]
  },
  {
   "cell_type": "code",
   "execution_count": null,
   "metadata": {},
   "outputs": [],
   "source": [
    "del df_train"
   ]
  },
  {
   "cell_type": "code",
   "execution_count": 7,
   "metadata": {},
   "outputs": [],
   "source": [
    "#df_text = pd.read_parquet(\"df_text.pq\")"
   ]
  },
  {
   "cell_type": "code",
   "execution_count": null,
   "metadata": {},
   "outputs": [],
   "source": [
    "df_text.head()"
   ]
  },
  {
   "cell_type": "code",
   "execution_count": null,
   "metadata": {},
   "outputs": [],
   "source": [
    "%%time\n",
    "if __name__ ==  '__main__':\n",
    "    df_text['name'] = parallelize_on_rows(df_text.name, preprocess_text)"
   ]
  },
  {
   "cell_type": "code",
   "execution_count": null,
   "metadata": {},
   "outputs": [],
   "source": [
    "df_text['key_skills'] = df_text['key_skills'].apply(' '.join)"
   ]
  },
  {
   "cell_type": "code",
   "execution_count": null,
   "metadata": {},
   "outputs": [],
   "source": [
    "%%time\n",
    "if __name__ ==  '__main__':\n",
    "    df_text['key_skills'] = parallelize_on_rows(df_text.key_skills, preprocess_text)"
   ]
  },
  {
   "cell_type": "code",
   "execution_count": 33,
   "metadata": {},
   "outputs": [],
   "source": [
    "#from collections import Counter"
   ]
  },
  {
   "cell_type": "code",
   "execution_count": 79,
   "metadata": {},
   "outputs": [],
   "source": [
    "#df_text.drop(columns=['text_list'], inplace = True)"
   ]
  },
  {
   "cell_type": "code",
   "execution_count": null,
   "metadata": {},
   "outputs": [],
   "source": [
    "%%time\n",
    "df_text['key_list'] = df_text['key_skills'].apply(lambda x: x.split(' '))\n",
    "df_text['name_list'] = df_text['name'].apply(lambda x: x.split(' '))\n",
    "# df_text['text_list'] = df_text['processed_text'].apply(lambda x: x.split(' '))"
   ]
  },
  {
   "cell_type": "code",
   "execution_count": null,
   "metadata": {},
   "outputs": [],
   "source": [
    "df_text.head()"
   ]
  },
  {
   "cell_type": "code",
   "execution_count": null,
   "metadata": {},
   "outputs": [],
   "source": [
    "qq('all processing done')"
   ]
  },
  {
   "cell_type": "code",
   "execution_count": 36,
   "metadata": {},
   "outputs": [
    {
     "name": "stdout",
     "output_type": "stream",
     "text": [
      "CPU times: user 11.7 s, sys: 2.99 s, total: 14.7 s\n",
      "Wall time: 19.8 s\n"
     ]
    }
   ],
   "source": [
    "%%time\n",
    "df_text.to_parquet(\"df_text.pq\")"
   ]
  },
  {
   "cell_type": "code",
   "execution_count": null,
   "metadata": {},
   "outputs": [],
   "source": [
    "%%time\n",
    "df_text['text_list'] = df_text['processed_text'].apply(lambda x: x.split(' '))"
   ]
  },
  {
   "cell_type": "code",
   "execution_count": null,
   "metadata": {},
   "outputs": [],
   "source": [
    "import functools\n",
    "import operator\n",
    "full_text = functools.reduce(operator.iconcat, df_text['text_list'].to_list(), [])"
   ]
  },
  {
   "cell_type": "code",
   "execution_count": null,
   "metadata": {},
   "outputs": [],
   "source": [
    "word_count = Counter(full_text)"
   ]
  },
  {
   "cell_type": "code",
   "execution_count": null,
   "metadata": {},
   "outputs": [],
   "source": [
    "word_count"
   ]
  },
  {
   "cell_type": "code",
   "execution_count": null,
   "metadata": {},
   "outputs": [],
   "source": [
    "len(word_count)"
   ]
  },
  {
   "cell_type": "code",
   "execution_count": null,
   "metadata": {},
   "outputs": [],
   "source": [
    "word_count.most_common(60)"
   ]
  },
  {
   "cell_type": "code",
   "execution_count": null,
   "metadata": {},
   "outputs": [],
   "source": [
    "word_count.most_common()[:-100-1:-1]"
   ]
  },
  {
   "cell_type": "code",
   "execution_count": null,
   "metadata": {},
   "outputs": [],
   "source": [
    "import matplotlib.pyplot as plt"
   ]
  },
  {
   "cell_type": "code",
   "execution_count": null,
   "metadata": {},
   "outputs": [],
   "source": [
    "plt.hist([c for w, c in word_count.items() if c < 15000 and c > 10])"
   ]
  },
  {
   "cell_type": "code",
   "execution_count": null,
   "metadata": {},
   "outputs": [],
   "source": [
    "qq('Ready')"
   ]
  }
 ],
 "metadata": {
  "kernelspec": {
   "display_name": "Python 3",
   "language": "python",
   "name": "python3"
  },
  "language_info": {
   "codemirror_mode": {
    "name": "ipython",
    "version": 3
   },
   "file_extension": ".py",
   "mimetype": "text/x-python",
   "name": "python",
   "nbconvert_exporter": "python",
   "pygments_lexer": "ipython3",
   "version": "3.7.6"
  }
 },
 "nbformat": 4,
 "nbformat_minor": 4
}
