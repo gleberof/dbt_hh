{
 "cells": [
  {
   "cell_type": "code",
   "execution_count": 1,
   "metadata": {},
   "outputs": [],
   "source": [
    "%load_ext autoreload\n",
    "%autoreload 2\n",
    "import telepot\n",
    "bot = telepot.Bot('436447719:AAGq_iK2hE3cPFhmL9Jh53g9HyVkw3SXZbg')\n",
    "def qq(txt):\n",
    "    bot.sendMessage(1114926, txt)"
   ]
  },
  {
   "cell_type": "code",
   "execution_count": 2,
   "metadata": {},
   "outputs": [],
   "source": [
    "qq('start')"
   ]
  },
  {
   "cell_type": "code",
   "execution_count": 65,
   "metadata": {},
   "outputs": [],
   "source": [
    "import json\n",
    "import gzip\n",
    "from itertools import islice\n",
    "from collections import Counter, defaultdict\n",
    "from operator import itemgetter\n",
    "import pyarrow.parquet as pq\n",
    "import pyarrow as pa\n",
    "\n",
    "import pandas as pd\n",
    "from tqdm.notebook import tqdm\n",
    "import dill\n",
    "import os\n",
    "from pqdm.processes import pqdm\n",
    "import re\n",
    "\n",
    "from workers import *\n",
    "    \n",
    "from gensim.test.utils import common_texts\n",
    "from gensim.models.doc2vec import Doc2Vec, TaggedDocument\n",
    "from gensim.models.callbacks import CallbackAny2Vec\n",
    "\n",
    "import random\n",
    "import collections\n",
    "import datetime\n",
    "from sklearn.preprocessing import LabelEncoder\n",
    "import xgboost as xgb\n",
    "from sklearn.metrics import mean_squared_error"
   ]
  },
  {
   "cell_type": "code",
   "execution_count": 37,
   "metadata": {},
   "outputs": [],
   "source": [
    "df = pd.read_parquet('df_tarin.pq')"
   ]
  },
  {
   "cell_type": "code",
   "execution_count": 38,
   "metadata": {},
   "outputs": [
    {
     "data": {
      "text/plain": [
       "Index(['vacancy_id', 'name', 'description', 'area_id', 'creation_date',\n",
       "       'work_schedule', 'work_experience', 'compensation_from',\n",
       "       'compensation_to', 'currency', 'key_skills', 'employer',\n",
       "       'specializations', 'is_test', 'part', 'employment', 'spec_len',\n",
       "       'groups_of_spec', 'len_groups', 'html_tags', 'clear_text',\n",
       "       'processed_text'],\n",
       "      dtype='object')"
      ]
     },
     "execution_count": 38,
     "metadata": {},
     "output_type": "execute_result"
    }
   ],
   "source": [
    "df.columns"
   ]
  },
  {
   "cell_type": "code",
   "execution_count": 39,
   "metadata": {},
   "outputs": [],
   "source": [
    "pd.set_option('display.max_columns', 61)"
   ]
  },
  {
   "cell_type": "code",
   "execution_count": 40,
   "metadata": {},
   "outputs": [
    {
     "data": {
      "text/html": [
       "<div>\n",
       "<style scoped>\n",
       "    .dataframe tbody tr th:only-of-type {\n",
       "        vertical-align: middle;\n",
       "    }\n",
       "\n",
       "    .dataframe tbody tr th {\n",
       "        vertical-align: top;\n",
       "    }\n",
       "\n",
       "    .dataframe thead th {\n",
       "        text-align: right;\n",
       "    }\n",
       "</style>\n",
       "<table border=\"1\" class=\"dataframe\">\n",
       "  <thead>\n",
       "    <tr style=\"text-align: right;\">\n",
       "      <th></th>\n",
       "      <th>vacancy_id</th>\n",
       "      <th>name</th>\n",
       "      <th>description</th>\n",
       "      <th>area_id</th>\n",
       "      <th>creation_date</th>\n",
       "      <th>work_schedule</th>\n",
       "      <th>work_experience</th>\n",
       "      <th>compensation_from</th>\n",
       "      <th>compensation_to</th>\n",
       "      <th>currency</th>\n",
       "      <th>key_skills</th>\n",
       "      <th>employer</th>\n",
       "      <th>specializations</th>\n",
       "      <th>is_test</th>\n",
       "      <th>part</th>\n",
       "      <th>employment</th>\n",
       "      <th>spec_len</th>\n",
       "      <th>groups_of_spec</th>\n",
       "      <th>len_groups</th>\n",
       "      <th>html_tags</th>\n",
       "      <th>clear_text</th>\n",
       "      <th>processed_text</th>\n",
       "    </tr>\n",
       "  </thead>\n",
       "  <tbody>\n",
       "    <tr>\n",
       "      <th>4</th>\n",
       "      <td>2700005</td>\n",
       "      <td>Разработчик Python/django</td>\n",
       "      <td>&lt;p&gt;В небольшую дружную команду требуется опытн...</td>\n",
       "      <td>1</td>\n",
       "      <td>2019-09-03</td>\n",
       "      <td>fullDay</td>\n",
       "      <td>between3And6</td>\n",
       "      <td>70000.0</td>\n",
       "      <td>80000.0</td>\n",
       "      <td>RUR</td>\n",
       "      <td>[]</td>\n",
       "      <td>845fe6266ab1</td>\n",
       "      <td>[137, 221, 296]</td>\n",
       "      <td>False</td>\n",
       "      <td>10</td>\n",
       "      <td>full</td>\n",
       "      <td>3.0</td>\n",
       "      <td>[1]</td>\n",
       "      <td>1.0</td>\n",
       "      <td>[p, /p, p, /p, p, /p, p, /p, p, /p, p, /p, ul,...</td>\n",
       "      <td>В небольшую дружную команду требуется опытный ...</td>\n",
       "      <td>небольшой дружный команда требоваться опытный ...</td>\n",
       "    </tr>\n",
       "    <tr>\n",
       "      <th>5</th>\n",
       "      <td>2700006</td>\n",
       "      <td>Торговый представитель</td>\n",
       "      <td>&lt;p&gt;Обязанности: В компанию дистрибьютор продук...</td>\n",
       "      <td>53</td>\n",
       "      <td>2019-10-01</td>\n",
       "      <td>fullDay</td>\n",
       "      <td>noExperience</td>\n",
       "      <td>30000.0</td>\n",
       "      <td>60000.0</td>\n",
       "      <td>RUR</td>\n",
       "      <td>[работа с текущей базой клиентов, Мерчендайзин...</td>\n",
       "      <td>23ead4a8f164</td>\n",
       "      <td>[149, 242]</td>\n",
       "      <td>False</td>\n",
       "      <td>10</td>\n",
       "      <td>full</td>\n",
       "      <td>2.0</td>\n",
       "      <td>[17]</td>\n",
       "      <td>1.0</td>\n",
       "      <td>[p, /p, p, /p, p, /p, p, /p, p, /p, p, /p, p, ...</td>\n",
       "      <td>Обязанности: В компанию дистрибьютор продуктов...</td>\n",
       "      <td>обязанность компания дистрибьютор продукт пита...</td>\n",
       "    </tr>\n",
       "  </tbody>\n",
       "</table>\n",
       "</div>"
      ],
      "text/plain": [
       "   vacancy_id                       name  \\\n",
       "4     2700005  Разработчик Python/django   \n",
       "5     2700006     Торговый представитель   \n",
       "\n",
       "                                         description  area_id creation_date  \\\n",
       "4  <p>В небольшую дружную команду требуется опытн...        1    2019-09-03   \n",
       "5  <p>Обязанности: В компанию дистрибьютор продук...       53    2019-10-01   \n",
       "\n",
       "  work_schedule work_experience  compensation_from  compensation_to currency  \\\n",
       "4       fullDay    between3And6            70000.0          80000.0      RUR   \n",
       "5       fullDay    noExperience            30000.0          60000.0      RUR   \n",
       "\n",
       "                                          key_skills      employer  \\\n",
       "4                                                 []  845fe6266ab1   \n",
       "5  [работа с текущей базой клиентов, Мерчендайзин...  23ead4a8f164   \n",
       "\n",
       "   specializations  is_test  part employment  spec_len groups_of_spec  \\\n",
       "4  [137, 221, 296]    False    10       full       3.0            [1]   \n",
       "5       [149, 242]    False    10       full       2.0           [17]   \n",
       "\n",
       "   len_groups                                          html_tags  \\\n",
       "4         1.0  [p, /p, p, /p, p, /p, p, /p, p, /p, p, /p, ul,...   \n",
       "5         1.0  [p, /p, p, /p, p, /p, p, /p, p, /p, p, /p, p, ...   \n",
       "\n",
       "                                          clear_text  \\\n",
       "4  В небольшую дружную команду требуется опытный ...   \n",
       "5  Обязанности: В компанию дистрибьютор продуктов...   \n",
       "\n",
       "                                      processed_text  \n",
       "4  небольшой дружный команда требоваться опытный ...  \n",
       "5  обязанность компания дистрибьютор продукт пита...  "
      ]
     },
     "execution_count": 40,
     "metadata": {},
     "output_type": "execute_result"
    }
   ],
   "source": [
    "df.head(2)"
   ]
  },
  {
   "cell_type": "code",
   "execution_count": 41,
   "metadata": {},
   "outputs": [],
   "source": [
    "def diff_month(d1, d2):\n",
    "    return (d1.year - d2.year) * 12 + d1.month - d2.month\n",
    "\n",
    "d1 = datetime.date.today()"
   ]
  },
  {
   "cell_type": "code",
   "execution_count": 42,
   "metadata": {},
   "outputs": [],
   "source": [
    "df['len_text'] = df['description'].str.len()\n",
    "df['len_name'] = df['name'].str.len()"
   ]
  },
  {
   "cell_type": "code",
   "execution_count": 43,
   "metadata": {},
   "outputs": [
    {
     "data": {
      "text/html": [
       "<div>\n",
       "<style scoped>\n",
       "    .dataframe tbody tr th:only-of-type {\n",
       "        vertical-align: middle;\n",
       "    }\n",
       "\n",
       "    .dataframe tbody tr th {\n",
       "        vertical-align: top;\n",
       "    }\n",
       "\n",
       "    .dataframe thead th {\n",
       "        text-align: right;\n",
       "    }\n",
       "</style>\n",
       "<table border=\"1\" class=\"dataframe\">\n",
       "  <thead>\n",
       "    <tr style=\"text-align: right;\">\n",
       "      <th></th>\n",
       "      <th>vacancy_id</th>\n",
       "      <th>name</th>\n",
       "      <th>description</th>\n",
       "      <th>area_id</th>\n",
       "      <th>creation_date</th>\n",
       "      <th>work_schedule</th>\n",
       "      <th>work_experience</th>\n",
       "      <th>compensation_from</th>\n",
       "      <th>compensation_to</th>\n",
       "      <th>currency</th>\n",
       "      <th>key_skills</th>\n",
       "      <th>employer</th>\n",
       "      <th>specializations</th>\n",
       "      <th>is_test</th>\n",
       "      <th>part</th>\n",
       "      <th>employment</th>\n",
       "      <th>spec_len</th>\n",
       "      <th>groups_of_spec</th>\n",
       "      <th>len_groups</th>\n",
       "      <th>html_tags</th>\n",
       "      <th>clear_text</th>\n",
       "      <th>processed_text</th>\n",
       "      <th>len_text</th>\n",
       "      <th>len_name</th>\n",
       "    </tr>\n",
       "  </thead>\n",
       "  <tbody>\n",
       "    <tr>\n",
       "      <th>4</th>\n",
       "      <td>2700005</td>\n",
       "      <td>Разработчик Python/django</td>\n",
       "      <td>&lt;p&gt;В небольшую дружную команду требуется опытн...</td>\n",
       "      <td>1</td>\n",
       "      <td>2019-09-03</td>\n",
       "      <td>fullDay</td>\n",
       "      <td>between3And6</td>\n",
       "      <td>70000.0</td>\n",
       "      <td>80000.0</td>\n",
       "      <td>RUR</td>\n",
       "      <td>[]</td>\n",
       "      <td>845fe6266ab1</td>\n",
       "      <td>[137, 221, 296]</td>\n",
       "      <td>False</td>\n",
       "      <td>10</td>\n",
       "      <td>full</td>\n",
       "      <td>3.0</td>\n",
       "      <td>[1]</td>\n",
       "      <td>1.0</td>\n",
       "      <td>[p, /p, p, /p, p, /p, p, /p, p, /p, p, /p, ul,...</td>\n",
       "      <td>В небольшую дружную команду требуется опытный ...</td>\n",
       "      <td>небольшой дружный команда требоваться опытный ...</td>\n",
       "      <td>1105</td>\n",
       "      <td>25</td>\n",
       "    </tr>\n",
       "    <tr>\n",
       "      <th>5</th>\n",
       "      <td>2700006</td>\n",
       "      <td>Торговый представитель</td>\n",
       "      <td>&lt;p&gt;Обязанности: В компанию дистрибьютор продук...</td>\n",
       "      <td>53</td>\n",
       "      <td>2019-10-01</td>\n",
       "      <td>fullDay</td>\n",
       "      <td>noExperience</td>\n",
       "      <td>30000.0</td>\n",
       "      <td>60000.0</td>\n",
       "      <td>RUR</td>\n",
       "      <td>[работа с текущей базой клиентов, Мерчендайзин...</td>\n",
       "      <td>23ead4a8f164</td>\n",
       "      <td>[149, 242]</td>\n",
       "      <td>False</td>\n",
       "      <td>10</td>\n",
       "      <td>full</td>\n",
       "      <td>2.0</td>\n",
       "      <td>[17]</td>\n",
       "      <td>1.0</td>\n",
       "      <td>[p, /p, p, /p, p, /p, p, /p, p, /p, p, /p, p, ...</td>\n",
       "      <td>Обязанности: В компанию дистрибьютор продуктов...</td>\n",
       "      <td>обязанность компания дистрибьютор продукт пита...</td>\n",
       "      <td>583</td>\n",
       "      <td>22</td>\n",
       "    </tr>\n",
       "  </tbody>\n",
       "</table>\n",
       "</div>"
      ],
      "text/plain": [
       "   vacancy_id                       name  \\\n",
       "4     2700005  Разработчик Python/django   \n",
       "5     2700006     Торговый представитель   \n",
       "\n",
       "                                         description  area_id creation_date  \\\n",
       "4  <p>В небольшую дружную команду требуется опытн...        1    2019-09-03   \n",
       "5  <p>Обязанности: В компанию дистрибьютор продук...       53    2019-10-01   \n",
       "\n",
       "  work_schedule work_experience  compensation_from  compensation_to currency  \\\n",
       "4       fullDay    between3And6            70000.0          80000.0      RUR   \n",
       "5       fullDay    noExperience            30000.0          60000.0      RUR   \n",
       "\n",
       "                                          key_skills      employer  \\\n",
       "4                                                 []  845fe6266ab1   \n",
       "5  [работа с текущей базой клиентов, Мерчендайзин...  23ead4a8f164   \n",
       "\n",
       "   specializations  is_test  part employment  spec_len groups_of_spec  \\\n",
       "4  [137, 221, 296]    False    10       full       3.0            [1]   \n",
       "5       [149, 242]    False    10       full       2.0           [17]   \n",
       "\n",
       "   len_groups                                          html_tags  \\\n",
       "4         1.0  [p, /p, p, /p, p, /p, p, /p, p, /p, p, /p, ul,...   \n",
       "5         1.0  [p, /p, p, /p, p, /p, p, /p, p, /p, p, /p, p, ...   \n",
       "\n",
       "                                          clear_text  \\\n",
       "4  В небольшую дружную команду требуется опытный ...   \n",
       "5  Обязанности: В компанию дистрибьютор продуктов...   \n",
       "\n",
       "                                      processed_text  len_text  len_name  \n",
       "4  небольшой дружный команда требоваться опытный ...      1105        25  \n",
       "5  обязанность компания дистрибьютор продукт пита...       583        22  "
      ]
     },
     "execution_count": 43,
     "metadata": {},
     "output_type": "execute_result"
    }
   ],
   "source": [
    "df.head(2)"
   ]
  },
  {
   "cell_type": "code",
   "execution_count": 44,
   "metadata": {},
   "outputs": [],
   "source": [
    "df['num_words'] = df['processed_text'].apply(lambda x: len(x.split(' ')))\n",
    "df['age'] = df['creation_date'].apply(lambda x: diff_month(d1,x))\n",
    "df['len_ks'] = df['key_skills'].apply(len)\n",
    "df['len_html'] = df['html_tags'].apply(len)"
   ]
  },
  {
   "cell_type": "code",
   "execution_count": 45,
   "metadata": {},
   "outputs": [],
   "source": [
    "drop_cols = ['name', 'description', 'creation_date', 'key_skills', 'specializations', \n",
    "             'is_test', 'part', 'groups_of_spec', 'len_groups', 'html_tags', 'clear_text', 'processed_text']\n",
    "cat_cols = ['work_schedule', 'work_experience', 'currency', 'employer', 'employment']"
   ]
  },
  {
   "cell_type": "code",
   "execution_count": 46,
   "metadata": {},
   "outputs": [],
   "source": [
    "df.drop(columns=drop_cols, inplace = True)"
   ]
  },
  {
   "cell_type": "code",
   "execution_count": 47,
   "metadata": {},
   "outputs": [
    {
     "data": {
      "text/plain": [
       "Index(['vacancy_id', 'area_id', 'work_schedule', 'work_experience',\n",
       "       'compensation_from', 'compensation_to', 'currency', 'employer',\n",
       "       'employment', 'spec_len', 'len_text', 'len_name', 'num_words', 'age',\n",
       "       'len_ks', 'len_html'],\n",
       "      dtype='object')"
      ]
     },
     "execution_count": 47,
     "metadata": {},
     "output_type": "execute_result"
    }
   ],
   "source": [
    "df.columns"
   ]
  },
  {
   "cell_type": "code",
   "execution_count": 48,
   "metadata": {},
   "outputs": [
    {
     "data": {
      "text/html": [
       "<div>\n",
       "<style scoped>\n",
       "    .dataframe tbody tr th:only-of-type {\n",
       "        vertical-align: middle;\n",
       "    }\n",
       "\n",
       "    .dataframe tbody tr th {\n",
       "        vertical-align: top;\n",
       "    }\n",
       "\n",
       "    .dataframe thead th {\n",
       "        text-align: right;\n",
       "    }\n",
       "</style>\n",
       "<table border=\"1\" class=\"dataframe\">\n",
       "  <thead>\n",
       "    <tr style=\"text-align: right;\">\n",
       "      <th></th>\n",
       "      <th>vacancy_id</th>\n",
       "      <th>area_id</th>\n",
       "      <th>work_schedule</th>\n",
       "      <th>work_experience</th>\n",
       "      <th>compensation_from</th>\n",
       "      <th>compensation_to</th>\n",
       "      <th>currency</th>\n",
       "      <th>employer</th>\n",
       "      <th>employment</th>\n",
       "      <th>spec_len</th>\n",
       "      <th>len_text</th>\n",
       "      <th>len_name</th>\n",
       "      <th>num_words</th>\n",
       "      <th>age</th>\n",
       "      <th>len_ks</th>\n",
       "      <th>len_html</th>\n",
       "    </tr>\n",
       "  </thead>\n",
       "  <tbody>\n",
       "    <tr>\n",
       "      <th>4</th>\n",
       "      <td>2700005</td>\n",
       "      <td>1</td>\n",
       "      <td>fullDay</td>\n",
       "      <td>between3And6</td>\n",
       "      <td>70000.0</td>\n",
       "      <td>80000.0</td>\n",
       "      <td>RUR</td>\n",
       "      <td>845fe6266ab1</td>\n",
       "      <td>full</td>\n",
       "      <td>3.0</td>\n",
       "      <td>1105</td>\n",
       "      <td>25</td>\n",
       "      <td>90</td>\n",
       "      <td>10</td>\n",
       "      <td>0</td>\n",
       "      <td>50</td>\n",
       "    </tr>\n",
       "    <tr>\n",
       "      <th>5</th>\n",
       "      <td>2700006</td>\n",
       "      <td>53</td>\n",
       "      <td>fullDay</td>\n",
       "      <td>noExperience</td>\n",
       "      <td>30000.0</td>\n",
       "      <td>60000.0</td>\n",
       "      <td>RUR</td>\n",
       "      <td>23ead4a8f164</td>\n",
       "      <td>full</td>\n",
       "      <td>2.0</td>\n",
       "      <td>583</td>\n",
       "      <td>22</td>\n",
       "      <td>47</td>\n",
       "      <td>9</td>\n",
       "      <td>5</td>\n",
       "      <td>18</td>\n",
       "    </tr>\n",
       "  </tbody>\n",
       "</table>\n",
       "</div>"
      ],
      "text/plain": [
       "   vacancy_id  area_id work_schedule work_experience  compensation_from  \\\n",
       "4     2700005        1       fullDay    between3And6            70000.0   \n",
       "5     2700006       53       fullDay    noExperience            30000.0   \n",
       "\n",
       "   compensation_to currency      employer employment  spec_len  len_text  \\\n",
       "4          80000.0      RUR  845fe6266ab1       full       3.0      1105   \n",
       "5          60000.0      RUR  23ead4a8f164       full       2.0       583   \n",
       "\n",
       "   len_name  num_words  age  len_ks  len_html  \n",
       "4        25         90   10       0        50  \n",
       "5        22         47    9       5        18  "
      ]
     },
     "execution_count": 48,
     "metadata": {},
     "output_type": "execute_result"
    }
   ],
   "source": [
    "df.head(2)"
   ]
  },
  {
   "cell_type": "code",
   "execution_count": 51,
   "metadata": {},
   "outputs": [],
   "source": [
    "for col in cat_cols:\n",
    "    le = LabelEncoder()\n",
    "    df[col] = le.fit_transform(df[col].to_list())"
   ]
  },
  {
   "cell_type": "code",
   "execution_count": 85,
   "metadata": {},
   "outputs": [
    {
     "data": {
      "text/html": [
       "<div>\n",
       "<style scoped>\n",
       "    .dataframe tbody tr th:only-of-type {\n",
       "        vertical-align: middle;\n",
       "    }\n",
       "\n",
       "    .dataframe tbody tr th {\n",
       "        vertical-align: top;\n",
       "    }\n",
       "\n",
       "    .dataframe thead th {\n",
       "        text-align: right;\n",
       "    }\n",
       "</style>\n",
       "<table border=\"1\" class=\"dataframe\">\n",
       "  <thead>\n",
       "    <tr style=\"text-align: right;\">\n",
       "      <th></th>\n",
       "      <th>vacancy_id</th>\n",
       "      <th>area_id</th>\n",
       "      <th>work_schedule</th>\n",
       "      <th>work_experience</th>\n",
       "      <th>compensation_from</th>\n",
       "      <th>compensation_to</th>\n",
       "      <th>currency</th>\n",
       "      <th>employer</th>\n",
       "      <th>employment</th>\n",
       "      <th>spec_len</th>\n",
       "      <th>len_text</th>\n",
       "      <th>len_name</th>\n",
       "      <th>num_words</th>\n",
       "      <th>age</th>\n",
       "      <th>len_ks</th>\n",
       "      <th>len_html</th>\n",
       "    </tr>\n",
       "  </thead>\n",
       "  <tbody>\n",
       "    <tr>\n",
       "      <th>4</th>\n",
       "      <td>2700005</td>\n",
       "      <td>1</td>\n",
       "      <td>2</td>\n",
       "      <td>1</td>\n",
       "      <td>70000.0</td>\n",
       "      <td>80000.0</td>\n",
       "      <td>6</td>\n",
       "      <td>132398</td>\n",
       "      <td>0</td>\n",
       "      <td>3</td>\n",
       "      <td>1105</td>\n",
       "      <td>25</td>\n",
       "      <td>90</td>\n",
       "      <td>10</td>\n",
       "      <td>0</td>\n",
       "      <td>50</td>\n",
       "    </tr>\n",
       "    <tr>\n",
       "      <th>5</th>\n",
       "      <td>2700006</td>\n",
       "      <td>53</td>\n",
       "      <td>2</td>\n",
       "      <td>3</td>\n",
       "      <td>30000.0</td>\n",
       "      <td>60000.0</td>\n",
       "      <td>6</td>\n",
       "      <td>35980</td>\n",
       "      <td>0</td>\n",
       "      <td>2</td>\n",
       "      <td>583</td>\n",
       "      <td>22</td>\n",
       "      <td>47</td>\n",
       "      <td>9</td>\n",
       "      <td>5</td>\n",
       "      <td>18</td>\n",
       "    </tr>\n",
       "  </tbody>\n",
       "</table>\n",
       "</div>"
      ],
      "text/plain": [
       "   vacancy_id  area_id  work_schedule  work_experience  compensation_from  \\\n",
       "4     2700005        1              2                1            70000.0   \n",
       "5     2700006       53              2                3            30000.0   \n",
       "\n",
       "   compensation_to  currency  employer  employment  spec_len  len_text  \\\n",
       "4          80000.0         6    132398           0         3      1105   \n",
       "5          60000.0         6     35980           0         2       583   \n",
       "\n",
       "   len_name  num_words  age  len_ks  len_html  \n",
       "4        25         90   10       0        50  \n",
       "5        22         47    9       5        18  "
      ]
     },
     "execution_count": 85,
     "metadata": {},
     "output_type": "execute_result"
    }
   ],
   "source": [
    "df.head(2)"
   ]
  },
  {
   "cell_type": "code",
   "execution_count": 116,
   "metadata": {},
   "outputs": [],
   "source": [
    "model = xgb.XGBRegressor(n_estimators=200, max_depth = 10, objective ='reg:squarederror', learning_rate = 0.1, alpha=10, n_jobs=10)"
   ]
  },
  {
   "cell_type": "code",
   "execution_count": 84,
   "metadata": {},
   "outputs": [],
   "source": [
    "df['spec_len'] = df['spec_len'].astype(int)"
   ]
  },
  {
   "cell_type": "code",
   "execution_count": 100,
   "metadata": {},
   "outputs": [],
   "source": [
    "validation = dill.load(open('validatin.bin', 'rb'))"
   ]
  },
  {
   "cell_type": "code",
   "execution_count": 102,
   "metadata": {},
   "outputs": [],
   "source": [
    "validation = set(validation)"
   ]
  },
  {
   "cell_type": "code",
   "execution_count": 103,
   "metadata": {},
   "outputs": [],
   "source": [
    "df['is_vailidation'] = df['vacancy_id'].apply(lambda x: x in validation)"
   ]
  },
  {
   "cell_type": "code",
   "execution_count": 109,
   "metadata": {},
   "outputs": [],
   "source": [
    "df_train = df[~df['is_vailidation']]\n",
    "df_val = df[df['is_vailidation']]"
   ]
  },
  {
   "cell_type": "code",
   "execution_count": 110,
   "metadata": {},
   "outputs": [
    {
     "name": "stdout",
     "output_type": "stream",
     "text": [
      "(1172160, 17) (284165, 17)\n"
     ]
    }
   ],
   "source": [
    "print(df_train.shape, df_val.shape)"
   ]
  },
  {
   "cell_type": "code",
   "execution_count": 117,
   "metadata": {},
   "outputs": [
    {
     "data": {
      "text/plain": [
       "XGBRegressor(alpha=10, base_score=0.5, booster=None, colsample_bylevel=1,\n",
       "             colsample_bynode=1, colsample_bytree=1, gamma=0, gpu_id=-1,\n",
       "             importance_type='gain', interaction_constraints=None,\n",
       "             learning_rate=0.1, max_delta_step=0, max_depth=10,\n",
       "             min_child_weight=1, missing=nan, monotone_constraints=None,\n",
       "             n_estimators=200, n_jobs=10, num_parallel_tree=1,\n",
       "             objective='reg:squarederror', random_state=0, reg_alpha=10,\n",
       "             reg_lambda=1, scale_pos_weight=1, subsample=1, tree_method=None,\n",
       "             validate_parameters=False, verbosity=None)"
      ]
     },
     "execution_count": 117,
     "metadata": {},
     "output_type": "execute_result"
    }
   ],
   "source": [
    "model.fit(df_train.drop(columns=['vacancy_id', 'spec_len', 'is_vailidation']), df_train['spec_len'])"
   ]
  },
  {
   "cell_type": "code",
   "execution_count": 118,
   "metadata": {},
   "outputs": [],
   "source": [
    "y_pred = model.predict(df_val.drop(columns=['vacancy_id', 'spec_len', 'is_vailidation']))"
   ]
  },
  {
   "cell_type": "code",
   "execution_count": 119,
   "metadata": {},
   "outputs": [
    {
     "name": "stdout",
     "output_type": "stream",
     "text": [
      "2.7812679253250754\n"
     ]
    }
   ],
   "source": [
    "res = mean_squared_error(df_val['spec_len'], np.round(y_pred, 0))\n",
    "qq(res)\n",
    "print(res)"
   ]
  },
  {
   "cell_type": "code",
   "execution_count": 120,
   "metadata": {},
   "outputs": [
    {
     "name": "stdout",
     "output_type": "stream",
     "text": [
      "2.5922169328419327\n"
     ]
    }
   ],
   "source": [
    "y_pred = model.predict(df_train.drop(columns=['vacancy_id', 'spec_len', 'is_vailidation']))\n",
    "res = mean_squared_error(df_train['spec_len'], np.round(y_pred, 0))\n",
    "qq(res)\n",
    "print(res)"
   ]
  },
  {
   "cell_type": "code",
   "execution_count": 121,
   "metadata": {},
   "outputs": [],
   "source": [
    "model2 = xgb.XGBClassifier(n_estimators=200, max_depth = 10, objective ='multi:softmax', learning_rate = 0.1, alpha=10, n_jobs=10)"
   ]
  },
  {
   "cell_type": "code",
   "execution_count": 122,
   "metadata": {},
   "outputs": [
    {
     "data": {
      "text/plain": [
       "XGBClassifier(alpha=10, base_score=0.5, booster=None, colsample_bylevel=1,\n",
       "              colsample_bynode=1, colsample_bytree=1, gamma=0, gpu_id=-1,\n",
       "              importance_type='gain', interaction_constraints=None,\n",
       "              learning_rate=0.1, max_delta_step=0, max_depth=10,\n",
       "              min_child_weight=1, missing=nan, monotone_constraints=None,\n",
       "              n_estimators=200, n_jobs=10, num_parallel_tree=1,\n",
       "              objective='multi:softprob', random_state=0, reg_alpha=10,\n",
       "              reg_lambda=1, scale_pos_weight=None, subsample=1,\n",
       "              tree_method=None, validate_parameters=False, verbosity=None)"
      ]
     },
     "execution_count": 122,
     "metadata": {},
     "output_type": "execute_result"
    }
   ],
   "source": [
    "model2.fit(df.drop(columns=['vacancy_id', 'spec_len']), df['spec_len'])"
   ]
  },
  {
   "cell_type": "code",
   "execution_count": 123,
   "metadata": {},
   "outputs": [],
   "source": [
    "y_pred2 = model2.predict(df.drop(columns=['vacancy_id', 'spec_len']))"
   ]
  },
  {
   "cell_type": "code",
   "execution_count": 124,
   "metadata": {},
   "outputs": [
    {
     "data": {
      "text/plain": [
       "5.210587609221843"
      ]
     },
     "execution_count": 124,
     "metadata": {},
     "output_type": "execute_result"
    }
   ],
   "source": [
    "mean_squared_error(df['spec_len'], y_pred2)"
   ]
  }
 ],
 "metadata": {
  "kernelspec": {
   "display_name": "Python 3",
   "language": "python",
   "name": "python3"
  },
  "language_info": {
   "codemirror_mode": {
    "name": "ipython",
    "version": 3
   },
   "file_extension": ".py",
   "mimetype": "text/x-python",
   "name": "python",
   "nbconvert_exporter": "python",
   "pygments_lexer": "ipython3",
   "version": "3.7.6"
  }
 },
 "nbformat": 4,
 "nbformat_minor": 4
}
