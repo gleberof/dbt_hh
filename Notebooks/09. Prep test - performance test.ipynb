{
 "cells": [
  {
   "cell_type": "code",
   "execution_count": 1,
   "metadata": {},
   "outputs": [],
   "source": [
    "%load_ext autoreload\n",
    "%autoreload 2\n",
    "import telepot\n",
    "bot = telepot.Bot('436447719:AAGq_iK2hE3cPFhmL9Jh53g9HyVkw3SXZbg')\n",
    "def qq(txt):\n",
    "    bot.sendMessage(1114926, txt)"
   ]
  },
  {
   "cell_type": "code",
   "execution_count": 2,
   "metadata": {},
   "outputs": [
    {
     "ename": "ModuleNotFoundError",
     "evalue": "No module named 'faiss'",
     "output_type": "error",
     "traceback": [
      "\u001b[0;31m---------------------------------------------------------------------------\u001b[0m",
      "\u001b[0;31mModuleNotFoundError\u001b[0m                       Traceback (most recent call last)",
      "\u001b[0;32m<ipython-input-2-9e6a9f0b5bbf>\u001b[0m in \u001b[0;36m<module>\u001b[0;34m\u001b[0m\n\u001b[0;32m----> 1\u001b[0;31m \u001b[0;32mimport\u001b[0m \u001b[0mfaiss\u001b[0m\u001b[0;34m\u001b[0m\u001b[0;34m\u001b[0m\u001b[0m\n\u001b[0m",
      "\u001b[0;31mModuleNotFoundError\u001b[0m: No module named 'faiss'"
     ]
    }
   ],
   "source": [
    "import faiss"
   ]
  },
  {
   "cell_type": "code",
   "execution_count": 2,
   "metadata": {},
   "outputs": [],
   "source": [
    "qq('start')"
   ]
  },
  {
   "cell_type": "code",
   "execution_count": 2,
   "metadata": {},
   "outputs": [],
   "source": [
    "import json\n",
    "import gzip\n",
    "from itertools import islice\n",
    "from collections import Counter, defaultdict\n",
    "from operator import itemgetter\n",
    "import pyarrow.parquet as pq\n",
    "import pyarrow as pa\n",
    "\n",
    "import pandas as pd\n",
    "from tqdm.notebook import tqdm\n",
    "import dill\n",
    "import os\n",
    "from pqdm.processes import pqdm\n",
    "import re\n",
    "\n",
    "from workers import *\n",
    "    \n",
    "from gensim.test.utils import common_texts\n",
    "from gensim.models.doc2vec import Doc2Vec, TaggedDocument\n",
    "from gensim.models.callbacks import CallbackAny2Vec\n",
    "\n",
    "import random\n",
    "import collections\n",
    "import gc"
   ]
  },
  {
   "cell_type": "code",
   "execution_count": 4,
   "metadata": {},
   "outputs": [],
   "source": [
    "df = pd.read_pickle(\"df.pkl\")"
   ]
  },
  {
   "cell_type": "code",
   "execution_count": 5,
   "metadata": {},
   "outputs": [
    {
     "data": {
      "text/plain": [
       "Index(['vacancy_id', 'name', 'description', 'area_id', 'creation_date',\n",
       "       'work_schedule', 'work_experience', 'compensation_from',\n",
       "       'compensation_to', 'currency', 'key_skills', 'employer',\n",
       "       'specializations', 'is_test', 'part', 'employment', 'spec_len',\n",
       "       'groups_of_spec', 'len_groups', 'html_tags'],\n",
       "      dtype='object')"
      ]
     },
     "execution_count": 5,
     "metadata": {},
     "output_type": "execute_result"
    }
   ],
   "source": [
    "df.columns"
   ]
  },
  {
   "cell_type": "code",
   "execution_count": 6,
   "metadata": {},
   "outputs": [],
   "source": [
    "df_test = df[df.is_test == True].copy()\n",
    "del df"
   ]
  },
  {
   "cell_type": "code",
   "execution_count": 7,
   "metadata": {},
   "outputs": [
    {
     "data": {
      "text/plain": [
       "20"
      ]
     },
     "execution_count": 7,
     "metadata": {},
     "output_type": "execute_result"
    }
   ],
   "source": [
    "gc.collect()"
   ]
  },
  {
   "cell_type": "code",
   "execution_count": 8,
   "metadata": {},
   "outputs": [],
   "source": [
    "df_test['clear_text'] = df_test.description.apply(remove_html)"
   ]
  },
  {
   "cell_type": "code",
   "execution_count": 9,
   "metadata": {},
   "outputs": [],
   "source": [
    "qq('cleared')"
   ]
  },
  {
   "cell_type": "code",
   "execution_count": 15,
   "metadata": {},
   "outputs": [],
   "source": [
    "df_test.to_parquet('df_test.pq')"
   ]
  },
  {
   "cell_type": "code",
   "execution_count": 3,
   "metadata": {},
   "outputs": [],
   "source": [
    "df_test = pd.read_parquet('df_test.pq')"
   ]
  },
  {
   "cell_type": "code",
   "execution_count": 12,
   "metadata": {},
   "outputs": [
    {
     "data": {
      "text/plain": [
       "20"
      ]
     },
     "execution_count": 12,
     "metadata": {},
     "output_type": "execute_result"
    }
   ],
   "source": [
    "gc.collect()"
   ]
  },
  {
   "cell_type": "code",
   "execution_count": 13,
   "metadata": {},
   "outputs": [
    {
     "name": "stdout",
     "output_type": "stream",
     "text": [
      "CPU times: user 10.8 s, sys: 16.3 s, total: 27.1 s\n",
      "Wall time: 17min 3s\n"
     ]
    }
   ],
   "source": [
    "%%time\n",
    "if __name__ ==  '__main__': \n",
    "    df_test['processed_text'] = parallelize_on_rows(df_test.clear_text, preprocess_text) "
   ]
  },
  {
   "cell_type": "code",
   "execution_count": 5,
   "metadata": {},
   "outputs": [],
   "source": [
    "# %%time\n",
    "# df_test['processed_text'] = df_test.clear_text.apply(preprocess_text) "
   ]
  },
  {
   "cell_type": "code",
   "execution_count": 4,
   "metadata": {},
   "outputs": [],
   "source": [
    "qq('processed')"
   ]
  },
  {
   "cell_type": "code",
   "execution_count": 17,
   "metadata": {},
   "outputs": [
    {
     "data": {
      "text/plain": [
       "595"
      ]
     },
     "execution_count": 17,
     "metadata": {},
     "output_type": "execute_result"
    }
   ],
   "source": [
    "df_text = df_test[['vacancy_id', 'name', 'specializations', 'key_skills', 'employer', 'groups_of_spec', 'processed_text']].copy()\n",
    "del df_test\n",
    "gc.collect()"
   ]
  },
  {
   "cell_type": "code",
   "execution_count": 18,
   "metadata": {},
   "outputs": [],
   "source": [
    "df_text['key_skills'] = df_text['key_skills'].apply(' '.join)"
   ]
  },
  {
   "cell_type": "code",
   "execution_count": 22,
   "metadata": {},
   "outputs": [],
   "source": [
    "df_text.to_parquet('test_text.pq')"
   ]
  },
  {
   "cell_type": "code",
   "execution_count": 5,
   "metadata": {},
   "outputs": [],
   "source": [
    "df_text = pd.read_parquet('test_text.pq')"
   ]
  },
  {
   "cell_type": "code",
   "execution_count": 6,
   "metadata": {},
   "outputs": [
    {
     "name": "stdout",
     "output_type": "stream",
     "text": [
      "CPU times: user 1.39 s, sys: 1.98 s, total: 3.37 s\n",
      "Wall time: 34.8 s\n"
     ]
    }
   ],
   "source": [
    "%%time\n",
    "if __name__ ==  '__main__':\n",
    "    df_text['key_skills'] = parallelize_on_rows(df_text.key_skills, preprocess_text)"
   ]
  },
  {
   "cell_type": "code",
   "execution_count": 7,
   "metadata": {},
   "outputs": [
    {
     "name": "stdout",
     "output_type": "stream",
     "text": [
      "CPU times: user 1.47 s, sys: 1.46 s, total: 2.93 s\n",
      "Wall time: 33 s\n"
     ]
    }
   ],
   "source": [
    "%%time\n",
    "if __name__ ==  '__main__':\n",
    "    df_text['name'] = parallelize_on_rows(df_text.name, preprocess_text)"
   ]
  },
  {
   "cell_type": "code",
   "execution_count": 8,
   "metadata": {},
   "outputs": [
    {
     "name": "stdout",
     "output_type": "stream",
     "text": [
      "CPU times: user 4.93 s, sys: 683 ms, total: 5.61 s\n",
      "Wall time: 5.61 s\n"
     ]
    }
   ],
   "source": [
    "%%time\n",
    "df_text['key_list'] = df_text['key_skills'].apply(lambda x: x.split(' '))\n",
    "df_text['name_list'] = df_text['name'].apply(lambda x: x.split(' '))"
   ]
  },
  {
   "cell_type": "code",
   "execution_count": 9,
   "metadata": {},
   "outputs": [],
   "source": [
    "df_text.to_parquet('test_text.pq')"
   ]
  },
  {
   "cell_type": "code",
   "execution_count": 10,
   "metadata": {},
   "outputs": [
    {
     "name": "stdout",
     "output_type": "stream",
     "text": [
      "CPU times: user 17.2 s, sys: 5.74 s, total: 23 s\n",
      "Wall time: 23 s\n"
     ]
    }
   ],
   "source": [
    "%%time\n",
    "df_text['text_list'] = df_text['processed_text'].apply(lambda x: x.split(' '))"
   ]
  },
  {
   "cell_type": "code",
   "execution_count": 16,
   "metadata": {},
   "outputs": [],
   "source": [
    "df_text.drop(columns = ['text_list'], inplace = True)"
   ]
  },
  {
   "cell_type": "code",
   "execution_count": 10,
   "metadata": {},
   "outputs": [],
   "source": [
    "model = Doc2Vec.load('models/vector_size:300_min_count:2_epochs:10_window:7_seed:42_workers:4_negative:50.bin')"
   ]
  },
  {
   "cell_type": "code",
   "execution_count": 12,
   "metadata": {},
   "outputs": [],
   "source": [
    "def inf_vec(txt):\n",
    "    return model.infer_vector(txt.split(' '))"
   ]
  },
  {
   "cell_type": "code",
   "execution_count": 13,
   "metadata": {},
   "outputs": [
    {
     "data": {
      "application/vnd.jupyter.widget-view+json": {
       "model_id": "cf38044250154eca9982da78563abe33",
       "version_major": 2,
       "version_minor": 0
      },
      "text/plain": [
       "HBox(children=(FloatProgress(value=0.0, description='SUBMITTING | ', max=1456325.0, style=ProgressStyle(descri…"
      ]
     },
     "metadata": {},
     "output_type": "display_data"
    },
    {
     "name": "stdout",
     "output_type": "stream",
     "text": [
      "\n"
     ]
    },
    {
     "data": {
      "application/vnd.jupyter.widget-view+json": {
       "model_id": "fb09872764444053991edc6de06361d4",
       "version_major": 2,
       "version_minor": 0
      },
      "text/plain": [
       "HBox(children=(FloatProgress(value=0.0, description='PROCESSING | ', max=1456325.0, style=ProgressStyle(descri…"
      ]
     },
     "metadata": {},
     "output_type": "display_data"
    },
    {
     "name": "stdout",
     "output_type": "stream",
     "text": [
      "\n"
     ]
    },
    {
     "data": {
      "application/vnd.jupyter.widget-view+json": {
       "model_id": "714094a7568f4d16bb0be8e46e2888dc",
       "version_major": 2,
       "version_minor": 0
      },
      "text/plain": [
       "HBox(children=(FloatProgress(value=0.0, description='COLLECTING | ', max=1456325.0, style=ProgressStyle(descri…"
      ]
     },
     "metadata": {},
     "output_type": "display_data"
    },
    {
     "name": "stdout",
     "output_type": "stream",
     "text": [
      "\n"
     ]
    }
   ],
   "source": [
    "df_text['text_vector'] = pqdm(df_text['processed_text'], inf_vec, n_jobs=10)"
   ]
  },
  {
   "cell_type": "code",
   "execution_count": 18,
   "metadata": {},
   "outputs": [
    {
     "data": {
      "text/html": [
       "<div>\n",
       "<style scoped>\n",
       "    .dataframe tbody tr th:only-of-type {\n",
       "        vertical-align: middle;\n",
       "    }\n",
       "\n",
       "    .dataframe tbody tr th {\n",
       "        vertical-align: top;\n",
       "    }\n",
       "\n",
       "    .dataframe thead th {\n",
       "        text-align: right;\n",
       "    }\n",
       "</style>\n",
       "<table border=\"1\" class=\"dataframe\">\n",
       "  <thead>\n",
       "    <tr style=\"text-align: right;\">\n",
       "      <th></th>\n",
       "      <th>vacancy_id</th>\n",
       "      <th>name</th>\n",
       "      <th>specializations</th>\n",
       "      <th>key_skills</th>\n",
       "      <th>employer</th>\n",
       "      <th>groups_of_spec</th>\n",
       "      <th>processed_text</th>\n",
       "      <th>key_list</th>\n",
       "      <th>name_list</th>\n",
       "      <th>text_vector</th>\n",
       "    </tr>\n",
       "  </thead>\n",
       "  <tbody>\n",
       "    <tr>\n",
       "      <th>0</th>\n",
       "      <td>2700001</td>\n",
       "      <td>прораб великий устюг</td>\n",
       "      <td>None</td>\n",
       "      <td></td>\n",
       "      <td>72dc8d78bbec</td>\n",
       "      <td>None</td>\n",
       "      <td>обязанность взаимодействие субподрядчик предос...</td>\n",
       "      <td>[]</td>\n",
       "      <td>[прораб, великий, устюг]</td>\n",
       "      <td>[-0.050694242, 0.4064839, 0.55667454, -0.16124...</td>\n",
       "    </tr>\n",
       "    <tr>\n",
       "      <th>1</th>\n",
       "      <td>2700002</td>\n",
       "      <td>лаборант электротехнический лаборатория</td>\n",
       "      <td>None</td>\n",
       "      <td>office пользователь деловой общение деловой пе...</td>\n",
       "      <td>ba6dcbd0bcd1</td>\n",
       "      <td>None</td>\n",
       "      <td>связь расширение компания требоваться quot лаб...</td>\n",
       "      <td>[office, пользователь, деловой, общение, делов...</td>\n",
       "      <td>[лаборант, электротехнический, лаборатория]</td>\n",
       "      <td>[-0.19709699, -0.35366777, 0.10756227, 0.23191...</td>\n",
       "    </tr>\n",
       "    <tr>\n",
       "      <th>2</th>\n",
       "      <td>2700003</td>\n",
       "      <td>продавец консультант радуга парк</td>\n",
       "      <td>None</td>\n",
       "      <td>грамотный речь коммуникабельность активный про...</td>\n",
       "      <td>ddc67b017661</td>\n",
       "      <td>None</td>\n",
       "      <td>обязанность консультирование клиент торговый з...</td>\n",
       "      <td>[грамотный, речь, коммуникабельность, активный...</td>\n",
       "      <td>[продавец, консультант, радуга, парк]</td>\n",
       "      <td>[-0.19167374, 0.19502771, 0.16828729, -0.04970...</td>\n",
       "    </tr>\n",
       "    <tr>\n",
       "      <th>3</th>\n",
       "      <td>2700004</td>\n",
       "      <td>тестировщик команда saving products</td>\n",
       "      <td>None</td>\n",
       "      <td></td>\n",
       "      <td>a621c7f876ec</td>\n",
       "      <td>None</td>\n",
       "      <td>команда saving products обеспечивать оформлени...</td>\n",
       "      <td>[]</td>\n",
       "      <td>[тестировщик, команда, saving, products]</td>\n",
       "      <td>[-0.7373982, -0.07595682, 1.0881921, -0.209517...</td>\n",
       "    </tr>\n",
       "    <tr>\n",
       "      <th>7</th>\n",
       "      <td>2700009</td>\n",
       "      <td>сварщик аргонщик ручной дуговой</td>\n",
       "      <td>None</td>\n",
       "      <td>сварочный работа</td>\n",
       "      <td>d4e25650ee12</td>\n",
       "      <td>None</td>\n",
       "      <td>обязанность работа нержавейка толщина стенка д...</td>\n",
       "      <td>[сварочный, работа]</td>\n",
       "      <td>[сварщик, аргонщик, ручной, дуговой]</td>\n",
       "      <td>[-0.27458248, -0.07573847, 0.30837265, 0.08945...</td>\n",
       "    </tr>\n",
       "  </tbody>\n",
       "</table>\n",
       "</div>"
      ],
      "text/plain": [
       "   vacancy_id                                     name specializations  \\\n",
       "0     2700001                     прораб великий устюг            None   \n",
       "1     2700002  лаборант электротехнический лаборатория            None   \n",
       "2     2700003         продавец консультант радуга парк            None   \n",
       "3     2700004      тестировщик команда saving products            None   \n",
       "7     2700009          сварщик аргонщик ручной дуговой            None   \n",
       "\n",
       "                                          key_skills      employer  \\\n",
       "0                                                     72dc8d78bbec   \n",
       "1  office пользователь деловой общение деловой пе...  ba6dcbd0bcd1   \n",
       "2  грамотный речь коммуникабельность активный про...  ddc67b017661   \n",
       "3                                                     a621c7f876ec   \n",
       "7                                   сварочный работа  d4e25650ee12   \n",
       "\n",
       "  groups_of_spec                                     processed_text  \\\n",
       "0           None  обязанность взаимодействие субподрядчик предос...   \n",
       "1           None  связь расширение компания требоваться quot лаб...   \n",
       "2           None  обязанность консультирование клиент торговый з...   \n",
       "3           None  команда saving products обеспечивать оформлени...   \n",
       "7           None  обязанность работа нержавейка толщина стенка д...   \n",
       "\n",
       "                                            key_list  \\\n",
       "0                                                 []   \n",
       "1  [office, пользователь, деловой, общение, делов...   \n",
       "2  [грамотный, речь, коммуникабельность, активный...   \n",
       "3                                                 []   \n",
       "7                                [сварочный, работа]   \n",
       "\n",
       "                                     name_list  \\\n",
       "0                     [прораб, великий, устюг]   \n",
       "1  [лаборант, электротехнический, лаборатория]   \n",
       "2        [продавец, консультант, радуга, парк]   \n",
       "3     [тестировщик, команда, saving, products]   \n",
       "7         [сварщик, аргонщик, ручной, дуговой]   \n",
       "\n",
       "                                         text_vector  \n",
       "0  [-0.050694242, 0.4064839, 0.55667454, -0.16124...  \n",
       "1  [-0.19709699, -0.35366777, 0.10756227, 0.23191...  \n",
       "2  [-0.19167374, 0.19502771, 0.16828729, -0.04970...  \n",
       "3  [-0.7373982, -0.07595682, 1.0881921, -0.209517...  \n",
       "7  [-0.27458248, -0.07573847, 0.30837265, 0.08945...  "
      ]
     },
     "execution_count": 18,
     "metadata": {},
     "output_type": "execute_result"
    }
   ],
   "source": [
    "df_text.head()"
   ]
  },
  {
   "cell_type": "code",
   "execution_count": 17,
   "metadata": {},
   "outputs": [],
   "source": [
    "df_text.to_parquet('df_vector_test.pq')"
   ]
  },
  {
   "cell_type": "code",
   "execution_count": 23,
   "metadata": {},
   "outputs": [],
   "source": [
    "res = model.docvecs.most_similar([df_text.loc[0].text_vector], topn=10)"
   ]
  },
  {
   "cell_type": "code",
   "execution_count": 33,
   "metadata": {},
   "outputs": [],
   "source": [
    "def get_similar(vect):\n",
    "    return model.docvecs.most_similar([vect], topn=3)"
   ]
  },
  {
   "cell_type": "code",
   "execution_count": 3,
   "metadata": {},
   "outputs": [],
   "source": [
    "df_text= pd.read_parquet('df_vector_test.pq')"
   ]
  },
  {
   "cell_type": "code",
   "execution_count": 31,
   "metadata": {},
   "outputs": [
    {
     "name": "stdout",
     "output_type": "stream",
     "text": [
      "CPU times: user 7min 57s, sys: 4.36 s, total: 8min 1s\n",
      "Wall time: 1min 20s\n"
     ]
    },
    {
     "data": {
      "text/plain": [
       "0       [(1295984, 0.7789467573165894)]\n",
       "1       [(2524055, 0.8494123220443726)]\n",
       "2        [(935704, 0.8325062990188599)]\n",
       "3       [(1714067, 0.7315236330032349)]\n",
       "7       [(2426502, 0.8062281012535095)]\n",
       "                     ...               \n",
       "2062    [(1051744, 0.8391262292861938)]\n",
       "2063    [(2686562, 0.8080798387527466)]\n",
       "2064    [(2532126, 0.7068248391151428)]\n",
       "2069    [(1756433, 0.6649709343910217)]\n",
       "2071     [(311097, 0.7944725155830383)]\n",
       "Name: text_vector, Length: 1000, dtype: object"
      ]
     },
     "execution_count": 31,
     "metadata": {},
     "output_type": "execute_result"
    }
   ],
   "source": [
    "%%time\n",
    "df_text.iloc[:1000]['text_vector'].apply(get_similar)"
   ]
  },
  {
   "cell_type": "code",
   "execution_count": 32,
   "metadata": {},
   "outputs": [
    {
     "data": {
      "text/plain": [
       "32.36277777777778"
      ]
     },
     "execution_count": 32,
     "metadata": {},
     "output_type": "execute_result"
    }
   ],
   "source": [
    "df_text.shape[0]/1000*80/3600"
   ]
  },
  {
   "cell_type": "code",
   "execution_count": null,
   "metadata": {},
   "outputs": [],
   "source": [
    "%%time\n",
    "df_text['similar']=df_text['text_vector'].apply(get_similar)"
   ]
  },
  {
   "cell_type": "code",
   "execution_count": null,
   "metadata": {},
   "outputs": [],
   "source": [
    "qq('similarity - done')"
   ]
  },
  {
   "cell_type": "code",
   "execution_count": 25,
   "metadata": {},
   "outputs": [],
   "source": [
    "vac_id = [id for id, sim in res]"
   ]
  },
  {
   "cell_type": "code",
   "execution_count": 26,
   "metadata": {},
   "outputs": [],
   "source": [
    "df_tarin = pd.read_parquet('df_tarin.pq')"
   ]
  },
  {
   "cell_type": "code",
   "execution_count": null,
   "metadata": {},
   "outputs": [],
   "source": []
  },
  {
   "cell_type": "code",
   "execution_count": 35,
   "metadata": {},
   "outputs": [
    {
     "name": "stdout",
     "output_type": "stream",
     "text": [
      "обязанность взаимодействие субподрядчик предоставление фронт работа контроль качество смр срок соответствие утверждать график контроль качество материал использовать работа подрядчик учет выполнять работа субподрядный организация участие подготовка перечень замечание выполнять работа субподрядный организация контроль исполнение замечание дефектный ведомость сбор подрядчик исполнительный документация составление план работа субподрядный организация выявление фактор препятствовать выполнение работа информирование руководитель контроль срок выполнение работа прямой подрядчик застройщик совмещать график работа планирование работа стэп своевременный выявление потребность ресурс участок формирование заявка ресурс выполнение работа сила стэп учет ресурс предоставление первичный отчетность выполнение работа сила стэп контроль исполнение правило инструктаж вверять рабочий начало работа осмотр место производство работа безопасность подтверждение объем работа выполнять субподрядчик подготовка база процентование заказчик взаимодействие геодезический служба проект подготовка исполнительный документация последующий передача заказчик взаимодействие пто проект подготовка исполнительный документация последующий передача заказчик взаимодействие пто проект часть соответствие фактический ситуация рабочий документация требование отличный знание процесс ведение общестроительный работа опыт организация управление данные вид работа опыт выполнение работа собственный сила пользователь office autocad project желательно опыт составление ведение график производство работа клиентоориентированность системность опыт строительство промышленный объект объект реконструкция желательно ответственность активность стрессоустойчивость готовность ненормированный режим работа условие срочный контракт время работа проект год место работа строительный площадка вологодский обл великий устюг пос новатор официальный оформление согласно дневка ненормированный рабочий день 08ч 20ч 08ч 17ч отпуск ежегодный оплачивать календарный день комплект корпоративный спецодежда проект оплата мобильный связь размер руб сей карта корпоративный номер мегафон проживание аренда жилье время проект великий устюг близлежащий населенный пункт полностью прозрачный система оплата труд возможность участие проект компания\n"
     ]
    }
   ],
   "source": [
    "print(df_text.iloc[0].processed_text)"
   ]
  },
  {
   "cell_type": "code",
   "execution_count": null,
   "metadata": {},
   "outputs": [],
   "source": [
    "print(df_tarin[df_tarin.vacancy_id == vac_id[1]].clear_text.values)"
   ]
  }
 ],
 "metadata": {
  "kernelspec": {
   "display_name": "Python 3",
   "language": "python",
   "name": "python3"
  },
  "language_info": {
   "codemirror_mode": {
    "name": "ipython",
    "version": 3
   },
   "file_extension": ".py",
   "mimetype": "text/x-python",
   "name": "python",
   "nbconvert_exporter": "python",
   "pygments_lexer": "ipython3",
   "version": "3.7.6"
  }
 },
 "nbformat": 4,
 "nbformat_minor": 4
}
